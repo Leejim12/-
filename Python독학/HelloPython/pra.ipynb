{
 "cells": [
  {
   "cell_type": "code",
   "execution_count": 10,
   "metadata": {},
   "outputs": [
    {
     "name": "stdout",
     "output_type": "stream",
     "text": [
      "5\n",
      "2\n"
     ]
    },
    {
     "data": {
      "text/plain": [
       "6"
      ]
     },
     "execution_count": 10,
     "metadata": {},
     "output_type": "execute_result"
    }
   ],
   "source": [
    "def solution(a, b, n):\n",
    "    ## a 개 주면 b병 줌.\n",
    "    ## 1개 주면 \n",
    "    ## n : 초기 빈 병 갯수\n",
    "    answer = 0\n",
    "    while(n>2):\n",
    "        BN = (n//a)*b    ## 새로 받을 bottle\n",
    "        n = n - (n//a)*a\n",
    "        n += BN\n",
    "        answer += BN\n",
    "        print(n)\n",
    "    return answer\n",
    "  \n",
    "solution(4,1,20)"
   ]
  },
  {
   "cell_type": "code",
   "execution_count": 14,
   "metadata": {},
   "outputs": [
    {
     "name": "stdout",
     "output_type": "stream",
     "text": [
      "8\n",
      "4\n",
      "2\n"
     ]
    },
    {
     "data": {
      "text/plain": [
       "9"
      ]
     },
     "execution_count": 14,
     "metadata": {},
     "output_type": "execute_result"
    }
   ],
   "source": [
    "def solution(a, b, n):\n",
    "    ## a 개 주면 b병 줌.\n",
    "    ## 1개 주면 \n",
    "    ## n : 초기 빈 병 갯수\n",
    "    answer = 0\n",
    "    while n // a != 0:\n",
    "        new_bottle = (n//a)*b\n",
    "        answer += new_bottle\n",
    "        lend_bottle = (n//a)*a\n",
    "        n = n-lend_bottle+new_bottle\n",
    "        print(n)\n",
    "    return answer\n",
    "  \n",
    "solution(3,1,20)"
   ]
  }
 ],
 "metadata": {
  "kernelspec": {
   "display_name": "base",
   "language": "python",
   "name": "python3"
  },
  "language_info": {
   "codemirror_mode": {
    "name": "ipython",
    "version": 3
   },
   "file_extension": ".py",
   "mimetype": "text/x-python",
   "name": "python",
   "nbconvert_exporter": "python",
   "pygments_lexer": "ipython3",
   "version": "3.9.13"
  },
  "orig_nbformat": 4,
  "vscode": {
   "interpreter": {
    "hash": "ad2bdc8ecc057115af97d19610ffacc2b4e99fae6737bb82f5d7fb13d2f2c186"
   }
  }
 },
 "nbformat": 4,
 "nbformat_minor": 2
}
