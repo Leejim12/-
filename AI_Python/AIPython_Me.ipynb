{
  "nbformat": 4,
  "nbformat_minor": 0,
  "metadata": {
    "colab": {
      "provenance": []
    },
    "kernelspec": {
      "name": "python3",
      "display_name": "Python 3"
    },
    "language_info": {
      "name": "python"
    }
  },
  "cells": [
    {
      "cell_type": "code",
      "source": [],
      "metadata": {
        "id": "B1nRc2yuVLMm"
      },
      "execution_count": null,
      "outputs": []
    },
    {
      "cell_type": "code",
      "execution_count": null,
      "metadata": {
        "colab": {
          "base_uri": "https://localhost:8080/"
        },
        "id": "eLW1oqLYUI02",
        "outputId": "7b6dd5bf-818f-4664-8916-48d71966a5c8"
      },
      "outputs": [
        {
          "output_type": "stream",
          "name": "stdout",
          "text": [
            "Enter first number : 30\n",
            "Enter second number : 100\n",
            "Enter third number : 55\n",
            "Largest Number :  100.\n",
            "Largest Number : 100 .\n"
          ]
        }
      ],
      "source": [
        "firstNumber = eval(input(\"Enter first number : \"))\n",
        "secondNumber = eval(input(\"Enter second number : \"))\n",
        "thirdNumber = eval(input(\"Enter third number : \"))\n",
        "## int와 eval의 차이\n",
        "## eval 사용하면 type이 고정되지 않고 값에 따라 유연하게 바뀜.\n",
        "\n",
        "largest = firstNumber\n",
        "if secondNumber > largest:\n",
        "  largest = secondNumber\n",
        "if thirdNumber > largest:\n",
        "  largest = thirdNumber\n",
        "print('Largest Number : ',str(largest) + '.')\n",
        "print('Largest Number :',largest,'.')"
      ]
    },
    {
      "cell_type": "code",
      "source": [
        "number = 23\n",
        "running = True\n",
        "while running:\n",
        "  guess = int(input('Enter an integer : '))\n",
        "  if guess == number :\n",
        "      print('Answer!!')\n",
        "      running = False\n",
        "  elif guess < number :\n",
        "      print(\"Answer is higher than ur guess\")\n",
        "  else:\n",
        "      print(\"Answer is lower than ur guess\")\n",
        "else:\n",
        "  print('The end of while loop')      \n",
        "print('Done')\n",
        "\n",
        "## can add else in the while roop\n"
      ],
      "metadata": {
        "colab": {
          "base_uri": "https://localhost:8080/"
        },
        "id": "erQaGySbUl62",
        "outputId": "48ef9c6a-eb8f-4dd3-8fb9-c30adb215f6c"
      },
      "execution_count": null,
      "outputs": [
        {
          "output_type": "stream",
          "name": "stdout",
          "text": [
            "Enter an integer : 22\n",
            "Answer is higher than ur guess\n",
            "Enter an integer : 24\n",
            "Answer is lower than ur guess\n",
            "Enter an integer : 23\n",
            "Answer!!\n",
            "The end of while loop\n",
            "Done\n"
          ]
        }
      ]
    },
    {
      "cell_type": "code",
      "source": [
        "count = 0\n",
        "total = 0\n",
        "\n",
        "num = int(input('Enter a nonnegative int:'))\n",
        "min = num\n",
        "max = num\n",
        "\n",
        "while num != -1:\n",
        "  count+=1\n",
        "  total += num\n",
        "  if num < min:\n",
        "    min = num\n",
        "  if num > max:\n",
        "    max = num\n",
        "  num = int(input('Enter a nonnegative int : '))\n",
        "else:\n",
        "  print(count,total,min,max)"
      ],
      "metadata": {
        "colab": {
          "base_uri": "https://localhost:8080/"
        },
        "id": "ITtAe0tXW0bt",
        "outputId": "848f8214-b951-4f51-9d33-21f3907b2061"
      },
      "execution_count": null,
      "outputs": [
        {
          "output_type": "stream",
          "name": "stdout",
          "text": [
            "Enter a nonnegative int:20\n",
            "Enter a nonnegative int : 300\n",
            "Enter a nonnegative int : 1000\n",
            "Enter a nonnegative int : 800\n",
            "Enter a nonnegative int : 1\n",
            "Enter a nonnegative int : -1\n",
            "5 2121 1 1000\n"
          ]
        }
      ]
    },
    {
      "cell_type": "code",
      "source": [
        "eval('1.33')"
      ],
      "metadata": {
        "colab": {
          "base_uri": "https://localhost:8080/"
        },
        "id": "4o7UzOn6WfaV",
        "outputId": "a2f1af09-f076-46b9-f4ff-7a8e6776984c"
      },
      "execution_count": null,
      "outputs": [
        {
          "output_type": "execute_result",
          "data": {
            "text/plain": [
              "1.33"
            ]
          },
          "metadata": {},
          "execution_count": 12
        }
      ]
    },
    {
      "cell_type": "markdown",
      "source": [
        "### For"
      ],
      "metadata": {
        "id": "N1r4prHcYS2d"
      }
    },
    {
      "cell_type": "code",
      "source": [
        "for i in range(1,5):\n",
        "  print(i)\n",
        "else:\n",
        "  print('Loop is over')"
      ],
      "metadata": {
        "colab": {
          "base_uri": "https://localhost:8080/"
        },
        "id": "DORzngvEYUm9",
        "outputId": "0655f739-07c8-41af-98c3-b5e0f72442e6"
      },
      "execution_count": null,
      "outputs": [
        {
          "output_type": "stream",
          "name": "stdout",
          "text": [
            "1\n",
            "2\n",
            "3\n",
            "4\n",
            "Loop is over\n"
          ]
        }
      ]
    },
    {
      "cell_type": "code",
      "source": [
        "for v in range(0,10):\n",
        "  print(v,end='-')\n",
        "print('End')"
      ],
      "metadata": {
        "colab": {
          "base_uri": "https://localhost:8080/"
        },
        "id": "F4UR2rzZZX2N",
        "outputId": "10a12de1-4a21-456a-af3b-025a34ab27de"
      },
      "execution_count": null,
      "outputs": [
        {
          "output_type": "stream",
          "name": "stdout",
          "text": [
            "0-1-2-3-4-5-6-7-8-9-End\n"
          ]
        }
      ]
    },
    {
      "cell_type": "code",
      "source": [
        "numberOfRows = int(input('Enter a number from 1 to 20:'))\n",
        "\n",
        "for i in range(numberOfRows):\n",
        "  for j in range(i+1):\n",
        "    print('*',end='')\n",
        "  print()"
      ],
      "metadata": {
        "colab": {
          "base_uri": "https://localhost:8080/"
        },
        "id": "TARAKQipYcN9",
        "outputId": "e8caeece-6daf-4281-a7d1-2818703ed8d8"
      },
      "execution_count": null,
      "outputs": [
        {
          "output_type": "stream",
          "name": "stdout",
          "text": [
            "Enter a number from 1 to 20:5\n",
            "*\n",
            "**\n",
            "***\n",
            "****\n",
            "*****\n"
          ]
        }
      ]
    },
    {
      "cell_type": "code",
      "source": [
        "a = list(range(1,5))\n",
        "print(a)"
      ],
      "metadata": {
        "colab": {
          "base_uri": "https://localhost:8080/"
        },
        "id": "JyavBRuVYuCF",
        "outputId": "d63c56ca-1256-4f6d-afba-b66e0c5a4fcd"
      },
      "execution_count": null,
      "outputs": [
        {
          "output_type": "stream",
          "name": "stdout",
          "text": [
            "[1, 2, 3, 4]\n"
          ]
        }
      ]
    },
    {
      "cell_type": "code",
      "source": [
        "for i in range(1,10,3):\n",
        "  print(i,end='~~~')"
      ],
      "metadata": {
        "colab": {
          "base_uri": "https://localhost:8080/"
        },
        "id": "CGSwZzP_ZHh1",
        "outputId": "386b676a-9df0-4285-e56b-288515073353"
      },
      "execution_count": null,
      "outputs": [
        {
          "output_type": "stream",
          "name": "stdout",
          "text": [
            "1~~~4~~~7~~~"
          ]
        }
      ]
    },
    {
      "cell_type": "code",
      "source": [
        "word = input('Enter a word:')\n",
        "reversedWord = ''\n",
        "for ch in word:\n",
        "  reversedWord = ch + reversedWord\n",
        "  # by adding in the reversed order, we can change the order for the word.\n",
        "  # Which is good for making other Algorithum\n",
        "print(reversedWord)"
      ],
      "metadata": {
        "colab": {
          "base_uri": "https://localhost:8080/"
        },
        "id": "xervnTK9ZkAV",
        "outputId": "e52f6064-9edf-4739-9cf7-b4ce36331f7a"
      },
      "execution_count": null,
      "outputs": [
        {
          "output_type": "stream",
          "name": "stdout",
          "text": [
            "Enter a word:zeus\n",
            "suez\n"
          ]
        }
      ]
    },
    {
      "cell_type": "code",
      "source": [
        "firstName = input('Enter a first name :: ')\n",
        "foundFlag = False\n",
        "infile = open('USPresidents.txt','r')\n",
        "for line in infile:\n",
        "  if line.startswith(firstName + ' '):\n",
        "    ## 뭘로 시작하는거?\n",
        "    print(line.rstrip()) #rstrip : 오른쪽에 있는거 다 없애줌 (줄바꿈 등)\n",
        "    foundFlag=True\n",
        "infile.close()\n",
        "if not foundFlag:\n",
        "  print(\"There r no one :\",firstName)"
      ],
      "metadata": {
        "colab": {
          "base_uri": "https://localhost:8080/",
          "height": 266
        },
        "id": "4BWRGYcyaxmt",
        "outputId": "f8a5c730-a512-40a1-e8c9-c58a715f9323"
      },
      "execution_count": null,
      "outputs": [
        {
          "name": "stdout",
          "output_type": "stream",
          "text": [
            "Enter a first name :: kim chan\n"
          ]
        },
        {
          "output_type": "error",
          "ename": "FileNotFoundError",
          "evalue": "ignored",
          "traceback": [
            "\u001b[0;31m---------------------------------------------------------------------------\u001b[0m",
            "\u001b[0;31mFileNotFoundError\u001b[0m                         Traceback (most recent call last)",
            "\u001b[0;32m<ipython-input-1-2e5c5e0a00db>\u001b[0m in \u001b[0;36m<module>\u001b[0;34m\u001b[0m\n\u001b[1;32m      1\u001b[0m \u001b[0mfirstName\u001b[0m \u001b[0;34m=\u001b[0m \u001b[0minput\u001b[0m\u001b[0;34m(\u001b[0m\u001b[0;34m'Enter a first name :: '\u001b[0m\u001b[0;34m)\u001b[0m\u001b[0;34m\u001b[0m\u001b[0;34m\u001b[0m\u001b[0m\n\u001b[1;32m      2\u001b[0m \u001b[0mfoundFlag\u001b[0m \u001b[0;34m=\u001b[0m \u001b[0;32mFalse\u001b[0m\u001b[0;34m\u001b[0m\u001b[0;34m\u001b[0m\u001b[0m\n\u001b[0;32m----> 3\u001b[0;31m \u001b[0minfile\u001b[0m \u001b[0;34m=\u001b[0m \u001b[0mopen\u001b[0m\u001b[0;34m(\u001b[0m\u001b[0;34m'USPresidents.txt'\u001b[0m\u001b[0;34m,\u001b[0m\u001b[0;34m'r'\u001b[0m\u001b[0;34m)\u001b[0m\u001b[0;34m\u001b[0m\u001b[0;34m\u001b[0m\u001b[0m\n\u001b[0m\u001b[1;32m      4\u001b[0m \u001b[0;32mfor\u001b[0m \u001b[0mline\u001b[0m \u001b[0;32min\u001b[0m \u001b[0minfile\u001b[0m\u001b[0;34m:\u001b[0m\u001b[0;34m\u001b[0m\u001b[0;34m\u001b[0m\u001b[0m\n\u001b[1;32m      5\u001b[0m   \u001b[0;32mif\u001b[0m \u001b[0mline\u001b[0m\u001b[0;34m.\u001b[0m\u001b[0mstartswith\u001b[0m\u001b[0;34m(\u001b[0m\u001b[0mfirstName\u001b[0m \u001b[0;34m+\u001b[0m \u001b[0;34m' '\u001b[0m\u001b[0;34m)\u001b[0m\u001b[0;34m:\u001b[0m\u001b[0;34m\u001b[0m\u001b[0;34m\u001b[0m\u001b[0m\n",
            "\u001b[0;31mFileNotFoundError\u001b[0m: [Errno 2] No such file or directory: 'USPresidents.txt'"
          ]
        }
      ]
    },
    {
      "cell_type": "code",
      "source": [
        "infile = open('USPresidents.txt','r')\n",
        "for line in infile:\n",
        "  pass\n",
        "## pass 는 아무것도 안함\n",
        "print(line.rstrip())\n",
        "## 커서만 제일 마지막 line으로 이동했음. ==> rstrip()으로 없앰.\n",
        "infile.close()"
      ],
      "metadata": {
        "colab": {
          "base_uri": "https://localhost:8080/"
        },
        "id": "ju5WcCwJb7ql",
        "outputId": "ec40f1bd-b5e9-45fc-a670-9bb9a6d1f6f7"
      },
      "execution_count": null,
      "outputs": [
        {
          "output_type": "stream",
          "name": "stdout",
          "text": [
            "Barack Obama\n"
          ]
        }
      ]
    },
    {
      "cell_type": "code",
      "source": [
        "print('Enter QUIT to terminate enterinng something')\n",
        "while True:\n",
        "  s = input('Enter Something : ')\n",
        "  if s == 'QUIT' or s =='quit':\n",
        "    break\n",
        "  print('Length of s :',len(s))\n",
        "print('Done')"
      ],
      "metadata": {
        "colab": {
          "base_uri": "https://localhost:8080/"
        },
        "id": "KtYMKkfrdNNu",
        "outputId": "ce7d1004-3258-43e6-9889-d600ffbf3ace"
      },
      "execution_count": null,
      "outputs": [
        {
          "output_type": "stream",
          "name": "stdout",
          "text": [
            "Enter QUIT to terminate enterinng something\n",
            "Enter Something : quit\n",
            "Done\n"
          ]
        }
      ]
    },
    {
      "cell_type": "code",
      "source": [
        "while True:\n",
        "  s = input('Enter Something:')\n",
        "  if s == 'quit':\n",
        "    break\n",
        "  if len(s) < 3:\n",
        "    print('Too short')\n",
        "    continue # 뒤에 줄 무시하고 루프 처음으로 돌아가라\n",
        "  print('Input is of sufficient length')"
      ],
      "metadata": {
        "colab": {
          "base_uri": "https://localhost:8080/"
        },
        "id": "7G4sn_pmgDAz",
        "outputId": "4306b67c-e74d-474a-ac12-fd40130b029e"
      },
      "execution_count": null,
      "outputs": [
        {
          "name": "stdout",
          "output_type": "stream",
          "text": [
            "Enter Something:sd\n",
            "Too short\n",
            "Enter Something:sdf\n",
            "Input is of sufficient length\n",
            "Enter Something:123\n",
            "Input is of sufficient length\n",
            "Enter Something:12\n",
            "Too short\n",
            "Enter Something:quit\n"
          ]
        }
      ]
    },
    {
      "cell_type": "markdown",
      "source": [
        "### Data Structure"
      ],
      "metadata": {
        "id": "208R8XqnjmTi"
      }
    },
    {
      "cell_type": "code",
      "source": [
        "shoplist=['apple','mango','carrot','banana']\n",
        "print('I have {0} items to purchase.'.format(len(shoplist)))\n",
        "print('These items are :', end = '')\n",
        "for item in shoplist:\n",
        "  print(item,end='')\n",
        "print('\\nI alse have to buy rice')\n",
        "shoplist.append('rice')\n",
        "print('My list is now',shoplist)\n",
        "\n",
        "print('Sort')\n",
        "shoplist.sort()\n",
        "print('Sorted list : ',shoplist)\n",
        "\n",
        "print('first item', shoplist[0])\n",
        "olditem = shoplist[0]\n",
        "del shoplist[0]\n",
        "print('bought : ' ,olditem)\n",
        "print('current list : ',shoplist)"
      ],
      "metadata": {
        "colab": {
          "base_uri": "https://localhost:8080/"
        },
        "id": "S9i3_fmOj420",
        "outputId": "fcf548df-8e53-499a-f42d-de6f94885d9a"
      },
      "execution_count": null,
      "outputs": [
        {
          "output_type": "stream",
          "name": "stdout",
          "text": [
            "I have 4 items to purchase.\n",
            "These items are :applemangocarrotbanana\n",
            "I alse have to buy rice\n",
            "My list is now ['apple', 'mango', 'carrot', 'banana', 'rice']\n",
            "Sort\n",
            "Sorted list :  ['apple', 'banana', 'carrot', 'mango', 'rice']\n",
            "first item apple\n",
            "bought :  apple\n",
            "current list :  ['banana', 'carrot', 'mango', 'rice']\n"
          ]
        }
      ]
    },
    {
      "cell_type": "code",
      "source": [],
      "metadata": {
        "id": "UKgJLfsLj4xy"
      },
      "execution_count": null,
      "outputs": []
    },
    {
      "cell_type": "code",
      "source": [
        "team = ['seahawks',2015,'CenturyLink Field']\n",
        "nums = [5,10,4,5]\n",
        "words = ['spam','ni']\n",
        "\n",
        "# max(nums)\n",
        "# min(nums)\n",
        "\n",
        "sum(nums)\n",
        "nums.count(5)\n",
        "nums.index(4)\n",
        "words.reverse()\n",
        "words\n",
        "\n",
        "nums.append(7)\n",
        "nums\n",
        "nums.extend([1,2])\n",
        "nums\n",
        "nums.remove(5)\n",
        "nums\n",
        "\n",
        "del nums[1:3]\n",
        "nums\n",
        "# [10, 7, 1, 2]\n",
        "\n",
        "words.insert(1,'wink')\n",
        "words\n",
        "['a',1]+[2,'b']\n",
        "[0]*3\n"
      ],
      "metadata": {
        "colab": {
          "base_uri": "https://localhost:8080/"
        },
        "id": "niyU7pUrhuuN",
        "outputId": "0bdc3c15-46b0-4610-be9e-0648129e4167"
      },
      "execution_count": null,
      "outputs": [
        {
          "output_type": "execute_result",
          "data": {
            "text/plain": [
              "[0, 0, 0]"
            ]
          },
          "metadata": {},
          "execution_count": 63
        }
      ]
    },
    {
      "cell_type": "code",
      "source": [
        "line = ['To','be','or','not','to','be']\n",
        "string = ''.join(line)\n",
        "print(string)\n",
        "krispies = ['snap','Crackle','Pop']\n",
        "print(','.join(krispies))"
      ],
      "metadata": {
        "colab": {
          "base_uri": "https://localhost:8080/"
        },
        "id": "QheIqTTMiuDN",
        "outputId": "57297986-1121-4a1d-81ad-045786608ba4"
      },
      "execution_count": null,
      "outputs": [
        {
          "output_type": "stream",
          "name": "stdout",
          "text": [
            "Tobeornottobe\n",
            "snap,Crackle,Pop\n"
          ]
        }
      ]
    },
    {
      "cell_type": "code",
      "source": [
        "zoo = ('python','elephant','penguin')\n",
        "print('Numbers of animals : ',len(zoo))\n",
        "\n",
        "new_zoo = 'monkey','camel',zoo\n",
        "print(new_zoo)\n",
        "print(len(new_zoo))\n",
        "print(new_zoo[2])\n",
        "print(new_zoo[2][2])\n",
        "print('Numbers of animals : ',len(new_zoo)-1+len(new_zoo[2]))"
      ],
      "metadata": {
        "colab": {
          "base_uri": "https://localhost:8080/"
        },
        "id": "65iP8DR7l1Nc",
        "outputId": "fd778f44-6fff-4de7-f320-730faad425d2"
      },
      "execution_count": null,
      "outputs": [
        {
          "output_type": "stream",
          "name": "stdout",
          "text": [
            "Numbers of animals :  3\n",
            "('monkey', 'camel', ('python', 'elephant', 'penguin'))\n",
            "3\n",
            "('python', 'elephant', 'penguin')\n",
            "penguin\n",
            "Numbers of animals :  5\n"
          ]
        }
      ]
    },
    {
      "cell_type": "code",
      "source": [
        "t=('a','b','c')\n",
        "t\n",
        "t = 'a','b','c'\n",
        "t \n",
        "t2 = 1,2\n",
        "type(t2)\n",
        "\n",
        "t3 = 1,\n",
        "type(t3)"
      ],
      "metadata": {
        "colab": {
          "base_uri": "https://localhost:8080/"
        },
        "id": "wPtxQ68MnJ6c",
        "outputId": "fdceb9fa-ec3c-4021-9655-35c72a8c7abb"
      },
      "execution_count": null,
      "outputs": [
        {
          "output_type": "execute_result",
          "data": {
            "text/plain": [
              "tuple"
            ]
          },
          "metadata": {},
          "execution_count": 76
        }
      ]
    },
    {
      "cell_type": "code",
      "source": [
        "x=5\n",
        "y=6\n",
        "x,y = y,x\n",
        "print(x,y)"
      ],
      "metadata": {
        "colab": {
          "base_uri": "https://localhost:8080/"
        },
        "id": "i0yOOmJ0m_aU",
        "outputId": "e3060765-7ddc-4f32-8764-68162adc2d3c"
      },
      "execution_count": null,
      "outputs": [
        {
          "output_type": "stream",
          "name": "stdout",
          "text": [
            "6 5\n"
          ]
        }
      ]
    },
    {
      "cell_type": "code",
      "source": [
        "shoplist = ['apple','mango','carrot','banana']\n",
        "shoplist[::1] ## 1개씩\n",
        "shoplist[::2]\n",
        "shoplist[::3]\n",
        "shoplist[::-1]\n",
        "shoplist[::-2]\n",
        "shoplist[::]\n"
      ],
      "metadata": {
        "colab": {
          "base_uri": "https://localhost:8080/"
        },
        "id": "TrmjCmD3nrd8",
        "outputId": "802b7cdb-579e-43e6-af8d-757a8e553923"
      },
      "execution_count": null,
      "outputs": [
        {
          "output_type": "execute_result",
          "data": {
            "text/plain": [
              "['apple', 'mango', 'carrot', 'banana']"
            ]
          },
          "metadata": {},
          "execution_count": 83
        }
      ]
    },
    {
      "cell_type": "code",
      "source": [
        "regions = [('Northeast',55.3),('Midwest',66.9),('South',114.6),('West',71.9)]\n",
        "print('The 2010 population of the', regions[2][0], 'was',regions[2][1],'millions')\n",
        "\n",
        "totalPop = 0\n",
        "for i in regions:\n",
        "  totalPop += i[1]\n",
        "totalPop\n",
        "print('Total population of the us : {0:3.1f} million.'.format(totalPop))"
      ],
      "metadata": {
        "colab": {
          "base_uri": "https://localhost:8080/"
        },
        "id": "AjJmt02unvl1",
        "outputId": "f19988f5-d179-4378-d048-e78d6da9e6d1"
      },
      "execution_count": null,
      "outputs": [
        {
          "output_type": "stream",
          "name": "stdout",
          "text": [
            "The 2010 population of the South was 114.6 millions\n",
            "Total population of the us : 308.7 million.\n"
          ]
        }
      ]
    },
    {
      "cell_type": "code",
      "source": [
        "list(('a','b'))\n",
        "list(\"Python\")\n",
        "\"Python\".split()\n",
        "\"P y t h o n\".split(' ')\n",
        "\"P y t h o n\".split()"
      ],
      "metadata": {
        "colab": {
          "base_uri": "https://localhost:8080/"
        },
        "id": "uqSsoKqCpYtU",
        "outputId": "c7db0c27-eaba-4491-c713-156c5d197d70"
      },
      "execution_count": null,
      "outputs": [
        {
          "output_type": "execute_result",
          "data": {
            "text/plain": [
              "['P', 'y', 't', 'h', 'o', 'n']"
            ]
          },
          "metadata": {},
          "execution_count": 92
        }
      ]
    },
    {
      "cell_type": "code",
      "source": [
        "print('Simple Assignment')\n",
        "shoplist = ['apple','mango','carrot','banana']\n",
        "mylist = shoplist\n",
        "print('mylist : ',mylist)\n",
        "del mylist[0] \n",
        "print('shoplist : ', shoplist)\n",
        "print('mylist : ',mylist)\n",
        "\n",
        "print('Copy by making a full slice')\n",
        "mylist = shoplist[:] ## full slicing 이용 => 간단하게 복사"
      ],
      "metadata": {
        "colab": {
          "base_uri": "https://localhost:8080/"
        },
        "id": "UmkQHykUp8VU",
        "outputId": "7a1a66e6-a371-4bcd-d9ca-0946dacce6fa"
      },
      "execution_count": null,
      "outputs": [
        {
          "output_type": "stream",
          "name": "stdout",
          "text": [
            "Simple Assignment\n",
            "mylist :  ['apple', 'mango', 'carrot', 'banana']\n",
            "shoplist :  ['mango', 'carrot', 'banana']\n",
            "mylist :  ['mango', 'carrot', 'banana']\n",
            "Copy by making a full slice\n"
          ]
        }
      ]
    },
    {
      "cell_type": "code",
      "source": [
        "# 이거 써서 reverse 할 수 있음.\n",
        "RVzeus = 'zeus'[::-1]\n",
        "RVzeus"
      ],
      "metadata": {
        "colab": {
          "base_uri": "https://localhost:8080/",
          "height": 35
        },
        "id": "mUe5LkmDqYlM",
        "outputId": "b4105bdc-a178-4d68-ab37-875d57e72f6d"
      },
      "execution_count": null,
      "outputs": [
        {
          "output_type": "execute_result",
          "data": {
            "text/plain": [
              "'suez'"
            ],
            "application/vnd.google.colaboratory.intrinsic+json": {
              "type": "string"
            }
          },
          "metadata": {},
          "execution_count": 95
        }
      ]
    },
    {
      "cell_type": "code",
      "source": [
        "## 같은 내용을 가진 다른 객체 쓰고싶으면 copy를 해야함.\n",
        "x = [1,2,3,4]\n",
        "y = x\n",
        "z = x[:]\n",
        "x.append(5)\n",
        "y\n",
        "z\n",
        "w = y.copy()\n",
        "del y[0]\n",
        "x\n",
        "y\n",
        "z\n",
        "w"
      ],
      "metadata": {
        "colab": {
          "base_uri": "https://localhost:8080/"
        },
        "id": "qpcBjxPS6N5b",
        "outputId": "e83f5def-2819-4b2f-cc3b-45fe1ab7cc25"
      },
      "execution_count": null,
      "outputs": [
        {
          "output_type": "execute_result",
          "data": {
            "text/plain": [
              "[1, 2, 3, 4, 5]"
            ]
          },
          "metadata": {},
          "execution_count": 107
        }
      ]
    },
    {
      "cell_type": "code",
      "source": [
        "name = 'Swaroop'\n",
        "\n",
        "if name.startswith('Swa'):\n",
        "  print('Yes, the string starts with \"Swa\"')\n",
        "if 'a' in name:\n",
        "  print('Yes, it contains the character \"a\"')\n",
        "if name.find('war') != -1:\n",
        "  print('Yes, it contains the string \"War\"')\n",
        "\n",
        "delimiter = '_*_'\n",
        "mylist = ['Brazil','Russia','India','China']\n",
        "print(delimiter.join(mylist))"
      ],
      "metadata": {
        "colab": {
          "base_uri": "https://localhost:8080/"
        },
        "id": "DCYHEeXe68ca",
        "outputId": "40e808ad-9ab8-40bb-920a-b43225387839"
      },
      "execution_count": null,
      "outputs": [
        {
          "output_type": "stream",
          "name": "stdout",
          "text": [
            "Yes, the string starts with \"Swa\"\n",
            "Yes, it contains the character \"a\"\n",
            "Yes, it contains the string \"War\"\n",
            "Brazil_*_Russia_*_India_*_China\n"
          ]
        }
      ]
    },
    {
      "cell_type": "markdown",
      "source": [
        "4 Function"
      ],
      "metadata": {
        "id": "ENo2hPWy8kiI"
      }
    },
    {
      "cell_type": "code",
      "source": [
        "def print_max(a,b):\n",
        "  \"\"\"\n",
        "  이 함수는 print_max 라는 함수이다.\n",
        "  사용법은 알아서 하시오.\n",
        "  \"\"\"\n",
        "  if a>b:\n",
        "    print(a, 'is max')\n",
        "  elif a == b:\n",
        "    print(a, 'is equal to', b)\n",
        "  else:\n",
        "    print(b,'is max')\n",
        "\n",
        "print_max(5,6)"
      ],
      "metadata": {
        "colab": {
          "base_uri": "https://localhost:8080/"
        },
        "id": "tH58lm948YBz",
        "outputId": "39860ac4-3bb2-41ac-bfd8-d690ff0c9aa7"
      },
      "execution_count": null,
      "outputs": [
        {
          "output_type": "stream",
          "name": "stdout",
          "text": [
            "6 is max\n"
          ]
        }
      ]
    },
    {
      "cell_type": "code",
      "source": [
        "help(print_max)"
      ],
      "metadata": {
        "colab": {
          "base_uri": "https://localhost:8080/"
        },
        "id": "WRD6FIdVkpj_",
        "outputId": "a973d71f-ef1c-4830-c2eb-2065c7d3f2e8"
      },
      "execution_count": null,
      "outputs": [
        {
          "output_type": "stream",
          "name": "stdout",
          "text": [
            "Help on function print_max in module __main__:\n",
            "\n",
            "print_max(a, b)\n",
            "    이 함수는 print_max 라는 함수이다.\n",
            "    사용법은 알아서 하시오.\n",
            "\n"
          ]
        }
      ]
    },
    {
      "cell_type": "code",
      "source": [
        "# max\n",
        "def maximum(x,y):\n",
        "  if x>y:\n",
        "    return x\n",
        "  elif x==y:\n",
        "    return 'The numbers are equal'\n",
        "  else:\n",
        "    return y\n",
        "\n",
        "print(maximum(2,3))\n",
        "print(maximum(5,5))\n"
      ],
      "metadata": {
        "colab": {
          "base_uri": "https://localhost:8080/"
        },
        "id": "VhB0fFIG8_Nx",
        "outputId": "29810c77-27eb-4cd0-a576-42040f87c2a8"
      },
      "execution_count": null,
      "outputs": [
        {
          "output_type": "stream",
          "name": "stdout",
          "text": [
            "3\n",
            "The numbers are equal\n"
          ]
        }
      ]
    },
    {
      "cell_type": "code",
      "source": [
        "# return None\n",
        "def f():\n",
        "  return\n",
        "print(f())"
      ],
      "metadata": {
        "colab": {
          "base_uri": "https://localhost:8080/"
        },
        "id": "PW_TLtU19d_7",
        "outputId": "9d38873a-ab43-4c18-e8e2-3d48215f26d1"
      },
      "execution_count": null,
      "outputs": [
        {
          "output_type": "stream",
          "name": "stdout",
          "text": [
            "None\n"
          ]
        }
      ]
    },
    {
      "cell_type": "code",
      "source": [
        "# Scope of Variables\n",
        "x = 50\n",
        "\n",
        "  ## local variable\n",
        "def func(x):\n",
        "  print('x is', x)\n",
        "  x = 2\n",
        "  print('changed local x to', x)\n",
        "\n",
        "func(x)\n",
        "print('x is still', x)"
      ],
      "metadata": {
        "colab": {
          "base_uri": "https://localhost:8080/"
        },
        "id": "TfhsqNqf9keK",
        "outputId": "d0deb8f0-0eaa-4897-98b3-921e53d8fe12"
      },
      "execution_count": null,
      "outputs": [
        {
          "output_type": "stream",
          "name": "stdout",
          "text": [
            "x is 50\n",
            "changed local x to 2\n",
            "x is still 50\n"
          ]
        }
      ]
    },
    {
      "cell_type": "code",
      "source": [
        "def trivial():\n",
        "  x = 3\n",
        "  print(str(x) + \":function trivial\")\n",
        "\n",
        "def main():\n",
        "  x = 2\n",
        "  print(str(x) + \":function main\")\n",
        "  trivial()\n",
        "  print(str(x) + \":function main\")\n",
        "\n",
        "main()"
      ],
      "metadata": {
        "colab": {
          "base_uri": "https://localhost:8080/"
        },
        "id": "lIewyEUN9_si",
        "outputId": "8710ad57-623a-4f07-d8ac-63e797d4aa11"
      },
      "execution_count": null,
      "outputs": [
        {
          "output_type": "stream",
          "name": "stdout",
          "text": [
            "2:function main\n",
            "3:function trivial\n",
            "2:function main\n"
          ]
        }
      ]
    },
    {
      "cell_type": "code",
      "source": [
        "x = 50\n",
        "\n",
        "def main():\n",
        "  func()\n",
        "  print('Value of x is',x)\n",
        "def func():\n",
        "  global x\n",
        "  print('x is',x)\n",
        "  x = 2\n",
        "  print('changed global x to',x)\n",
        "\n",
        "main()"
      ],
      "metadata": {
        "colab": {
          "base_uri": "https://localhost:8080/"
        },
        "id": "GPEtuZRKQTaR",
        "outputId": "bd233984-e619-4eb9-a569-150b915c50a5"
      },
      "execution_count": null,
      "outputs": [
        {
          "output_type": "stream",
          "name": "stdout",
          "text": [
            "x is 50\n",
            "changed global x to 2\n",
            "Value of x is 2\n"
          ]
        }
      ]
    },
    {
      "cell_type": "code",
      "source": [
        "# INTEREST_RATE = 0.04\n",
        "# MINIMUN_VOLTING_AGE = 18\n",
        "\n",
        "# interestEarned = INTEREST_RATE*amountDeposited\n",
        "\n",
        "# if(age >= MINIMUN_VOLTING_AGE):\n",
        "#   print(\"You r eligible to vote.\")"
      ],
      "metadata": {
        "id": "2xXAuYWIQpit"
      },
      "execution_count": null,
      "outputs": []
    },
    {
      "cell_type": "code",
      "source": [
        "# find first name\n",
        "def main():\n",
        "  fullName = input(\"Enter a person's full name : \")\n",
        "  print(\"First name:\",firstName(fullName))\n",
        "\n",
        "def firstName(fullName):\n",
        "  lastSpace = fullName.rfind(\" \")\n",
        "  givenName = fullName[:lastSpace]\n",
        "  return givenName\n",
        "\n",
        "main()"
      ],
      "metadata": {
        "colab": {
          "base_uri": "https://localhost:8080/"
        },
        "id": "b85rHlc-RbDw",
        "outputId": "e4609be6-3507-4bbe-c2ee-e98fec7aea9c"
      },
      "execution_count": null,
      "outputs": [
        {
          "output_type": "stream",
          "name": "stdout",
          "text": [
            "Enter a person's full name : sss sfdas asfdczxcx\n",
            "First name: sss sfdas\n"
          ]
        }
      ]
    },
    {
      "cell_type": "code",
      "source": [
        "# find first name\n",
        "def main():\n",
        "  fullName = input(\"Enter a person's full name : \")\n",
        "  print(\"First name:\",firstName(fullName))\n",
        "\n",
        "def firstName(fullName):\n",
        "  firstSpace = fullName.find(\" \")\n",
        "  givenName = fullName[:firstSpace]\n",
        "  return givenName\n",
        "\n",
        "main()"
      ],
      "metadata": {
        "colab": {
          "base_uri": "https://localhost:8080/"
        },
        "id": "ZYozvWfcMP7z",
        "outputId": "6a53e697-80bd-416b-af3f-b403877ef8c8"
      },
      "execution_count": null,
      "outputs": [
        {
          "output_type": "stream",
          "name": "stdout",
          "text": [
            "Enter a person's full name : asdasd asd\n",
            "First name: asdasd\n"
          ]
        }
      ]
    },
    {
      "cell_type": "code",
      "source": [
        "def main():\n",
        "  hourlyWage = eval(input(\"Enter the hourly wage : \"))\n",
        "  hoursWorked = eval(input(\"Enter # hours worked : \"))\n",
        "  earnings = pay(hourlyWage, hoursWorked)\n",
        "  print(\"Earnings : ${0:,.2f}\".format(earnings))\n",
        "\n",
        "def pay(wage,hours):\n",
        "  if hours<=40:\n",
        "    amount = wage * hours\n",
        "  else:\n",
        "    amount = (wage*40)+((1.5)*wage*(hours-40))\n",
        "  return amount\n",
        "main()"
      ],
      "metadata": {
        "colab": {
          "base_uri": "https://localhost:8080/"
        },
        "id": "cEPpkDCXSGyA",
        "outputId": "491bdf27-3ef5-43b9-c96d-553072567ea4"
      },
      "execution_count": null,
      "outputs": [
        {
          "output_type": "stream",
          "name": "stdout",
          "text": [
            "Enter the hourly wage : 24.50\n",
            "Enter # hours worked : 45\n",
            "Earnings : $1,163.75\n"
          ]
        }
      ]
    },
    {
      "cell_type": "markdown",
      "source": [
        "occuringVowels(word)\n",
        "==>"
      ],
      "metadata": {
        "id": "Nioa1TG6OCbz"
      }
    },
    {
      "cell_type": "code",
      "source": [
        "def main():\n",
        "  word = input(\"Enter a word : \")\n",
        "  listOfVowels = occurringVowels(word)\n",
        "  print(\"The following vowels occur in the word:\",end = '')\n",
        "  stringOfVowels = \"\".join(listOfVowels)\n",
        "  print(stringOfVowels)\n",
        "\n",
        "def occurringVowels(word):\n",
        "  word = word.upper()\n",
        "  vowels=('A','E','I','O','U')\n",
        "  includedVowels = []\n",
        "  for vowel in vowels:\n",
        "    if (vowel in word) and (vowel not in includedVowels):\n",
        "      includedVowels.append(vowel)\n",
        "  return includedVowels\n",
        "main()"
      ],
      "metadata": {
        "colab": {
          "base_uri": "https://localhost:8080/"
        },
        "id": "YT5kfsvUWHFi",
        "outputId": "3a65aded-00b0-4cd0-c935-0f0e6b481d30"
      },
      "execution_count": null,
      "outputs": [
        {
          "output_type": "stream",
          "name": "stdout",
          "text": [
            "Enter a word : dfsd sdaas\n",
            "The following vowels occur in the word:A\n"
          ]
        }
      ]
    },
    {
      "cell_type": "code",
      "source": [
        "def occuringVowels(word):\n",
        "  word = word.upper()\n",
        "  VOWELS=('A','E','I','O','U')\n",
        "  includedVowels = []\n",
        "  for vowel in VOWELS:\n",
        "    if(vowel in word) and (vowel not in includedVowels):\n",
        "      includedVowels.append(vowel)\n",
        "  return includedVowels\n",
        "\n",
        "def main():\n",
        "  word = input(\"Enter a word:\")\n",
        "  listOfVowels = occuringVowels(word)\n",
        "  print(\"The following vowels occur in the word:\",end=\"\")\n",
        "  listOfVowels.sort()\n",
        "  stringOfVowels = \"\".join(listOfVowels)\n",
        "  print(stringOfVowels)\n",
        "\n",
        "main()"
      ],
      "metadata": {
        "colab": {
          "base_uri": "https://localhost:8080/"
        },
        "id": "7gxcizZLOSTK",
        "outputId": "977994d1-bbe7-49db-c348-16bb3013fb79"
      },
      "execution_count": null,
      "outputs": [
        {
          "output_type": "stream",
          "name": "stdout",
          "text": [
            "Enter a word:important\n",
            "The following vowels occur in the word:AIO\n"
          ]
        }
      ]
    },
    {
      "cell_type": "code",
      "source": [
        "INTEREST_RATE = .04 # namedConstant\n",
        "# 은행이자\n",
        "def main():\n",
        "  (deposit,numberOfYears) = getInput()\n",
        "  bal,intEarned = balAndInterest(deposit,numberOfYears)\n",
        "  displayOutput(bal,intEarned)\n",
        "def getInput():\n",
        "  deposit = eval(input(\"Enter the amount of deposit:\"))\n",
        "  numberOfYears = eval(input(\"Enter # of years : \"))\n",
        "  return (deposit,numberOfYears)\n",
        "def balAndInterest(principal,numYears): # 원금, 기간\n",
        "  balance = principal *((1 + INTEREST_RATE)**numYears)\n",
        "  interestEarned = balance - principal\n",
        "  return (balance,interestEarned)\n",
        "def displayOutput(bal,intEarned):\n",
        "  print(\"Balance: ${0:,.2f} Interest Earned : ${1:,.2f}\"\n",
        "  .format(bal,intEarned))\n",
        "\n",
        "main()"
      ],
      "metadata": {
        "colab": {
          "base_uri": "https://localhost:8080/"
        },
        "id": "3rjXqrGMe8HA",
        "outputId": "a58e0fe2-dbf0-4d22-89d1-9ae055c3bf02"
      },
      "execution_count": null,
      "outputs": [
        {
          "output_type": "stream",
          "name": "stdout",
          "text": [
            "Enter the amount of deposit:10000\n",
            "Enter # of years : 10\n",
            "Balance: $14,802.44 Interest Earned : $4,802.44\n"
          ]
        }
      ]
    },
    {
      "cell_type": "code",
      "source": [
        "def main():\n",
        "  list1 = [\"democratic\",\"sequuoia\",\"equals\",\"brrr\",\"break\",\"two\"]\n",
        "  list1.sort(key=len)\n",
        "  print(\"Sorted by length in ascending order:\")\n",
        "  print(list1,'\\n')\n",
        "  list1.sort(key=numberOfVowels,reverse=True)\n",
        "  print(\"Sorted by number of vowels in descending order:\")\n",
        "  print(list1)\n",
        "\n",
        "def numberOfVowels(word):\n",
        "  vowels = ('a','e','i','o','u')\n",
        "  total = 0\n",
        "  for vowel in vowels:\n",
        "    total += word.count(vowel)\n",
        "  return total\n",
        "main()"
      ],
      "metadata": {
        "colab": {
          "base_uri": "https://localhost:8080/"
        },
        "id": "MKAZHmheiZho",
        "outputId": "0623be09-3f59-4599-fe8b-89bb72ceb9cf"
      },
      "execution_count": null,
      "outputs": [
        {
          "output_type": "stream",
          "name": "stdout",
          "text": [
            "['two', 'brrr', 'break', 'equals', 'sequuoia', 'democratic'] Test\n",
            "Sorted by length in ascending order:\n",
            "['two', 'brrr', 'break', 'equals', 'sequuoia', 'democratic'] \n",
            "\n",
            "Sorted by number of vowels in descending order:\n",
            "['sequuoia', 'democratic', 'equals', 'break', 'two', 'brrr']\n"
          ]
        }
      ]
    },
    {
      "cell_type": "code",
      "source": [
        "list1 = ['white','blue','red']\n",
        "list2 = sorted(list1)\n",
        "list2\n",
        "sorted(list1,reverse = True)\n",
        "sorted(list1,key=len)\n",
        "list1\n",
        "sorted('spam')"
      ],
      "metadata": {
        "colab": {
          "base_uri": "https://localhost:8080/"
        },
        "id": "Lc3rL0oejED_",
        "outputId": "66a366de-ca3f-4275-96fd-699885d44eef"
      },
      "execution_count": null,
      "outputs": [
        {
          "output_type": "execute_result",
          "data": {
            "text/plain": [
              "['a', 'm', 'p', 's']"
            ]
          },
          "metadata": {},
          "execution_count": 134
        }
      ]
    },
    {
      "cell_type": "markdown",
      "source": [
        "모듈\n",
        "(1) from random import randint, choice\n",
        ":: 메소드 두개만 ()\n",
        "(2) from random import *\n",
        ":: 랜덤에 있는거 다\n",
        "(3) import random\n",
        ":: random.sss() 요런식으로 써야함."
      ],
      "metadata": {
        "id": "rogKAxuQU8QL"
      }
    },
    {
      "cell_type": "code",
      "source": [
        "import finance\n",
        "## 수업 따라가기\n",
        "def main():\n",
        "  hourlyWage = float(input(\"Enter the hourly wage:\"))\n",
        "  hoursWorked = int(input(\"Enter # hours worked:\"))\n",
        "  earnings = finance.pay(hourlyWage,hoursWorked)\n",
        "  print(\"Earnings : ${0:,.2f}\".format(earnings))\n",
        "main()"
      ],
      "metadata": {
        "colab": {
          "base_uri": "https://localhost:8080/"
        },
        "id": "rJsRnbtojZRX",
        "outputId": "fcea6564-5bfc-491c-d013-48c39b188b0e"
      },
      "execution_count": null,
      "outputs": [
        {
          "output_type": "stream",
          "name": "stdout",
          "text": [
            "Enter the hourly wage:100.5\n",
            "Enter # hours worked:45\n",
            "Earnings : $4,773.75\n"
          ]
        }
      ]
    },
    {
      "cell_type": "markdown",
      "source": [
        "![image.png](data:image/png;base64,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)"
      ],
      "metadata": {
        "id": "elfe73LlYTMj"
      }
    },
    {
      "cell_type": "code",
      "source": [
        "# List Comprehension\n",
        "list1 = ['2','5','6','7']\n",
        "[int(x) for x in list1]\n",
        "print([int(x+x) for x in list1])\n",
        "\n",
        "def g(x):\n",
        "  return(int(x+x)**2)\n",
        "\n",
        "[g(x) for x in list1]"
      ],
      "metadata": {
        "colab": {
          "base_uri": "https://localhost:8080/"
        },
        "id": "Wbo006TMljOv",
        "outputId": "dfa9f064-fc0c-4068-f9b7-36d422293b83"
      },
      "execution_count": null,
      "outputs": [
        {
          "output_type": "stream",
          "name": "stdout",
          "text": [
            "[22, 55, 66, 77]\n"
          ]
        },
        {
          "output_type": "execute_result",
          "data": {
            "text/plain": [
              "[484, 3025, 4356, 5929]"
            ]
          },
          "metadata": {},
          "execution_count": 28
        }
      ]
    },
    {
      "cell_type": "code",
      "source": [
        "[g(x) for x in list1 if int(x)%2 == 1]"
      ],
      "metadata": {
        "id": "Q7F-7AF9qz6W",
        "colab": {
          "base_uri": "https://localhost:8080/"
        },
        "outputId": "d6befc2e-6fba-4456-a8bc-d438ecf14d89"
      },
      "execution_count": null,
      "outputs": [
        {
          "output_type": "execute_result",
          "data": {
            "text/plain": [
              "[25, 49]"
            ]
          },
          "metadata": {},
          "execution_count": 152
        }
      ]
    },
    {
      "cell_type": "code",
      "source": [
        "[ord(x) for x in \"abc\"]\n",
        "## [97,98,99]\n",
        "[x**.5  for x in (4,-1,9) if x>= 0]\n",
        "## [2.0,3.0]\n",
        "[x ** 2 for x in range(3)]\n",
        "## [0,1,4]"
      ],
      "metadata": {
        "id": "mImL4nfRq7z1",
        "colab": {
          "base_uri": "https://localhost:8080/"
        },
        "outputId": "db9a442e-2991-4bb1-c032-f3d559a8d055"
      },
      "execution_count": null,
      "outputs": [
        {
          "output_type": "execute_result",
          "data": {
            "text/plain": [
              "[0, 1, 4]"
            ]
          },
          "metadata": {},
          "execution_count": 32
        }
      ]
    },
    {
      "cell_type": "code",
      "source": [
        "print(ord('A'))\n",
        "print(chr(2))"
      ],
      "metadata": {
        "id": "lyzDzHwurMbN",
        "colab": {
          "base_uri": "https://localhost:8080/"
        },
        "outputId": "6d404724-61a3-4640-a514-51a4dec3df1f"
      },
      "execution_count": null,
      "outputs": [
        {
          "output_type": "stream",
          "name": "stdout",
          "text": [
            "65\n",
            "\u0002\n"
          ]
        }
      ]
    },
    {
      "cell_type": "code",
      "source": [
        "for i in range(1,100):\n",
        "  print(i,\" : \",chr(i))"
      ],
      "metadata": {
        "colab": {
          "base_uri": "https://localhost:8080/"
        },
        "id": "z607nP6bTqn7",
        "outputId": "3bd682aa-01dc-4fec-bc1d-56d761598d62"
      },
      "execution_count": null,
      "outputs": [
        {
          "output_type": "stream",
          "name": "stdout",
          "text": [
            "1  :  \u0001\n",
            "2  :  \u0002\n",
            "3  :  \u0003\n",
            "4  :  \u0004\n",
            "5  :  \u0005\n",
            "6  :  \u0006\n",
            "7  :  \u0007\n",
            "8  :  \b\n",
            "9  :  \t\n",
            "10  :  \n",
            "\n",
            "11  :  \u000b\n",
            "12  :  \f\n",
            "13  :  \r\n",
            "14  :  \u000e\n",
            "15  :  \u000f\n",
            "16  :  \u0010\n",
            "17  :  \u0011\n",
            "18  :  \u0012\n",
            "19  :  \u0013\n",
            "20  :  \u0014\n",
            "21  :  \u0015\n",
            "22  :  \u0016\n",
            "23  :  \u0017\n",
            "24  :  \u0018\n",
            "25  :  \u0019\n",
            "26  :  \u001a\n",
            "27  :  \u001b\n",
            "28  :  \u001c\n",
            "29  :  \u001d\n",
            "30  :  \u001e\n",
            "31  :  \u001f\n",
            "32  :   \n",
            "33  :  !\n",
            "34  :  \"\n",
            "35  :  #\n",
            "36  :  $\n",
            "37  :  %\n",
            "38  :  &\n",
            "39  :  '\n",
            "40  :  (\n",
            "41  :  )\n",
            "42  :  *\n",
            "43  :  +\n",
            "44  :  ,\n",
            "45  :  -\n",
            "46  :  .\n",
            "47  :  /\n",
            "48  :  0\n",
            "49  :  1\n",
            "50  :  2\n",
            "51  :  3\n",
            "52  :  4\n",
            "53  :  5\n",
            "54  :  6\n",
            "55  :  7\n",
            "56  :  8\n",
            "57  :  9\n",
            "58  :  :\n",
            "59  :  ;\n",
            "60  :  <\n",
            "61  :  =\n",
            "62  :  >\n",
            "63  :  ?\n",
            "64  :  @\n",
            "65  :  A\n",
            "66  :  B\n",
            "67  :  C\n",
            "68  :  D\n",
            "69  :  E\n",
            "70  :  F\n",
            "71  :  G\n",
            "72  :  H\n",
            "73  :  I\n",
            "74  :  J\n",
            "75  :  K\n",
            "76  :  L\n",
            "77  :  M\n",
            "78  :  N\n",
            "79  :  O\n",
            "80  :  P\n",
            "81  :  Q\n",
            "82  :  R\n",
            "83  :  S\n",
            "84  :  T\n",
            "85  :  U\n",
            "86  :  V\n",
            "87  :  W\n",
            "88  :  X\n",
            "89  :  Y\n",
            "90  :  Z\n",
            "91  :  [\n",
            "92  :  \\\n",
            "93  :  ]\n",
            "94  :  ^\n",
            "95  :  _\n",
            "96  :  `\n",
            "97  :  a\n",
            "98  :  b\n",
            "99  :  c\n"
          ]
        }
      ]
    },
    {
      "cell_type": "code",
      "source": [
        "type(chr(65))"
      ],
      "metadata": {
        "id": "_yXWE6agsOjO",
        "outputId": "c1ddf9ca-feb2-40d8-f7a2-ee544c2ce71a",
        "colab": {
          "base_uri": "https://localhost:8080/"
        }
      },
      "execution_count": null,
      "outputs": [
        {
          "output_type": "execute_result",
          "data": {
            "text/plain": [
              "str"
            ]
          },
          "metadata": {},
          "execution_count": 156
        }
      ]
    },
    {
      "cell_type": "code",
      "source": [
        "# default parameters\n",
        "def say(message,times=1):\n",
        "  print(message*times)\n",
        "\n",
        "def main():\n",
        "  say('Hello')\n",
        "  say('World',5)\n",
        "\n",
        "main()"
      ],
      "metadata": {
        "colab": {
          "base_uri": "https://localhost:8080/"
        },
        "id": "fQvt3PhzZxmt",
        "outputId": "2a4f4100-1ea0-45c4-f21e-6706cb3fe861"
      },
      "execution_count": null,
      "outputs": [
        {
          "output_type": "stream",
          "name": "stdout",
          "text": [
            "Hello\n",
            "WorldWorldWorldWorldWorld\n"
          ]
        }
      ]
    },
    {
      "cell_type": "code",
      "source": [
        "def func(a,b=5,c=10):\n",
        "  print('a :',a, 'b :',b,'c:',c)\n",
        "def main():\n",
        "  func(3,7)\n",
        "  func(25,c=24)\n",
        "  func(c=50,a=100)\n",
        "main() "
      ],
      "metadata": {
        "colab": {
          "base_uri": "https://localhost:8080/"
        },
        "id": "sk5uzxjOaY77",
        "outputId": "a4d71b43-3c52-41ad-ae69-a8a89467a304"
      },
      "execution_count": null,
      "outputs": [
        {
          "output_type": "stream",
          "name": "stdout",
          "text": [
            "a : 3 b : 7 c: 10\n",
            "a : 25 b : 5 c: 24\n",
            "a : 100 b : 5 c: 50\n"
          ]
        }
      ]
    },
    {
      "cell_type": "code",
      "source": [
        "names=[\"Dennis Ritchie\",\"Alan Kay\",\"John Backus\",\"James Gosling\"]\n",
        "names.sort(key=lambda name:name.split()[-1])\n",
        "nameString = \",\".join(names)\n",
        "print(nameString)\n",
        "## 근데, 대문자가 우선임.\n",
        "## ==> ABCD ~~~ abcd  \n",
        "# lambda name:name.split()[-1]"
      ],
      "metadata": {
        "colab": {
          "base_uri": "https://localhost:8080/"
        },
        "id": "UTaDMegbbPiL",
        "outputId": "bd917195-b3b9-4fb0-dee3-220dcbabcb73"
      },
      "execution_count": null,
      "outputs": [
        {
          "output_type": "stream",
          "name": "stdout",
          "text": [
            "John Backus,James Gosling,Alan Kay,Dennis Ritchie\n"
          ]
        }
      ]
    },
    {
      "cell_type": "markdown",
      "source": [
        "### 05 Data Processiong and File Access Reading Text Files"
      ],
      "metadata": {
        "id": "stLSkDPKcYcU"
      }
    },
    {
      "cell_type": "code",
      "source": [
        "def displayWithForLoop(file):\n",
        "  infile = open(file,'r')\n",
        "  for line in infile:\n",
        "    print(line.rstrip())\n",
        "  infile.close()\n",
        "# rstrip : 오른쪽 공백 제거\n",
        "\n",
        "def displayWithListComprehension(file):\n",
        "  infile = open(file,'r')\n",
        "  listPres = [line.rstrip() for line in infile]\n",
        "  infile.close()\n",
        "  print(listPres)\n",
        "\n",
        "def displayWithReadline(file):\n",
        "  infile = open(file,'r')\n",
        "  line = infile.readline()\n",
        "  while line != \"\":\n",
        "    print(line.rstrip())\n",
        "    line = infile.readline()\n",
        "  infile.close()\n",
        "\n",
        "def main():\n",
        "  file = \"FirstPresidents.txt\"\n",
        "  displayWithForLoop(file)\n",
        "  print()\n",
        "  displayWithListComprehension(file)\n",
        "  print()\n",
        "  displayWithReadline(file)\n",
        "\n",
        "main()\n"
      ],
      "metadata": {
        "colab": {
          "base_uri": "https://localhost:8080/"
        },
        "id": "a-RmaHrdbSEz",
        "outputId": "f2fe239c-b4db-4fac-ac1b-3ab6616e43b9"
      },
      "execution_count": null,
      "outputs": [
        {
          "output_type": "stream",
          "name": "stdout",
          "text": [
            "George Washington\n",
            "John Adams\n",
            "Thomas Jefferson\n",
            "\n",
            "['George Washington', 'John Adams', 'Thomas Jefferson']\n",
            "\n",
            "George Washington\n",
            "John Adams\n",
            "Thomas Jefferson\n"
          ]
        }
      ]
    },
    {
      "cell_type": "code",
      "source": [
        "def main():\n",
        "  L = [\"George Washington\",\"John Adams\",\"Thomas Jefferson\"]\n",
        "  outfile = open(\"FirstPresident2.txt\",'w')\n",
        "  createWithWrite(L,outfile)\n",
        "  outfile = open(\"FirstPresident3.txt\",'w')\n",
        "  createWithWritelines(L,outfile)\n",
        "\n",
        "def createWithWrite(L,outfile):\n",
        "  for i in range(len(L)):\n",
        "    outfile.write(L[i]+\"\\n\")\n",
        "  outfile.close()\n",
        "\n",
        "def createWithWritelines(L,outfile):\n",
        "  for i in range(len(L)):\n",
        "    L[i]=L[i]+\"\\n\"\n",
        "  outfile.writelines(L)\n",
        "  outfile.close()\n",
        "\n",
        "main()"
      ],
      "metadata": {
        "id": "eK8ltVea7qh8"
      },
      "execution_count": null,
      "outputs": []
    },
    {
      "cell_type": "code",
      "source": [
        "def main():\n",
        "  stateList = createListFromFile(\"states.txt\")\n",
        "  createSortedFile(stateList,\"statesAlpha.txt\")\n",
        "\n",
        "def createListFromFile(fileName):\n",
        "  infile = open(fileName,'r')\n",
        "  desireList = [line.rstrip() for line in infile]\n",
        "  infile.close()\n",
        "  return desireList\n",
        "\n",
        "def createSortedFile(listName,fileName):\n",
        "  listName.sort()\n",
        "  for i in range(len(listName)):\n",
        "    listName[i] = listName[i] + \"\\n\"\n",
        "  outfile = open(fileName,'w')\n",
        "  outfile.writelines(listName)\n",
        "  outfile.close"
      ],
      "metadata": {
        "id": "Ud_K_FqN84-0"
      },
      "execution_count": null,
      "outputs": []
    },
    {
      "cell_type": "code",
      "source": [
        "## 대통령 부통령 둘 다 해본 사람\n",
        "def main():\n",
        "  vicePresList = createListFromFile(\"VPres.txt\")\n",
        "  createNewFile(vicePresList,\"USPres.txt\",\"Both.txt\")\n",
        "\n",
        "def createListFromFile(fileName):\n",
        "  infile = open(fileName,'r')\n",
        "  desiredList = [line.rstrip() for line in infile]\n",
        "  infile.close()\n",
        "  return desiredList\n",
        "\n",
        "def createNewFile(listName,oldFileName,newFileName):\n",
        "  infile = open(oldFileName,'r')\n",
        "  outfile = open(newFileName,'w')\n",
        "  for person in infile:\n",
        "    if person.rstrip() in listName:\n",
        "      outfile.write(person)\n",
        "  infile.close()\n",
        "  outfile.close()\n",
        "\n",
        "main()"
      ],
      "metadata": {
        "id": "XedLrfdP9xwF"
      },
      "execution_count": null,
      "outputs": []
    },
    {
      "cell_type": "code",
      "source": [
        "def main():\n",
        "  # open file\n",
        "  outfile = open(\"FirstPresidents.txt\",'a')\n",
        "\n",
        "  # Prepare list\n",
        "  list1 = [\"James Madison\\n\",\"James Monroe\\n\"]\n",
        "  \n",
        "  # Write List\n",
        "  outfile.writelines(list1)\n",
        "  \n",
        "  # Write sentence\n",
        "  outfile.write(\"John Q. Adams\\n\")\n",
        "  \n",
        "  # close file\n",
        "  outfile.close()\n",
        "\n",
        "main()"
      ],
      "metadata": {
        "id": "obmO36lBRo9G"
      },
      "execution_count": null,
      "outputs": []
    },
    {
      "cell_type": "code",
      "source": [
        "# os 모듈 관련 정리\n",
        "## 공부용 :: 실행 X\n",
        "import os # os 모듈 가져오기\n",
        "os.remove(fileName) # 파일 삭제\n",
        "os.rename(oldFileName,NewFileName) # 파일 명 변경\n",
        "os.path.isfile(fileName) # 파일 있는지 확인"
      ],
      "metadata": {
        "id": "5NsSC5mlSlbV"
      },
      "execution_count": null,
      "outputs": []
    },
    {
      "cell_type": "code",
      "source": [
        "# os 사용 예제\n",
        "\n",
        "import os.path\n",
        "\n",
        "if os.path.isfile(\"ABC.txt\"):\n",
        "  print(\"File alread exists.\")\n",
        "else:\n",
        "  infile = open(\"ABC.txt\",'w')\n",
        "  infile.write(\"a\\nb\\nc\\n\")\n",
        "  infile.close()\n",
        "  print(\"successs to write ABC.txt\")"
      ],
      "metadata": {
        "colab": {
          "base_uri": "https://localhost:8080/"
        },
        "id": "LhIEC53BTMSl",
        "outputId": "9250263d-732d-43d9-8191-c96d7958c5fd"
      },
      "execution_count": null,
      "outputs": [
        {
          "output_type": "stream",
          "name": "stdout",
          "text": [
            "File alread exists.\n"
          ]
        }
      ]
    },
    {
      "cell_type": "code",
      "source": [
        "# Set : 집합 // 순서 x , 중복 x\n",
        "bri = {'brazil','russia','india'}\n",
        "'india' in bri\n",
        "'usa' in bri\n",
        "\n",
        "bric = bri.copy()\n",
        "bric.add('china')\n",
        "bri.remove('russia')\n",
        "print('bri:',bri)\n",
        "print('bric:',bric)\n",
        "bric.issuperset(bri)  # 관계\n",
        "bri.issubset(bric)  # 관계\n",
        "bri & bric # 교집합\n",
        "bric - bri # 차집합\n",
        "bric.difference(bri) ## bric-bri\n",
        "bric.union(bri) # 합집합"
      ],
      "metadata": {
        "colab": {
          "base_uri": "https://localhost:8080/"
        },
        "id": "RpdYpGAWT1EG",
        "outputId": "978d9725-2888-43a4-d3a8-ecdb90f2046d"
      },
      "execution_count": null,
      "outputs": [
        {
          "output_type": "stream",
          "name": "stdout",
          "text": [
            "tst {'russia', 'india', 'brazil'}\n",
            "bri: {'india', 'brazil'}\n",
            "bric: {'russia', 'india', 'china', 'brazil'}\n"
          ]
        },
        {
          "output_type": "execute_result",
          "data": {
            "text/plain": [
              "{'brazil', 'china', 'india', 'russia'}"
            ]
          },
          "metadata": {},
          "execution_count": 117
        }
      ]
    },
    {
      "cell_type": "code",
      "source": [
        "## List, tuple, set은 상호 변환 가능.\n",
        "words = ['nudge','nudge','wink','wink']\n",
        "tuple(words)\n",
        "terms = set(words)\n",
        "list(terms)\n",
        "tuple(terms)\n",
        "alpha = ('a','b','c')\n",
        "set(alpha)\n",
        "\n",
        "## set 에는 clear을 사용할 수 있음.\n",
        "terms.clear()\n",
        "terms\n",
        "# 공집합 :: set()"
      ],
      "metadata": {
        "colab": {
          "base_uri": "https://localhost:8080/"
        },
        "id": "zmFLTRTVVQme",
        "outputId": "c8779659-acd5-4b14-9781-52613a5c877b"
      },
      "execution_count": null,
      "outputs": [
        {
          "output_type": "execute_result",
          "data": {
            "text/plain": [
              "set()"
            ]
          },
          "metadata": {},
          "execution_count": 81
        }
      ]
    },
    {
      "cell_type": "code",
      "source": [
        "# set에도 sorted 사용할 수 있음. (순서없다며?)\n",
        "bric = {'brazil','china','india','russia'}\n",
        "bric\n",
        "sorted(bric)\n",
        "sorted(bric,key=len,reverse=True)"
      ],
      "metadata": {
        "colab": {
          "base_uri": "https://localhost:8080/"
        },
        "id": "CPPDrSoFWAOt",
        "outputId": "d82cd6f8-6bdc-4f6c-dbd3-75d49f672b49"
      },
      "execution_count": null,
      "outputs": [
        {
          "output_type": "execute_result",
          "data": {
            "text/plain": [
              "['russia', 'brazil', 'india', 'china']"
            ]
          },
          "metadata": {},
          "execution_count": 84
        }
      ]
    },
    {
      "cell_type": "code",
      "source": [
        "# List처럼, Comprehension 사용 가능.\n",
        "{x * x for x in range(-3,3)}"
      ],
      "metadata": {
        "colab": {
          "base_uri": "https://localhost:8080/"
        },
        "id": "ntPbY2OVWnh1",
        "outputId": "a66e9bb7-6dcb-44bf-a41d-4c857a204676"
      },
      "execution_count": null,
      "outputs": [
        {
          "output_type": "execute_result",
          "data": {
            "text/plain": [
              "{0, 1, 4, 9}"
            ]
          },
          "metadata": {},
          "execution_count": 85
        }
      ]
    },
    {
      "cell_type": "code",
      "source": [
        "# 대통령 부통령 다 해본 애들 set버전\n",
        "def createSetFromFile(fileName):\n",
        "  infile=open(fileName,'r')\n",
        "  namesSet={name for name in infile}\n",
        "  infile.close()\n",
        "  return namesSet\n",
        "\n",
        "def createIntersection(set1,set2):\n",
        "  return set1.intersection(set2)\n",
        "\n",
        "def writeNameToFile(setName,fileName):\n",
        "  outfile=open(fileName,'w')\n",
        "  outfile.writelines(setName)\n",
        "  outfile.close()\n",
        "\n",
        "def main():\n",
        "  vicePresSet = createSetFromFile(\"VPres.txt\")\n",
        "  presSet = createSetFromFile(\"USPres.txt\")\n",
        "  bothPresAndVPresSet = createIntersection(vicePresSet,presSet)\n",
        "\n",
        "  writeNameToFile(bothPresAndVPresSet,\"PresAndVPres.txt\")\n",
        "main()\n",
        "\n",
        "## 얘도 적용이 잘 되는군."
      ],
      "metadata": {
        "id": "V-Q6bdPAW1AN"
      },
      "execution_count": null,
      "outputs": []
    },
    {
      "cell_type": "code",
      "source": [
        "# set 연산 연습\n",
        "{1,2,3}|{3,4} ## union\n",
        "\n",
        "{1,2,3}&{3,4}\n",
        "\n",
        "{1,2,3}-{3,4}\n",
        "\n",
        "{1,2,3}^{2,3} ## 교집합을 빼버리기 AUB - ANB\n",
        "\n",
        "3 in {1,2,3}\n",
        "\n",
        "x = {1,2,3}-{3,4}\n",
        "x.add(5)\n",
        "y = x.copy()\n",
        "y.discard(1)\n",
        "y\n",
        "x"
      ],
      "metadata": {
        "colab": {
          "base_uri": "https://localhost:8080/"
        },
        "id": "6LMOLZ2_aO2f",
        "outputId": "30c509dc-8908-4f9f-e38b-805d03ad9744"
      },
      "execution_count": null,
      "outputs": [
        {
          "output_type": "execute_result",
          "data": {
            "text/plain": [
              "{1, 2, 5}"
            ]
          },
          "metadata": {},
          "execution_count": 102
        }
      ]
    },
    {
      "cell_type": "code",
      "source": [
        "# Accessiong the Data in a CSV File\n",
        "def main():\n",
        "  continent = input(\"Enter the name of a continent:\")\n",
        "  print(continent)\n",
        "  continent = continent.title()\n",
        "  if continent != \"Antarctica\":\n",
        "    infile = open(\"UN.txt\",'r')\n",
        "    ## infile type : <class '_io.TextIOWrapper'>\n",
        "    for line in infile:\n",
        "      data = line.split(',')\n",
        "      if data[1] == continent:\n",
        "        print(data[0])\n",
        "  else:\n",
        "    print(\"There r no countries in Antarctica.\")\n",
        "\n",
        "main()"
      ],
      "metadata": {
        "colab": {
          "base_uri": "https://localhost:8080/"
        },
        "id": "sQDuAhhpbA83",
        "outputId": "322f17b8-9fee-4b61-bc19-764489b2fc8c"
      },
      "execution_count": null,
      "outputs": [
        {
          "output_type": "stream",
          "name": "stdout",
          "text": [
            "Enter the name of a continent:South America\n",
            "South America\n",
            "Argentina\n",
            "Bolivia\n",
            "Brazil\n",
            "Chile\n",
            "Colombia\n",
            "Ecuador\n",
            "Guyana\n",
            "Paraguay\n",
            "Peru\n",
            "Suriname\n",
            "Uruguay\n",
            "Venezuela\n"
          ]
        }
      ]
    },
    {
      "cell_type": "code",
      "source": [
        "# Analyzing the Data in a CSV File with a List\n",
        "\n",
        "def placeRecordsIntoList(fileName):\n",
        "  infile = open(fileName,'r')\n",
        "  listOfRecords = [line.rstrip() for line in infile]\n",
        "  infile.close()\n",
        "  for i in range(len(listOfRecords)):\n",
        "    listOfRecords[i] = listOfRecords[i].split(',')\n",
        "    listOfRecords[i][2] = eval(listOfRecords[i][2])\n",
        "    listOfRecords[i][3] = eval(listOfRecords[i][3])\n",
        "  return listOfRecords\n",
        "\n",
        "def displayFiveLargestCountries(countries):\n",
        "  print(\"{0:20}{1:9}\".format(\"Country\",\"Area {sq. mi.}\"))\n",
        "  for i in range(5):\n",
        "    print(\"{0:20}{1:9,d}\".format(countries[i][0],countries[i][3]))\n",
        "\n",
        "def createNewFile(countries):\n",
        "  outfile = open(\"UNbyArea.txt\",\"w\")\n",
        "  for country in countries:\n",
        "    outfile.write(country[0] + ',' + str(country[3]) + \"\\n\")\n",
        "  outfile.close()\n",
        "\n",
        "def main():\n",
        "  countries = placeRecordsIntoList(\"UN.txt\")\n",
        "  countries.sort(key=lambda country:country[3],reverse=True) # 3 열 :: area\n",
        "  displayFiveLargestCountries(countries)\n",
        "  createNewFile(countries)\n",
        "main()"
      ],
      "metadata": {
        "colab": {
          "base_uri": "https://localhost:8080/"
        },
        "id": "U64i07c2dP1G",
        "outputId": "bfac3c9c-4634-4ce6-d73f-9a8788156dc4"
      },
      "execution_count": null,
      "outputs": [
        {
          "output_type": "stream",
          "name": "stdout",
          "text": [
            "Country             Area {sq. mi.}\n",
            "Russian Federation  6,592,800\n",
            "Canada              3,855,000\n",
            "United States       3,794,066\n",
            "China               3,696,100\n",
            "Brazil              3,287,597\n"
          ]
        }
      ]
    },
    {
      "cell_type": "markdown",
      "source": [
        "### Dictionary"
      ],
      "metadata": {
        "id": "vXb7VqM9gqQg"
      }
    },
    {
      "cell_type": "markdown",
      "source": [
        "기본형\n",
        "d = {k1:v1,k2:v2,k3:v3}\n",
        "** a = {} 이거 set 이 아니라 Dict임.\n",
        "** 빈 set 만들고 싶으면 set(0)"
      ],
      "metadata": {
        "id": "gFOQzyeCgr7o"
      }
    },
    {
      "cell_type": "code",
      "source": [
        "## list로 이루어진 list로 dict 만들기\n",
        "list1 = [[\"one\",1],[\"two\",2],[\"three\",3]]\n",
        "dict(list1)\n",
        "\n",
        "## tuple로 이루어진 list로 dict 만들기\n",
        "list2 = [(\"one\",1),(\"two\",2),(\"three\",3)]\n",
        "dict(list2)"
      ],
      "metadata": {
        "colab": {
          "base_uri": "https://localhost:8080/"
        },
        "id": "rbvTpiLRgkev",
        "outputId": "b60fbf01-98ec-458a-8ee0-32356f0f55a4"
      },
      "execution_count": null,
      "outputs": [
        {
          "output_type": "execute_result",
          "data": {
            "text/plain": [
              "{'one': 1, 'two': 2, 'three': 3}"
            ]
          },
          "metadata": {},
          "execution_count": 137
        }
      ]
    },
    {
      "cell_type": "code",
      "source": [
        "# dict 사용 예제\n",
        "addr = {'swaroop':'swaroop@swaroopch.com',\n",
        "        'Larry':'larry@wall.org',\n",
        "        'Matsumoto':'matz@ruby-lang.org',\n",
        "        'Spammer':'spammer@hotmail.com'}\n",
        "print(\"Swaroop's address : \",addr['swaroop'])\n",
        "\n",
        "del addr['Spammer']\n",
        "print('\\nThere are {} contact in the address-book\\n'.format(len(addr)))\n",
        "\n",
        "for name,address in list(addr.items()):\n",
        "  print('Contact {} at {}'.format(name,address))\n",
        "\n",
        "addr['Guido'] = 'guidp@python.org'\n",
        "if 'Guido' in addr:\n",
        "  print(\"\\nGuido's address is\",addr['Guido'])\n"
      ],
      "metadata": {
        "colab": {
          "base_uri": "https://localhost:8080/"
        },
        "id": "kF-Ugnolg8ai",
        "outputId": "740cbce7-6dfc-4bf6-98d3-5291a4d72ce2"
      },
      "execution_count": null,
      "outputs": [
        {
          "output_type": "stream",
          "name": "stdout",
          "text": [
            "Swaroop's address :  swaroop@swaroopch.com\n",
            "\n",
            "There are 3 contact in the address-book\n",
            "\n",
            "Contact swaroop at swaroop@swaroopch.com\n",
            "Contact Larry at larry@wall.org\n",
            "Contact Matsumoto at matz@ruby-lang.org\n",
            "\n",
            "Guido's address is guidp@python.org\n"
          ]
        }
      ]
    },
    {
      "cell_type": "code",
      "source": [
        "def determineAdmissionFee(ageGroup):\n",
        "  if ageGroup == \"child\":\n",
        "    return 0\n",
        "  elif ageGroup == \"minor\":\n",
        "    return 5\n",
        "  elif ageGroup == \"adult\":\n",
        "    return 10\n",
        "  elif ageGroup == \"senior\":\n",
        "    return 8\n",
        "\n",
        "def main():\n",
        "  print(\"Enter the person's age group\",end=\"\")\n",
        "  ageGroup = input(\"(child,minor,adult, ro senior)\")\n",
        "  print(\"The addmission fee is\",\n",
        "        determineAdmissionFee(ageGroup),\"dollars.\")\n",
        "main()\n"
      ],
      "metadata": {
        "colab": {
          "base_uri": "https://localhost:8080/"
        },
        "id": "WrXDe8myizU_",
        "outputId": "57bdc4f0-88e1-4cbb-c5ac-d07835a80ddf"
      },
      "execution_count": null,
      "outputs": [
        {
          "output_type": "stream",
          "name": "stdout",
          "text": [
            "Enter the person's age group(child,minor,adult, ro senior)adult\n",
            "The addmission fee is 10 dollars.\n"
          ]
        }
      ]
    },
    {
      "cell_type": "code",
      "source": [
        "# 딕서너리 이용, 빈도수 테이블\n",
        "\n",
        "def formListOfWords(fileName):\n",
        "  infile = open(fileName)\n",
        "  originalLine = infile.readline().lower()\n",
        "  print(originalLine)\n",
        "  line = \"\"\n",
        "  for ch in originalLine:\n",
        "    if('a'<=ch<='z') or (ch==\" \"):\n",
        "      line += ch\n",
        "      ## 영어, 공백만 가져오기\n",
        "  print('line:',line)\n",
        "  listOfWords = line.split()\n",
        "      ## 단어들 담긴 리스트 \n",
        "  return listOfWords\n",
        "\n",
        "def createFrequencyDictionary(listOfWords):\n",
        "  freq = {}\n",
        "  for word in listOfWords:\n",
        "    freq[word]=0\n",
        "    ## word 들이 key 가 되게 만들기\n",
        "  for word in listOfWords:\n",
        "    freq[word] = freq[word]+1\n",
        "    ## word에 있는 value +1\n",
        "  return freq ## freq는 dictionary (단어,빈도)\n",
        "\n",
        "def displayWordCount(listOfWords,freq):\n",
        "  print(\"The Gettysburg Address contains\",len(listOfWords),\"words.\")\n",
        "  ## list의 길이 ==> 총 단어수\n",
        "  print(\"The Gettysburg Address contains\",len(freq),\"different words.\")\n",
        "  ## dict의 길이 ==> 서로 다른 단어의 갯수\n",
        "  print()\n",
        "\n",
        "def displayMostCommonWords(freq):\n",
        "  print(\"The most common words and their frequencies are:\")\n",
        "  listOfMostCommonWords=[]\n",
        "  for word in freq.keys():\n",
        "    if freq[word]>=6:\n",
        "      ## 빈도수 6개 이상만 저장한 list :: listOfMostCommonWords\n",
        "      listOfMostCommonWords.append((word,freq[word]))\n",
        "  listOfMostCommonWords.sort(key=lambda x:x[1],reverse=True)\n",
        "  for item in listOfMostCommonWords:\n",
        "    print(\" \",item[0]+':',item[1])\n",
        "\n",
        "def main():\n",
        "  listOfWords = formListOfWords(\"Gettysburg.txt\")\n",
        "  freq = createFrequencyDictionary(listOfWords)\n",
        "  displayWordCount(listOfWords,freq)\n",
        "  displayMostCommonWords(freq)\n",
        "\n",
        "main()"
      ],
      "metadata": {
        "colab": {
          "base_uri": "https://localhost:8080/"
        },
        "id": "-XiVJl0sjwu_",
        "outputId": "89fbf7c0-8ead-4ad2-eeb6-20da44965d03"
      },
      "execution_count": null,
      "outputs": [
        {
          "output_type": "stream",
          "name": "stdout",
          "text": [
            "four score and seven years ago, our fathers brought forth on this continent a new nation: conceived in liberty, and dedicated to the proposition that all men are created equal. now we are engaged in a great civil war testing whether that nation, or any nation so conceived and so dedicated can long endure. we are met on a great battlefield of that war. we have come to dedicate a portion of that field as a final resting place for those who here gave their lives that that nation might live. it is altogether fitting and proper that we should do this. but, in a larger sense, we cannot dedicate we cannot consecrate we cannot hallow this ground. the brave men, living and dead, who struggled here have consecrated it, far above our poor power to add or detract. the world will little note, nor long remember, what we say here, but it can never forget what they did here. it is for us the living, rather, to be dedicated here to the unfinished work which they who fought here have thus far so nobly advanced. it is rather for us to be here dedicated to the great task remaining before us that from these honored dead we take increased devotion to that cause for which they gave the last full measure of devotion that we here highly resolve that these dead shall not have died in vain that this nation, under god, shall have a new birth of freedom and that government of the people by the people for the people shall not perish from the earth.\n",
            "\n",
            "line: four score and seven years ago our fathers brought forth on this continent a new nation conceived in liberty and dedicated to the proposition that all men are created equal now we are engaged in a great civil war testing whether that nation or any nation so conceived and so dedicated can long endure we are met on a great battlefield of that war we have come to dedicate a portion of that field as a final resting place for those who here gave their lives that that nation might live it is altogether fitting and proper that we should do this but in a larger sense we cannot dedicate we cannot consecrate we cannot hallow this ground the brave men living and dead who struggled here have consecrated it far above our poor power to add or detract the world will little note nor long remember what we say here but it can never forget what they did here it is for us the living rather to be dedicated here to the unfinished work which they who fought here have thus far so nobly advanced it is rather for us to be here dedicated to the great task remaining before us that from these honored dead we take increased devotion to that cause for which they gave the last full measure of devotion that we here highly resolve that these dead shall not have died in vain that this nation under god shall have a new birth of freedom and that government of the people by the people for the people shall not perish from the earth\n",
            "The Gettysburg Address contains 268 words.\n",
            "The Gettysburg Address contains 139 different words.\n",
            "\n",
            "The most common words and their frequencies are:\n",
            "  that: 13\n",
            "  the: 11\n",
            "  we: 10\n",
            "  to: 8\n",
            "  here: 8\n",
            "  a: 7\n",
            "  and: 6\n"
          ]
        }
      ]
    },
    {
      "cell_type": "code",
      "source": [
        "# 입장료 dict 버전\n",
        "def determineAdmissionFee(ageGroup='adult'):\n",
        "  dict={\"child\":0,\"minor\":5,\"adult\":10,\"senior\":8}\n",
        "  if ageGroup in dict:\n",
        "    return dict[ageGroup]\n",
        "  else:\n",
        "    return 100\n",
        "\n",
        "def main():\n",
        "  print(\"Enter the person's age group\",end=\"\")\n",
        "  ageGroup = input(\"(child,minor,adult,senior):\")\n",
        "  print(\"The admission fee is\",determineAdmissionFee(ageGroup),\"dollars\")\n",
        "main()"
      ],
      "metadata": {
        "colab": {
          "base_uri": "https://localhost:8080/"
        },
        "id": "c59vTBRMkdKf",
        "outputId": "87b7b46a-4157-46e8-9691-4079da497640"
      },
      "execution_count": null,
      "outputs": [
        {
          "output_type": "stream",
          "name": "stdout",
          "text": [
            "Enter the person's age group(child,minor,adult,senior):senior\n",
            "The admission fee is 8 dollars\n"
          ]
        }
      ]
    },
    {
      "cell_type": "markdown",
      "source": [
        "### pickle 모듈"
      ],
      "metadata": {
        "id": "M7vAr4wBtSAY"
      }
    },
    {
      "cell_type": "code",
      "source": [
        "# pickle 모듈\n",
        "### 실행 xx\n",
        "import pickle\n",
        "outfile = open(filename,'wb')\n",
        "pickle.dump(dictionaryName,outfile)\n",
        "outfile.close()\n",
        "\n",
        "infile=open(filename,'rb')\n",
        "dictionaryName = pickle.load(infile)\n",
        "infile.close()\n"
      ],
      "metadata": {
        "id": "7rkHHi3hsriP"
      },
      "execution_count": null,
      "outputs": []
    },
    {
      "cell_type": "markdown",
      "source": [
        "- binary파일 확장자 :: 'dat'\n",
        "- dictionary의 value는 모든 타입이 될 수 있음\n",
        "  - value가 또다른 dictionary가 되어도 됨."
      ],
      "metadata": {
        "id": "pu_6rFkktlvv"
      }
    },
    {
      "cell_type": "code",
      "source": [
        "import pickle\n",
        "\n",
        "def getDictionary(fileName):\n",
        "  infile = open(fileName,'rb')\n",
        "  countries = pickle.load(infile) ## pickle.load(~~) :: bin 파일 열기\n",
        "  infile.close()\n",
        "  return countries\n",
        "# getDictionary(\"UNDict.dat\") ## dat를 load하면 json처럼 되는구나 ==> dict\n",
        "\n",
        "### 대륙 입력받으면 nations에서 찾아서 그 맞는것들 처리\n",
        "def constructContinentNations(nations,continent):\n",
        "  continentDict = {}\n",
        "  for nation in nations:\n",
        "    if nations[nation][\"cont\"] == continent:\n",
        "      continentDict[nation]=nations[nation]\n",
        "  return continentDict\n",
        "\n",
        "def displaySortedResults(dictionaryName):\n",
        "  continentList = sorted(dictionaryName.items(),key=lambda k:k[1][\"popl\"],reverse=True)\n",
        "  for k in continentList:\n",
        "    print(\"{0:s}:{1:,.2f}\".format(k[0],k[1][\"popl\"]))\n",
        "\n",
        "def main():\n",
        "  nations = getDictionary(\"UNDict.dat\")\n",
        "  print(\"Enter the name of a continent\",end='')\n",
        "  continent = input(\"Other than Antarctica:\")\n",
        "  continentDict = constructContinentNations(nations,continent)\n",
        "  displaySortedResults(continentDict)\n",
        "\n",
        "main()"
      ],
      "metadata": {
        "colab": {
          "base_uri": "https://localhost:8080/",
          "height": 364
        },
        "id": "kNc33x7CtB12",
        "outputId": "e2e03f65-4471-4cbf-facd-e8bfbe13ebcb"
      },
      "execution_count": null,
      "outputs": [
        {
          "output_type": "error",
          "ename": "UnpicklingError",
          "evalue": "ignored",
          "traceback": [
            "\u001b[0;31m---------------------------------------------------------------------------\u001b[0m",
            "\u001b[0;31mUnpicklingError\u001b[0m                           Traceback (most recent call last)",
            "\u001b[0;32m<ipython-input-183-785b8d9c4509>\u001b[0m in \u001b[0;36m<module>\u001b[0;34m\u001b[0m\n\u001b[1;32m     28\u001b[0m   \u001b[0mdisplaySortedResults\u001b[0m\u001b[0;34m(\u001b[0m\u001b[0mcontinentDict\u001b[0m\u001b[0;34m)\u001b[0m\u001b[0;34m\u001b[0m\u001b[0;34m\u001b[0m\u001b[0m\n\u001b[1;32m     29\u001b[0m \u001b[0;34m\u001b[0m\u001b[0m\n\u001b[0;32m---> 30\u001b[0;31m \u001b[0mmain\u001b[0m\u001b[0;34m(\u001b[0m\u001b[0;34m)\u001b[0m\u001b[0;34m\u001b[0m\u001b[0;34m\u001b[0m\u001b[0m\n\u001b[0m",
            "\u001b[0;32m<ipython-input-183-785b8d9c4509>\u001b[0m in \u001b[0;36mmain\u001b[0;34m()\u001b[0m\n\u001b[1;32m     22\u001b[0m \u001b[0;34m\u001b[0m\u001b[0m\n\u001b[1;32m     23\u001b[0m \u001b[0;32mdef\u001b[0m \u001b[0mmain\u001b[0m\u001b[0;34m(\u001b[0m\u001b[0;34m)\u001b[0m\u001b[0;34m:\u001b[0m\u001b[0;34m\u001b[0m\u001b[0;34m\u001b[0m\u001b[0m\n\u001b[0;32m---> 24\u001b[0;31m   \u001b[0mnations\u001b[0m \u001b[0;34m=\u001b[0m \u001b[0mgetDictionary\u001b[0m\u001b[0;34m(\u001b[0m\u001b[0;34m\"UNDict.dat\"\u001b[0m\u001b[0;34m)\u001b[0m\u001b[0;34m\u001b[0m\u001b[0;34m\u001b[0m\u001b[0m\n\u001b[0m\u001b[1;32m     25\u001b[0m   \u001b[0mprint\u001b[0m\u001b[0;34m(\u001b[0m\u001b[0;34m\"Enter the name of a continent\"\u001b[0m\u001b[0;34m,\u001b[0m\u001b[0mend\u001b[0m\u001b[0;34m=\u001b[0m\u001b[0;34m''\u001b[0m\u001b[0;34m)\u001b[0m\u001b[0;34m\u001b[0m\u001b[0;34m\u001b[0m\u001b[0m\n\u001b[1;32m     26\u001b[0m   \u001b[0mcontinent\u001b[0m \u001b[0;34m=\u001b[0m \u001b[0minput\u001b[0m\u001b[0;34m(\u001b[0m\u001b[0;34m\"Other than Antarctica:\"\u001b[0m\u001b[0;34m)\u001b[0m\u001b[0;34m\u001b[0m\u001b[0;34m\u001b[0m\u001b[0m\n",
            "\u001b[0;32m<ipython-input-183-785b8d9c4509>\u001b[0m in \u001b[0;36mgetDictionary\u001b[0;34m(fileName)\u001b[0m\n\u001b[1;32m      3\u001b[0m \u001b[0;32mdef\u001b[0m \u001b[0mgetDictionary\u001b[0m\u001b[0;34m(\u001b[0m\u001b[0mfileName\u001b[0m\u001b[0;34m)\u001b[0m\u001b[0;34m:\u001b[0m\u001b[0;34m\u001b[0m\u001b[0;34m\u001b[0m\u001b[0m\n\u001b[1;32m      4\u001b[0m   \u001b[0minfile\u001b[0m \u001b[0;34m=\u001b[0m \u001b[0mopen\u001b[0m\u001b[0;34m(\u001b[0m\u001b[0mfileName\u001b[0m\u001b[0;34m,\u001b[0m\u001b[0;34m'rb'\u001b[0m\u001b[0;34m)\u001b[0m\u001b[0;34m\u001b[0m\u001b[0;34m\u001b[0m\u001b[0m\n\u001b[0;32m----> 5\u001b[0;31m   \u001b[0mcountries\u001b[0m \u001b[0;34m=\u001b[0m \u001b[0mpickle\u001b[0m\u001b[0;34m.\u001b[0m\u001b[0mload\u001b[0m\u001b[0;34m(\u001b[0m\u001b[0minfile\u001b[0m\u001b[0;34m)\u001b[0m \u001b[0;31m## pickle.load(~~) :: bin 파일 열기\u001b[0m\u001b[0;34m\u001b[0m\u001b[0;34m\u001b[0m\u001b[0m\n\u001b[0m\u001b[1;32m      6\u001b[0m   \u001b[0minfile\u001b[0m\u001b[0;34m.\u001b[0m\u001b[0mclose\u001b[0m\u001b[0;34m(\u001b[0m\u001b[0;34m)\u001b[0m\u001b[0;34m\u001b[0m\u001b[0;34m\u001b[0m\u001b[0m\n\u001b[1;32m      7\u001b[0m   \u001b[0;32mreturn\u001b[0m \u001b[0mcountries\u001b[0m\u001b[0;34m\u001b[0m\u001b[0;34m\u001b[0m\u001b[0m\n",
            "\u001b[0;31mUnpicklingError\u001b[0m: invalid load key, '\\xef'."
          ]
        }
      ]
    },
    {
      "cell_type": "code",
      "source": [
        "# 튜플을 키로 사용하는 dict\n",
        "import pickle\n",
        "\n",
        "def createDictFromBinaryFile(fileName):\n",
        "  infile = open(fileName,'rb')\n",
        "  dictionary = pickle.load(infile)\n",
        "  infile.close()\n",
        "  print(dictionary)\n",
        "  return dictionary\n",
        "\n",
        "def getState(dictName):\n",
        "  state = input(\"Enter the name of a state:\")\n",
        "  if state in dictName.values():\n",
        "    return state\n",
        "  else:\n",
        "    return \"There r no presidents from\" + state + '.'\n",
        "\n",
        "def displayOutput(state,dictName):\n",
        "  if state.startswith(\"There\"):\n",
        "    print(state)\n",
        "  else:\n",
        "    print(\"Presidents from\",state+':')\n",
        "    for pres in sorted(dictName):\n",
        "      if dictName[pres]==state:\n",
        "        print(\" \"+pres[1]+\" \"+pres[0])\n",
        "\n",
        "def main():\n",
        "  presDict = createDictFromBinaryFile(\"USpresStatesDict.dat\")\n",
        "  state = getState(presDict)\n",
        "  displayOutput(state,presDict)\n",
        "\n",
        "main()\n"
      ],
      "metadata": {
        "colab": {
          "base_uri": "https://localhost:8080/"
        },
        "id": "u_xMLVCMx8gJ",
        "outputId": "10f3dd6f-697b-47fd-87c8-c60ccec390ad"
      },
      "execution_count": null,
      "outputs": [
        {
          "output_type": "stream",
          "name": "stdout",
          "text": [
            "{('Buchanan', 'James'): 'Pennsylvannia', ('Washington', 'George'): 'Virginia', ('Buren', 'Martin Van'): 'New York', ('Harding', 'Warren'): 'Ohio', ('Jackson', 'Andrew'): 'Tennessee', ('Harrison', 'William'): 'Ohio', ('Eisenhower', 'Dwight'): 'Kansas', ('Hayes', 'Rutherford'): 'Ohio', ('Garfield', 'James'): 'Ohio', ('Obama', 'Barack'): 'Illinois', ('Arthur', 'Chester'): 'New York', ('Hoover', 'Herbert'): 'California', ('Grant', 'Ulysses'): 'Illinois', ('Monroe', 'James'): 'Virginia', ('Johnson', 'Lyndon'): 'Texas', ('Roosevelt', 'Theodore'): 'New York', ('Adams', 'John Q.'): 'Massachusetts', ('Adams', 'John'): 'Massachusetts', ('Fillmore', 'Millard'): 'New York', ('Madison', 'James'): 'Virginia', ('Nixon', 'Richard'): 'California', ('Bush', 'George W.'): 'Texas', ('Coolidge', 'Calvin'): 'Massachusetts', ('Roosevelt', 'Franklin'): 'New York', ('Pierce', 'Franklin'): 'New Hampshire', ('Jefferson', 'Thomas'): 'Virginia', ('Clinton', 'Bill'): 'Arkansas', ('Lincoln', 'Abraham'): 'Illinois', ('Polk', 'James'): 'Tennessee', ('Reagan', 'Ronald'): 'California', ('Cleveland', 'Grover'): 'New York', ('Tyler', 'John'): 'Virginia', ('Ford', 'Gerald'): 'Michigan', ('Bush', 'George H. W.'): 'Texas', ('McKinley', 'William'): 'Ohio', ('Kennedy', 'John'): 'Massachusetts', ('Johnson', 'Andrew'): 'Tennessee', ('Harrison', 'Benjamin'): 'Indiana', ('Taft', 'William'): 'Ohio', ('Truman', 'Harry'): 'Missouri', ('Taylor', 'Zachary'): 'Lousiana', ('Wilson', 'Woodrow'): 'New Jersey', ('Carter', 'James'): 'Georgia'}\n",
            "Enter the name of a state:Vir\n",
            "There r no presidents fromVir.\n"
          ]
        }
      ]
    },
    {
      "cell_type": "markdown",
      "source": [
        "### Exception Handling"
      ],
      "metadata": {
        "id": "582ZcCN73Ct4"
      }
    },
    {
      "cell_type": "code",
      "source": [
        "numDependents = int(input(\"Enter number of dependents:\"))\n",
        "taxCredit = 1000*numDependents\n",
        "print(\"Tax credit:\",taxCredit)"
      ],
      "metadata": {
        "colab": {
          "base_uri": "https://localhost:8080/",
          "height": 230
        },
        "id": "1SaX54OW2_L_",
        "outputId": "760000a9-d8cf-4d50-b493-9a4cb214f8a6"
      },
      "execution_count": null,
      "outputs": [
        {
          "name": "stdout",
          "output_type": "stream",
          "text": [
            "Enter number of dependents:\n"
          ]
        },
        {
          "output_type": "error",
          "ename": "ValueError",
          "evalue": "ignored",
          "traceback": [
            "\u001b[0;31m---------------------------------------------------------------------------\u001b[0m",
            "\u001b[0;31mValueError\u001b[0m                                Traceback (most recent call last)",
            "\u001b[0;32m<ipython-input-166-25f11eac2a9b>\u001b[0m in \u001b[0;36m<module>\u001b[0;34m\u001b[0m\n\u001b[0;32m----> 1\u001b[0;31m \u001b[0mnumDependents\u001b[0m \u001b[0;34m=\u001b[0m \u001b[0mint\u001b[0m\u001b[0;34m(\u001b[0m\u001b[0minput\u001b[0m\u001b[0;34m(\u001b[0m\u001b[0;34m\"Enter number of dependents:\"\u001b[0m\u001b[0;34m)\u001b[0m\u001b[0;34m)\u001b[0m\u001b[0;34m\u001b[0m\u001b[0;34m\u001b[0m\u001b[0m\n\u001b[0m\u001b[1;32m      2\u001b[0m \u001b[0mtaxCredit\u001b[0m \u001b[0;34m=\u001b[0m \u001b[0;36m1000\u001b[0m\u001b[0;34m*\u001b[0m\u001b[0mnumDependents\u001b[0m\u001b[0;34m\u001b[0m\u001b[0;34m\u001b[0m\u001b[0m\n\u001b[1;32m      3\u001b[0m \u001b[0mprint\u001b[0m\u001b[0;34m(\u001b[0m\u001b[0;34m\"Tax credit:\"\u001b[0m\u001b[0;34m,\u001b[0m\u001b[0mtaxCredit\u001b[0m\u001b[0;34m)\u001b[0m\u001b[0;34m\u001b[0m\u001b[0;34m\u001b[0m\u001b[0m\n",
            "\u001b[0;31mValueError\u001b[0m: invalid literal for int() with base 10: ''"
          ]
        }
      ]
    },
    {
      "cell_type": "code",
      "source": [
        "try:\n",
        "  numDependents = int(input(\"Enter number of dependents:\"))\n",
        "except ValueError:\n",
        "  print(\"You did not respond with an integer value.\")\n",
        "  print(\"We will assume ur answer is zero\")\n",
        "  numDependents = 0\n",
        "taxCredit = 1000*numDependents\n",
        "print(\"Tax credit:\",taxCredit)"
      ],
      "metadata": {
        "colab": {
          "base_uri": "https://localhost:8080/"
        },
        "id": "UAK49Ht_3dcn",
        "outputId": "19639472-88f6-4093-fec8-eed78980f857"
      },
      "execution_count": null,
      "outputs": [
        {
          "output_type": "stream",
          "name": "stdout",
          "text": [
            "Enter number of dependents:\n",
            "You did not respond with an integer value.\n",
            "We will assume ur answer is zero\n",
            "Tax credit: 0\n"
          ]
        }
      ]
    },
    {
      "cell_type": "code",
      "source": [
        "def main():\n",
        "  try:\n",
        "    fileName = input(\"Enter the name of a file:\")\n",
        "    infile = open(fileName,'r')\n",
        "    num = float(infile.readline())\n",
        "    print(1/num)\n",
        "  except FileNotFoundError as exc1:\n",
        "    print(exc1)\n",
        "  except TypeError as exc2:\n",
        "    print(exc2)\n",
        "main()"
      ],
      "metadata": {
        "colab": {
          "base_uri": "https://localhost:8080/"
        },
        "id": "RpNJd_pl3994",
        "outputId": "e709fe5a-3ec5-4b1c-eb94-27d3a907afa2"
      },
      "execution_count": null,
      "outputs": [
        {
          "output_type": "stream",
          "name": "stdout",
          "text": [
            "Enter the name of a file:cxv\n",
            "[Errno 2] No such file or directory: 'cxv'\n"
          ]
        }
      ]
    },
    {
      "cell_type": "code",
      "source": [
        "def main():\n",
        "  phoneticAlpha = {'a':\"alpha\",'b':\"bravo\",'c':\"charlie\"}\n",
        "  while True:\n",
        "    try:\n",
        "      letter = input(\"Enter a,b,or c:\")\n",
        "      print(phoneticAlpha[letter])\n",
        "      break\n",
        "    except KeyError:\n",
        "      print(\"Unaccptable letter was entered.\")\n",
        "main()"
      ],
      "metadata": {
        "colab": {
          "base_uri": "https://localhost:8080/"
        },
        "id": "zxNjZ0B64nXZ",
        "outputId": "271f330a-3c03-4b93-875f-38da531d029f"
      },
      "execution_count": null,
      "outputs": [
        {
          "output_type": "stream",
          "name": "stdout",
          "text": [
            "Enter a,b,or c:scxa\n",
            "Unaccptable letter was entered.\n",
            "Enter a,b,or c:sas\n",
            "Unaccptable letter was entered.\n",
            "Enter a,b,or c:c\n",
            "charlie\n"
          ]
        }
      ]
    },
    {
      "cell_type": "code",
      "source": [
        "def main():\n",
        "  total = 0\n",
        "  cnt = 0\n",
        "  foundFlag = True\n",
        "  try:\n",
        "    infile = open(\"Numbers.txt\",'r')\n",
        "  except FileNotFoundError:\n",
        "    print(\"File not found.\")\n",
        "    foundFlag=False\n",
        "  if foundFlag:\n",
        "    try:\n",
        "      for line in infile:\n",
        "        cnt += 1\n",
        "        total += float(line)\n",
        "      print(\"average:\",total/cnt)\n",
        "    except ValueError:\n",
        "      print(\"Line\",cnt,\"could not be converted to a float\")\n",
        "      if count > 1:\n",
        "        print(\"Average so far:\",total/(count-1))\n",
        "        print(\"Total so far:\",total)\n",
        "      else:\n",
        "        print(\"No average can be calculated.\")\n",
        "    except ZeroDivisionError:\n",
        "      print(\"File was empty.\")\n",
        "    else:\n",
        "      print(\"Total:\",total)\n",
        "    finally:\n",
        "      infile.close()\n",
        "main()"
      ],
      "metadata": {
        "colab": {
          "base_uri": "https://localhost:8080/"
        },
        "id": "SfrSKvee5HPn",
        "outputId": "23f4b36a-1b6c-4c99-d8e4-3471f480bd67"
      },
      "execution_count": null,
      "outputs": [
        {
          "output_type": "stream",
          "name": "stdout",
          "text": [
            "File not found.\n"
          ]
        }
      ]
    },
    {
      "cell_type": "markdown",
      "source": [
        "### Random"
      ],
      "metadata": {
        "id": "a2lMzzq86-D_"
      }
    },
    {
      "cell_type": "code",
      "source": [
        "import random\n",
        "\n",
        "elements = [\"earth\",\"air\",\"fire\",\"water\"]\n",
        "print(random.choice(elements))\n",
        "print(random.sample(elements,2))\n",
        "random.shuffle(elements)\n",
        "print(elements)\n",
        "print(random.randint(1,5))"
      ],
      "metadata": {
        "colab": {
          "base_uri": "https://localhost:8080/"
        },
        "id": "B49VnzUe68Kn",
        "outputId": "61c7a229-8d09-4c96-b81d-5bd64c09d30f"
      },
      "execution_count": null,
      "outputs": [
        {
          "output_type": "stream",
          "name": "stdout",
          "text": [
            "earth\n",
            "['water', 'earth']\n",
            "['air', 'fire', 'water', 'earth']\n",
            "5\n"
          ]
        }
      ]
    },
    {
      "cell_type": "code",
      "source": [
        "import random\n",
        "import pickle\n",
        "\n",
        "infile = open(\"DeckOfCardsList.dat\",'rb')\n",
        "deckOfCards = pickle.load(infile)\n",
        "infile.close()\n",
        "print(deckOfCards)\n",
        "print()\n",
        "pokerHand = random.sample(deckOfCards,5)\n",
        "print(pokerHand)"
      ],
      "metadata": {
        "colab": {
          "base_uri": "https://localhost:8080/",
          "height": 248
        },
        "id": "O6o_xqqz7tZ3",
        "outputId": "0a9b32d1-6277-46dc-e678-66e638d28314"
      },
      "execution_count": null,
      "outputs": [
        {
          "output_type": "error",
          "ename": "FileNotFoundError",
          "evalue": "ignored",
          "traceback": [
            "\u001b[0;31m---------------------------------------------------------------------------\u001b[0m",
            "\u001b[0;31mFileNotFoundError\u001b[0m                         Traceback (most recent call last)",
            "\u001b[0;32m<ipython-input-178-39fd11396d3e>\u001b[0m in \u001b[0;36m<module>\u001b[0;34m\u001b[0m\n\u001b[1;32m      2\u001b[0m \u001b[0;32mimport\u001b[0m \u001b[0mpickle\u001b[0m\u001b[0;34m\u001b[0m\u001b[0;34m\u001b[0m\u001b[0m\n\u001b[1;32m      3\u001b[0m \u001b[0;34m\u001b[0m\u001b[0m\n\u001b[0;32m----> 4\u001b[0;31m \u001b[0minfile\u001b[0m \u001b[0;34m=\u001b[0m \u001b[0mopen\u001b[0m\u001b[0;34m(\u001b[0m\u001b[0;34m\"DeckOfCardsList.dat\"\u001b[0m\u001b[0;34m,\u001b[0m\u001b[0;34m'rb'\u001b[0m\u001b[0;34m)\u001b[0m\u001b[0;34m\u001b[0m\u001b[0;34m\u001b[0m\u001b[0m\n\u001b[0m\u001b[1;32m      5\u001b[0m \u001b[0mdeckOfCards\u001b[0m \u001b[0;34m=\u001b[0m \u001b[0mpickle\u001b[0m\u001b[0;34m.\u001b[0m\u001b[0mload\u001b[0m\u001b[0;34m(\u001b[0m\u001b[0minfile\u001b[0m\u001b[0;34m)\u001b[0m\u001b[0;34m\u001b[0m\u001b[0;34m\u001b[0m\u001b[0m\n\u001b[1;32m      6\u001b[0m \u001b[0minfile\u001b[0m\u001b[0;34m.\u001b[0m\u001b[0mclose\u001b[0m\u001b[0;34m(\u001b[0m\u001b[0;34m)\u001b[0m\u001b[0;34m\u001b[0m\u001b[0;34m\u001b[0m\u001b[0m\n",
            "\u001b[0;31mFileNotFoundError\u001b[0m: [Errno 2] No such file or directory: 'DeckOfCardsList.dat'"
          ]
        }
      ]
    },
    {
      "cell_type": "markdown",
      "source": [
        "### Recursion"
      ],
      "metadata": {
        "id": "BodAiR5l8h-U"
      }
    },
    {
      "cell_type": "code",
      "source": [
        "def power(r,n):\n",
        "  if n==1:\n",
        "    return r\n",
        "  else:\n",
        "    return r*power(r,n-1)\n",
        "print(power(2,3))"
      ],
      "metadata": {
        "colab": {
          "base_uri": "https://localhost:8080/"
        },
        "id": "360Sa6hG8kUH",
        "outputId": "df0fae3d-eddf-488a-f247-98142bc54b34"
      },
      "execution_count": null,
      "outputs": [
        {
          "output_type": "stream",
          "name": "stdout",
          "text": [
            "8\n"
          ]
        }
      ]
    },
    {
      "cell_type": "code",
      "source": [
        "def isPalindrome(word):\n",
        "  word = word.lower()\n",
        "  if len(word)<=1:\n",
        "    return True\n",
        "  elif word[0]==word[-1]:\n",
        "    word = word[1:-1]\n",
        "    return isPalindrome(word)\n",
        "  else:\n",
        "    return False"
      ],
      "metadata": {
        "id": "eAkxkqhr9yjn"
      },
      "execution_count": null,
      "outputs": []
    },
    {
      "cell_type": "markdown",
      "source": [
        "### Class"
      ],
      "metadata": {
        "id": "7s2BtyNZ-VJu"
      }
    },
    {
      "cell_type": "code",
      "source": [
        "class Rectangle:\n",
        "  def __init(self,width=1,height=1):\n",
        "    self._width = width\n",
        "    self._height = height\n",
        "  def setWidth(self,width):\n",
        "    self._width=width\n",
        "  def setHeight(self,height):\n",
        "    self._height=height\n",
        "  def getWidth(self):\n",
        "    return self._width\n",
        "  def getHeight(self):\n",
        "    return self._height\n",
        "  def area(self):\n",
        "    return self._width*self._height\n",
        "  def perimeter(self):\n",
        "    return 2*(self._width+self._height)\n",
        "  def __str__(self):\n",
        "    return(\"Width:\"+str(self._width)+\"\\nHeight :\" + str(self._height))"
      ],
      "metadata": {
        "id": "Y7KHE3lF-Win"
      },
      "execution_count": null,
      "outputs": []
    },
    {
      "cell_type": "code",
      "source": [
        "\n",
        "# 93page\n",
        "r = Rectangle.Rectangle(4,5)\n",
        "print(r)\n",
        "r = Rectangle.Rectangle()\n",
        "print(r)\n",
        "r = Rectangle.Rectangle(4)\n",
        "print(4)"
      ],
      "metadata": {
        "colab": {
          "base_uri": "https://localhost:8080/",
          "height": 248
        },
        "id": "YBMgV2nU_81p",
        "outputId": "6fbf177d-5d87-4878-ebcd-1a4ebf891036"
      },
      "execution_count": null,
      "outputs": [
        {
          "output_type": "error",
          "ename": "AttributeError",
          "evalue": "ignored",
          "traceback": [
            "\u001b[0;31m---------------------------------------------------------------------------\u001b[0m",
            "\u001b[0;31mAttributeError\u001b[0m                            Traceback (most recent call last)",
            "\u001b[0;32m<ipython-input-194-81574353161c>\u001b[0m in \u001b[0;36m<module>\u001b[0;34m\u001b[0m\n\u001b[1;32m      1\u001b[0m \u001b[0;31m# 93page\u001b[0m\u001b[0;34m\u001b[0m\u001b[0;34m\u001b[0m\u001b[0;34m\u001b[0m\u001b[0m\n\u001b[0;32m----> 2\u001b[0;31m \u001b[0mr\u001b[0m \u001b[0;34m=\u001b[0m \u001b[0mRectangle\u001b[0m\u001b[0;34m.\u001b[0m\u001b[0mRectangle\u001b[0m\u001b[0;34m(\u001b[0m\u001b[0;36m4\u001b[0m\u001b[0;34m,\u001b[0m\u001b[0;36m5\u001b[0m\u001b[0;34m)\u001b[0m\u001b[0;34m\u001b[0m\u001b[0;34m\u001b[0m\u001b[0m\n\u001b[0m\u001b[1;32m      3\u001b[0m \u001b[0mprint\u001b[0m\u001b[0;34m(\u001b[0m\u001b[0mr\u001b[0m\u001b[0;34m)\u001b[0m\u001b[0;34m\u001b[0m\u001b[0;34m\u001b[0m\u001b[0m\n\u001b[1;32m      4\u001b[0m \u001b[0mr\u001b[0m \u001b[0;34m=\u001b[0m \u001b[0mRectangle\u001b[0m\u001b[0;34m.\u001b[0m\u001b[0mRectangle\u001b[0m\u001b[0;34m(\u001b[0m\u001b[0;34m)\u001b[0m\u001b[0;34m\u001b[0m\u001b[0;34m\u001b[0m\u001b[0m\n\u001b[1;32m      5\u001b[0m \u001b[0mprint\u001b[0m\u001b[0;34m(\u001b[0m\u001b[0mr\u001b[0m\u001b[0;34m)\u001b[0m\u001b[0;34m\u001b[0m\u001b[0;34m\u001b[0m\u001b[0m\n",
            "\u001b[0;31mAttributeError\u001b[0m: type object 'Rectangle' has no attribute 'Rectangle'"
          ]
        }
      ]
    }
  ]
}