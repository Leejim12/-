{
  "cells": [
    {
      "cell_type": "markdown",
      "metadata": {
        "id": "Xl6kz6oOAiW-"
      },
      "source": [
        "# 과제\n",
        "### - 분석하려는 것에 대한 설명 :: 텍스트 셀\n",
        "### - 과정 : [웹페이지 선정] -> [크롤링] -> [csv 파일저장] -> [pandas 분석] -> [시각화]\n",
        "\n",
        "- 코랩에서 작성\n",
        "- 파일명 : 이영찬.ipynb\n",
        "\n",
        "* 웹크롤링으로 csv 생성하는 부분은, 지원되지 않는 점으로 인해 공공데이터 포털에서 가져옴.\n",
        "\n",
        "## 주제 : 전기생산량 및 판매량 현황 데이터 시각화\n",
        "## 목표 : 데이터 시각화를 통해, 연도 별 전기 생산량 및 사용량 분석을 용이하게 함."
      ]
    },
    {
      "cell_type": "code",
      "execution_count": 33,
      "metadata": {
        "id": "b-YesdrfhfR9"
      },
      "outputs": [],
      "source": [
        "#한글 폰트 설치 : colab , 런타임 다시 시작 하기\n",
        "\n",
        "import matplotlib.font_manager as fm\n",
        "\n",
        "!apt-get -qq -y install fonts-nanum > /dev/null\n",
        "fontpath = '/usr/share/fonts/truetype/nanum/NanumBarunGothic.ttf'\n",
        "font = fm.FontProperties(fname=fontpath, size=9)\n",
        "fm._rebuild()"
      ]
    },
    {
      "cell_type": "code",
      "execution_count": 3,
      "metadata": {
        "id": "4Hp5ADmphieV"
      },
      "outputs": [],
      "source": [
        "# 한글 폰트 설정\n",
        "import matplotlib.pyplot as plt\n",
        "import matplotlib as mpl\n",
        "import matplotlib.font_manager as fm\n",
        "\n",
        "mpl.rcParams['axes.unicode_minus'] = False\n",
        "\n",
        "path = '/usr/share/fonts/truetype/nanum/NanumGothicBold.ttf'\n",
        "font_name = fm.FontProperties(fname=path, size=18).get_name()\n",
        "plt.rc('font', family=font_name)\n",
        "fm._rebuild()"
      ]
    },
    {
      "cell_type": "markdown",
      "metadata": {
        "id": "FGNcNdPpc88c"
      },
      "source": [
        "# 1. 데이터 뽑아와서 csv생성\n",
        "- 생략.\n",
        "- csv 파일 명 : 산업통상자원부_집단에너지 전기생산 및 판매량 현황_20211231.csv"
      ]
    },
    {
      "cell_type": "markdown",
      "metadata": {
        "id": "6YkxvgV9hTCm"
      },
      "source": [
        "2. CSV파일 읽어오기"
      ]
    },
    {
      "cell_type": "code",
      "execution_count": 17,
      "metadata": {
        "colab": {
          "base_uri": "https://localhost:8080/",
          "height": 772
        },
        "id": "hIgZccY1dNZB",
        "outputId": "d06c3009-3c9d-4825-a0d6-f7df4c902b4f"
      },
      "outputs": [
        {
          "data": {
            "text/html": [
              "\n",
              "  <div id=\"df-546b832b-3fd1-49b5-9700-b583061602a9\">\n",
              "    <div class=\"colab-df-container\">\n",
              "      <div>\n",
              "<style scoped>\n",
              "    .dataframe tbody tr th:only-of-type {\n",
              "        vertical-align: middle;\n",
              "    }\n",
              "\n",
              "    .dataframe tbody tr th {\n",
              "        vertical-align: top;\n",
              "    }\n",
              "\n",
              "    .dataframe thead th {\n",
              "        text-align: right;\n",
              "    }\n",
              "</style>\n",
              "<table border=\"1\" class=\"dataframe\">\n",
              "  <thead>\n",
              "    <tr style=\"text-align: right;\">\n",
              "      <th></th>\n",
              "      <th>연도</th>\n",
              "      <th>지역난방_전기생산량</th>\n",
              "      <th>산업단지_전기생산량</th>\n",
              "      <th>병행_전기생산량</th>\n",
              "      <th>지역난방_전기판매량</th>\n",
              "      <th>산업단지_전기판매량</th>\n",
              "      <th>병행_전기판매량</th>\n",
              "      <th>국내_사업자_총_발전량</th>\n",
              "      <th>집단에너지_사업자_생산비율</th>\n",
              "    </tr>\n",
              "  </thead>\n",
              "  <tbody>\n",
              "    <tr>\n",
              "      <th>0</th>\n",
              "      <td>1995</td>\n",
              "      <td>NaN</td>\n",
              "      <td>NaN</td>\n",
              "      <td>NaN</td>\n",
              "      <td>96</td>\n",
              "      <td>3747</td>\n",
              "      <td>NaN</td>\n",
              "      <td>183106</td>\n",
              "      <td>NaN</td>\n",
              "    </tr>\n",
              "    <tr>\n",
              "      <th>1</th>\n",
              "      <td>1996</td>\n",
              "      <td>NaN</td>\n",
              "      <td>NaN</td>\n",
              "      <td>NaN</td>\n",
              "      <td>97</td>\n",
              "      <td>4145</td>\n",
              "      <td>NaN</td>\n",
              "      <td>203786</td>\n",
              "      <td>NaN</td>\n",
              "    </tr>\n",
              "    <tr>\n",
              "      <th>2</th>\n",
              "      <td>1997</td>\n",
              "      <td>NaN</td>\n",
              "      <td>NaN</td>\n",
              "      <td>NaN</td>\n",
              "      <td>313</td>\n",
              "      <td>4563</td>\n",
              "      <td>NaN</td>\n",
              "      <td>222379</td>\n",
              "      <td>NaN</td>\n",
              "    </tr>\n",
              "    <tr>\n",
              "      <th>3</th>\n",
              "      <td>1998</td>\n",
              "      <td>535.0</td>\n",
              "      <td>6946.0</td>\n",
              "      <td>NaN</td>\n",
              "      <td>469</td>\n",
              "      <td>6529</td>\n",
              "      <td>NaN</td>\n",
              "      <td>211910</td>\n",
              "      <td>3.53</td>\n",
              "    </tr>\n",
              "    <tr>\n",
              "      <th>4</th>\n",
              "      <td>1999</td>\n",
              "      <td>622.0</td>\n",
              "      <td>8896.0</td>\n",
              "      <td>NaN</td>\n",
              "      <td>556</td>\n",
              "      <td>8934</td>\n",
              "      <td>NaN</td>\n",
              "      <td>234659</td>\n",
              "      <td>4.06</td>\n",
              "    </tr>\n",
              "    <tr>\n",
              "      <th>5</th>\n",
              "      <td>2000</td>\n",
              "      <td>1542.0</td>\n",
              "      <td>9906.0</td>\n",
              "      <td>NaN</td>\n",
              "      <td>1451</td>\n",
              "      <td>10656</td>\n",
              "      <td>NaN</td>\n",
              "      <td>261678</td>\n",
              "      <td>4.37</td>\n",
              "    </tr>\n",
              "    <tr>\n",
              "      <th>6</th>\n",
              "      <td>2001</td>\n",
              "      <td>3480.0</td>\n",
              "      <td>9921.0</td>\n",
              "      <td>NaN</td>\n",
              "      <td>3364</td>\n",
              "      <td>10343</td>\n",
              "      <td>NaN</td>\n",
              "      <td>281078</td>\n",
              "      <td>4.77</td>\n",
              "    </tr>\n",
              "    <tr>\n",
              "      <th>7</th>\n",
              "      <td>2002</td>\n",
              "      <td>4427.0</td>\n",
              "      <td>9757.0</td>\n",
              "      <td>NaN</td>\n",
              "      <td>4259</td>\n",
              "      <td>10092</td>\n",
              "      <td>NaN</td>\n",
              "      <td>302033</td>\n",
              "      <td>4.70</td>\n",
              "    </tr>\n",
              "    <tr>\n",
              "      <th>8</th>\n",
              "      <td>2003</td>\n",
              "      <td>4626.0</td>\n",
              "      <td>14438.0</td>\n",
              "      <td>NaN</td>\n",
              "      <td>4339</td>\n",
              "      <td>13480</td>\n",
              "      <td>NaN</td>\n",
              "      <td>317572</td>\n",
              "      <td>6.00</td>\n",
              "    </tr>\n",
              "    <tr>\n",
              "      <th>9</th>\n",
              "      <td>2004</td>\n",
              "      <td>4361.0</td>\n",
              "      <td>13541.0</td>\n",
              "      <td>NaN</td>\n",
              "      <td>4070</td>\n",
              "      <td>12651</td>\n",
              "      <td>NaN</td>\n",
              "      <td>341702</td>\n",
              "      <td>5.24</td>\n",
              "    </tr>\n",
              "    <tr>\n",
              "      <th>10</th>\n",
              "      <td>2005</td>\n",
              "      <td>4442.0</td>\n",
              "      <td>13041.0</td>\n",
              "      <td>NaN</td>\n",
              "      <td>4098</td>\n",
              "      <td>11849</td>\n",
              "      <td>NaN</td>\n",
              "      <td>364369</td>\n",
              "      <td>4.80</td>\n",
              "    </tr>\n",
              "    <tr>\n",
              "      <th>11</th>\n",
              "      <td>2006</td>\n",
              "      <td>4127.0</td>\n",
              "      <td>13117.0</td>\n",
              "      <td>NaN</td>\n",
              "      <td>3740</td>\n",
              "      <td>12283</td>\n",
              "      <td>NaN</td>\n",
              "      <td>380802</td>\n",
              "      <td>4.53</td>\n",
              "    </tr>\n",
              "    <tr>\n",
              "      <th>12</th>\n",
              "      <td>2007</td>\n",
              "      <td>5219.0</td>\n",
              "      <td>13637.0</td>\n",
              "      <td>NaN</td>\n",
              "      <td>4727</td>\n",
              "      <td>12652</td>\n",
              "      <td>NaN</td>\n",
              "      <td>402294</td>\n",
              "      <td>4.69</td>\n",
              "    </tr>\n",
              "    <tr>\n",
              "      <th>13</th>\n",
              "      <td>2008</td>\n",
              "      <td>7841.0</td>\n",
              "      <td>13862.0</td>\n",
              "      <td>NaN</td>\n",
              "      <td>7384</td>\n",
              "      <td>12309</td>\n",
              "      <td>NaN</td>\n",
              "      <td>421626</td>\n",
              "      <td>5.15</td>\n",
              "    </tr>\n",
              "    <tr>\n",
              "      <th>14</th>\n",
              "      <td>2009</td>\n",
              "      <td>7264.0</td>\n",
              "      <td>14965.0</td>\n",
              "      <td>NaN</td>\n",
              "      <td>6931</td>\n",
              "      <td>14098</td>\n",
              "      <td>NaN</td>\n",
              "      <td>432748</td>\n",
              "      <td>5.14</td>\n",
              "    </tr>\n",
              "    <tr>\n",
              "      <th>15</th>\n",
              "      <td>2010</td>\n",
              "      <td>9373.0</td>\n",
              "      <td>9184.0</td>\n",
              "      <td>NaN</td>\n",
              "      <td>9402</td>\n",
              "      <td>11272</td>\n",
              "      <td>NaN</td>\n",
              "      <td>473818</td>\n",
              "      <td>3.92</td>\n",
              "    </tr>\n",
              "    <tr>\n",
              "      <th>16</th>\n",
              "      <td>2011</td>\n",
              "      <td>13917.0</td>\n",
              "      <td>9632.0</td>\n",
              "      <td>348.0</td>\n",
              "      <td>13742</td>\n",
              "      <td>11927</td>\n",
              "      <td>289.0</td>\n",
              "      <td>496080</td>\n",
              "      <td>4.82</td>\n",
              "    </tr>\n",
              "    <tr>\n",
              "      <th>17</th>\n",
              "      <td>2012</td>\n",
              "      <td>16483.0</td>\n",
              "      <td>9947.0</td>\n",
              "      <td>381.0</td>\n",
              "      <td>16433</td>\n",
              "      <td>11702</td>\n",
              "      <td>310.0</td>\n",
              "      <td>507480</td>\n",
              "      <td>5.28</td>\n",
              "    </tr>\n",
              "    <tr>\n",
              "      <th>18</th>\n",
              "      <td>2013</td>\n",
              "      <td>17378.0</td>\n",
              "      <td>7177.0</td>\n",
              "      <td>464.0</td>\n",
              "      <td>17369</td>\n",
              "      <td>10004</td>\n",
              "      <td>373.0</td>\n",
              "      <td>515467</td>\n",
              "      <td>4.85</td>\n",
              "    </tr>\n",
              "    <tr>\n",
              "      <th>19</th>\n",
              "      <td>2014</td>\n",
              "      <td>16063.0</td>\n",
              "      <td>11941.0</td>\n",
              "      <td>361.0</td>\n",
              "      <td>15933</td>\n",
              "      <td>12811</td>\n",
              "      <td>317.0</td>\n",
              "      <td>521409</td>\n",
              "      <td>5.44</td>\n",
              "    </tr>\n",
              "  </tbody>\n",
              "</table>\n",
              "</div>\n",
              "      <button class=\"colab-df-convert\" onclick=\"convertToInteractive('df-546b832b-3fd1-49b5-9700-b583061602a9')\"\n",
              "              title=\"Convert this dataframe to an interactive table.\"\n",
              "              style=\"display:none;\">\n",
              "        \n",
              "  <svg xmlns=\"http://www.w3.org/2000/svg\" height=\"24px\"viewBox=\"0 0 24 24\"\n",
              "       width=\"24px\">\n",
              "    <path d=\"M0 0h24v24H0V0z\" fill=\"none\"/>\n",
              "    <path d=\"M18.56 5.44l.94 2.06.94-2.06 2.06-.94-2.06-.94-.94-2.06-.94 2.06-2.06.94zm-11 1L8.5 8.5l.94-2.06 2.06-.94-2.06-.94L8.5 2.5l-.94 2.06-2.06.94zm10 10l.94 2.06.94-2.06 2.06-.94-2.06-.94-.94-2.06-.94 2.06-2.06.94z\"/><path d=\"M17.41 7.96l-1.37-1.37c-.4-.4-.92-.59-1.43-.59-.52 0-1.04.2-1.43.59L10.3 9.45l-7.72 7.72c-.78.78-.78 2.05 0 2.83L4 21.41c.39.39.9.59 1.41.59.51 0 1.02-.2 1.41-.59l7.78-7.78 2.81-2.81c.8-.78.8-2.07 0-2.86zM5.41 20L4 18.59l7.72-7.72 1.47 1.35L5.41 20z\"/>\n",
              "  </svg>\n",
              "      </button>\n",
              "      \n",
              "  <style>\n",
              "    .colab-df-container {\n",
              "      display:flex;\n",
              "      flex-wrap:wrap;\n",
              "      gap: 12px;\n",
              "    }\n",
              "\n",
              "    .colab-df-convert {\n",
              "      background-color: #E8F0FE;\n",
              "      border: none;\n",
              "      border-radius: 50%;\n",
              "      cursor: pointer;\n",
              "      display: none;\n",
              "      fill: #1967D2;\n",
              "      height: 32px;\n",
              "      padding: 0 0 0 0;\n",
              "      width: 32px;\n",
              "    }\n",
              "\n",
              "    .colab-df-convert:hover {\n",
              "      background-color: #E2EBFA;\n",
              "      box-shadow: 0px 1px 2px rgba(60, 64, 67, 0.3), 0px 1px 3px 1px rgba(60, 64, 67, 0.15);\n",
              "      fill: #174EA6;\n",
              "    }\n",
              "\n",
              "    [theme=dark] .colab-df-convert {\n",
              "      background-color: #3B4455;\n",
              "      fill: #D2E3FC;\n",
              "    }\n",
              "\n",
              "    [theme=dark] .colab-df-convert:hover {\n",
              "      background-color: #434B5C;\n",
              "      box-shadow: 0px 1px 3px 1px rgba(0, 0, 0, 0.15);\n",
              "      filter: drop-shadow(0px 1px 2px rgba(0, 0, 0, 0.3));\n",
              "      fill: #FFFFFF;\n",
              "    }\n",
              "  </style>\n",
              "\n",
              "      <script>\n",
              "        const buttonEl =\n",
              "          document.querySelector('#df-546b832b-3fd1-49b5-9700-b583061602a9 button.colab-df-convert');\n",
              "        buttonEl.style.display =\n",
              "          google.colab.kernel.accessAllowed ? 'block' : 'none';\n",
              "\n",
              "        async function convertToInteractive(key) {\n",
              "          const element = document.querySelector('#df-546b832b-3fd1-49b5-9700-b583061602a9');\n",
              "          const dataTable =\n",
              "            await google.colab.kernel.invokeFunction('convertToInteractive',\n",
              "                                                     [key], {});\n",
              "          if (!dataTable) return;\n",
              "\n",
              "          const docLinkHtml = 'Like what you see? Visit the ' +\n",
              "            '<a target=\"_blank\" href=https://colab.research.google.com/notebooks/data_table.ipynb>data table notebook</a>'\n",
              "            + ' to learn more about interactive tables.';\n",
              "          element.innerHTML = '';\n",
              "          dataTable['output_type'] = 'display_data';\n",
              "          await google.colab.output.renderOutput(dataTable, element);\n",
              "          const docLink = document.createElement('div');\n",
              "          docLink.innerHTML = docLinkHtml;\n",
              "          element.appendChild(docLink);\n",
              "        }\n",
              "      </script>\n",
              "    </div>\n",
              "  </div>\n",
              "  "
            ],
            "text/plain": [
              "      연도  지역난방_전기생산량  산업단지_전기생산량  병행_전기생산량  지역난방_전기판매량  산업단지_전기판매량  병행_전기판매량  \\\n",
              "0   1995         NaN         NaN       NaN          96        3747       NaN   \n",
              "1   1996         NaN         NaN       NaN          97        4145       NaN   \n",
              "2   1997         NaN         NaN       NaN         313        4563       NaN   \n",
              "3   1998       535.0      6946.0       NaN         469        6529       NaN   \n",
              "4   1999       622.0      8896.0       NaN         556        8934       NaN   \n",
              "5   2000      1542.0      9906.0       NaN        1451       10656       NaN   \n",
              "6   2001      3480.0      9921.0       NaN        3364       10343       NaN   \n",
              "7   2002      4427.0      9757.0       NaN        4259       10092       NaN   \n",
              "8   2003      4626.0     14438.0       NaN        4339       13480       NaN   \n",
              "9   2004      4361.0     13541.0       NaN        4070       12651       NaN   \n",
              "10  2005      4442.0     13041.0       NaN        4098       11849       NaN   \n",
              "11  2006      4127.0     13117.0       NaN        3740       12283       NaN   \n",
              "12  2007      5219.0     13637.0       NaN        4727       12652       NaN   \n",
              "13  2008      7841.0     13862.0       NaN        7384       12309       NaN   \n",
              "14  2009      7264.0     14965.0       NaN        6931       14098       NaN   \n",
              "15  2010      9373.0      9184.0       NaN        9402       11272       NaN   \n",
              "16  2011     13917.0      9632.0     348.0       13742       11927     289.0   \n",
              "17  2012     16483.0      9947.0     381.0       16433       11702     310.0   \n",
              "18  2013     17378.0      7177.0     464.0       17369       10004     373.0   \n",
              "19  2014     16063.0     11941.0     361.0       15933       12811     317.0   \n",
              "\n",
              "    국내_사업자_총_발전량  집단에너지_사업자_생산비율  \n",
              "0         183106             NaN  \n",
              "1         203786             NaN  \n",
              "2         222379             NaN  \n",
              "3         211910            3.53  \n",
              "4         234659            4.06  \n",
              "5         261678            4.37  \n",
              "6         281078            4.77  \n",
              "7         302033            4.70  \n",
              "8         317572            6.00  \n",
              "9         341702            5.24  \n",
              "10        364369            4.80  \n",
              "11        380802            4.53  \n",
              "12        402294            4.69  \n",
              "13        421626            5.15  \n",
              "14        432748            5.14  \n",
              "15        473818            3.92  \n",
              "16        496080            4.82  \n",
              "17        507480            5.28  \n",
              "18        515467            4.85  \n",
              "19        521409            5.44  "
            ]
          },
          "execution_count": 17,
          "metadata": {},
          "output_type": "execute_result"
        }
      ],
      "source": [
        "import pandas as pd\n",
        "df = pd.read_csv('EleData.csv',encoding='cp949')\n",
        "df.head(20)"
      ]
    },
    {
      "cell_type": "markdown",
      "metadata": {
        "id": "tsobi_BAijv1"
      },
      "source": [
        "* df 정보 보기"
      ]
    },
    {
      "cell_type": "code",
      "execution_count": 10,
      "metadata": {
        "colab": {
          "base_uri": "https://localhost:8080/"
        },
        "id": "-O2e0DfmigXl",
        "outputId": "38d7fc37-1638-46de-b1ba-18e0f1f0daee"
      },
      "outputs": [
        {
          "name": "stdout",
          "output_type": "stream",
          "text": [
            "<class 'pandas.core.frame.DataFrame'>\n",
            "RangeIndex: 27 entries, 0 to 26\n",
            "Data columns (total 9 columns):\n",
            " #   Column          Non-Null Count  Dtype  \n",
            "---  ------          --------------  -----  \n",
            " 0   연도              27 non-null     int64  \n",
            " 1   지역난방_전기생산량      24 non-null     float64\n",
            " 2   산업단지_전기생산량      24 non-null     float64\n",
            " 3   병행_전기생산량        11 non-null     float64\n",
            " 4   지역난방_전기판매량      27 non-null     int64  \n",
            " 5   산업단지_전기판매량      27 non-null     int64  \n",
            " 6   병행_전기판매량        11 non-null     float64\n",
            " 7   국내_사업자_총_발전량    27 non-null     int64  \n",
            " 8   집단에너지_사업자_생산비율  24 non-null     float64\n",
            "dtypes: float64(5), int64(4)\n",
            "memory usage: 2.0 KB\n"
          ]
        }
      ],
      "source": [
        "df.info()"
      ]
    },
    {
      "cell_type": "code",
      "execution_count": 12,
      "metadata": {
        "colab": {
          "base_uri": "https://localhost:8080/",
          "height": 298
        },
        "id": "j6Bp8AeBisZd",
        "outputId": "ea0d43ca-90af-4ad4-943c-6bc21031a333"
      },
      "outputs": [
        {
          "data": {
            "image/png": "[encoded data removed]",
            "text/plain": [
              "<Figure size 432x288 with 1 Axes>"
            ]
          },
          "metadata": {
            "needs_background": "light"
          },
          "output_type": "display_data"
        },
        {
          "name": "stdout",
          "output_type": "stream",
          "text": [
            "연도별 지역난방 전기생산량\n"
          ]
        }
      ],
      "source": [
        "import matplotlib.pyplot as plt\n",
        "df['지역난방_전기생산량'].head(20).plot(kind='bar')\n",
        "plt.xticks(range(20),labels=df['연도'].head(20),rotation=90)\n",
        "plt.show()\n",
        "print(\"연도별 지역난방 전기생산량\")"
      ]
    },
    {
      "cell_type": "code",
      "execution_count": 13,
      "metadata": {
        "colab": {
          "base_uri": "https://localhost:8080/",
          "height": 471
        },
        "id": "BUTWiMHBjBO-",
        "outputId": "5cf991f8-6fbe-4114-a945-406a8849b7cb"
      },
      "outputs": [
        {
          "data": {
            "image/png": "[encoded data removed]",
            "text/plain": [
              "<Figure size 720x504 with 1 Axes>"
            ]
          },
          "metadata": {
            "needs_background": "light"
          },
          "output_type": "display_data"
        }
      ],
      "source": [
        "import matplotlib.pyplot as plt\n",
        "import seaborn as sns\n",
        "\n",
        "plt.figure(figsize=(10,7))\n",
        "sns.barplot(x='연도',y='국내_사업자_총_발전량',data=df.head(10))\n",
        "plt.title('국내_사업자_총_발전량')\n",
        "plt.xticks(rotation=90)\n",
        "plt.show()"
      ]
    },
    {
      "cell_type": "code",
      "execution_count": 14,
      "metadata": {
        "colab": {
          "base_uri": "https://localhost:8080/",
          "height": 296
        },
        "id": "ZbS7C6WzuKT4",
        "outputId": "c9835a4c-4936-4e23-a1db-481bd7ab7a91"
      },
      "outputs": [
        {
          "name": "stderr",
          "output_type": "stream",
          "text": [
            "/usr/local/lib/python3.8/dist-packages/seaborn/distributions.py:2619: FutureWarning: `distplot` is a deprecated function and will be removed in a future version. Please adapt your code to use either `displot` (a figure-level function with similar flexibility) or `histplot` (an axes-level function for histograms).\n",
            "  warnings.warn(msg, FutureWarning)\n"
          ]
        },
        {
          "data": {
            "image/png": "[encoded data removed]",
            "text/plain": [
              "<Figure size 360x216 with 1 Axes>"
            ]
          },
          "metadata": {
            "needs_background": "light"
          },
          "output_type": "display_data"
        }
      ],
      "source": [
        "plt.figure(figsize=(5,3))\n",
        "sns.distplot(df['지역난방_전기판매량'])\n",
        "plt.title('지역난방_전기판매량')\n",
        "plt.show()"
      ]
    },
    {
      "cell_type": "code",
      "execution_count": 18,
      "metadata": {
        "colab": {
          "base_uri": "https://localhost:8080/",
          "height": 238
        },
        "id": "9c_N7UU2wd1l",
        "outputId": "2774fd3b-6325-46ae-f2d0-94fea25348bc"
      },
      "outputs": [
        {
          "data": {
            "image/png": "[encoded data removed]",
            "text/plain": [
              "<Figure size 360x216 with 1 Axes>"
            ]
          },
          "metadata": {
            "needs_background": "light"
          },
          "output_type": "display_data"
        }
      ],
      "source": [
        "plt.figure(figsize=(5,3))\n",
        "sns.boxplot(x='연도',y='산업단지_전기생산량',data=df)\n",
        "plt.title('산업단지_전기생산량')\n",
        "plt.show()"
      ]
    }
  ],
  "metadata": {
    "colab": {
      "provenance": []
    },
    "kernelspec": {
      "display_name": "Python 3.11.0 64-bit",
      "language": "python",
      "name": "python3"
    },
    "language_info": {
      "name": "python",
      "version": "3.11.0"
    },
    "vscode": {
      "interpreter": {
        "hash": "c261aea317cc0286b3b3261fbba9abdec21eaa57589985bb7a274bf54d6cc0a7"
      }
    }
  },
  "nbformat": 4,
  "nbformat_minor": 0
}
