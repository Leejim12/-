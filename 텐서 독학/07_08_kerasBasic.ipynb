{
 "cells": [
  {
   "cell_type": "code",
   "execution_count": 1,
   "metadata": {},
   "outputs": [],
   "source": [
    "import tensorflow as tf"
   ]
  },
  {
   "attachments": {},
   "cell_type": "markdown",
   "metadata": {},
   "source": [
    "### TokenA.fit_on_text([string]) ==> string에 대응하는 토큰화"
   ]
  },
  {
   "cell_type": "code",
   "execution_count": 12,
   "metadata": {},
   "outputs": [
    {
     "name": "stdout",
     "output_type": "stream",
     "text": [
      "이전: {}\n",
      "이후: {'the': 1, 'earth': 2, 'is': 3, 'an': 4, 'awesome': 5, 'place': 6, 'to': 7, 'live': 8}\n",
      "==================================\n",
      "TokenA.fit_on_text([string]) ==> string에 대응하는 토큰화\n",
      "chk [1, 2, 3, 4, 6, 7, 8]\n",
      "\n"
     ]
    }
   ],
   "source": [
    "from tensorflow.keras.preprocessing.text import Tokenizer\n",
    "from tensorflow.keras.preprocessing.sequence import pad_sequences\n",
    "\n",
    "tokenizer = Tokenizer()                               # Token 생성\n",
    "train_text = \"The earth is an awesome place to live\"\n",
    "print(\"이전:\",tokenizer.word_index)\n",
    "\n",
    "# 단어 집합\n",
    "tokenizer.fit_on_texts([train_text])  ## 이거해도 id는 같음.(immutable)\n",
    "## ▲ train_test에 맞는 토큰 생성\n",
    "print(\"이후:\",tokenizer.word_index)\n",
    "print(\"==================================\")\n",
    "print(\"TokenA.fit_on_text([string]) ==> string에 대응하는 토큰화\")\n",
    "# 정수 인코딩\n",
    "sub_text = \"The earth is an great place to live\"\n",
    "sequences = tokenizer.texts_to_sequences([sub_text])[0]\n",
    "print(\"chk\",tokenizer.texts_to_sequences([sub_text])[0])\n",
    "print()\n"
   ]
  },
  {
   "attachments": {},
   "cell_type": "markdown",
   "metadata": {},
   "source": [
    "### pad_sequence() ==> 각 샘플의 길이가 다를 때, 맞춰줌"
   ]
  },
  {
   "cell_type": "code",
   "execution_count": 8,
   "metadata": {},
   "outputs": [
    {
     "data": {
      "text/plain": [
       "array([[1, 2, 3],\n",
       "       [4, 5, 6],\n",
       "       [0, 7, 8]])"
      ]
     },
     "execution_count": 8,
     "metadata": {},
     "output_type": "execute_result"
    }
   ],
   "source": [
    "pad_sequences([[1,2,3],[3,4,5,6],[7,8]],maxlen=3,padding=\"pre\")\n",
    "## padding = \"pre\" : 빼거나, 0넣을 때 이전꺼로.\n",
    "## padding = \"post\" : 빼거나 채울때, 이후꺼로\n"
   ]
  },
  {
   "attachments": {
    "image.png": {
     "image/png": "[encoded data removed]"
    }
   },
   "cell_type": "markdown",
   "metadata": {},
   "source": [
    "### 임베딩 벡터 vs 원-핫 벡터\n",
    "![image.png](attachment:image.png)\n"
   ]
  },
  {
   "cell_type": "code",
   "execution_count": 16,
   "metadata": {},
   "outputs": [
    {
     "name": "stdout",
     "output_type": "stream",
     "text": [
      "<keras.layers.core.embedding.Embedding object at 0x0000029CD5E64A90>\n"
     ]
    }
   ],
   "source": [
    "# 1. 단어 토큰화\n",
    "tokenized_text = [['Hope','to','see','you','soon'],['Nice','to','see','you','again']]\n",
    "\n",
    "#2. 정수 인코딩\n",
    "encoded_text = [[0,1,2,3,4],[5,1,2,3,6]]\n",
    "\n",
    "#3. 임베딩 벡터 생성\n",
    "vocab_size = 7\n",
    "embedding_dim =2\n",
    "k = tf.keras.layers.Embedding(vocab_size,embedding_dim,input_length=5)\n",
    "print(k)"
   ]
  },
  {
   "attachments": {},
   "cell_type": "markdown",
   "metadata": {},
   "source": [
    "### 모델링 ==> 층 구성\n",
    "Sequential()\n",
    "=> model.add()"
   ]
  },
  {
   "cell_type": "code",
   "execution_count": 19,
   "metadata": {},
   "outputs": [
    {
     "name": "stdout",
     "output_type": "stream",
     "text": [
      "Model: \"sequential_4\"\n",
      "_________________________________________________________________\n",
      " Layer (type)                Output Shape              Param #   \n",
      "=================================================================\n",
      " dense_1 (Dense)             (None, 8)                 40        \n",
      "                                                                 \n",
      " dense_2 (Dense)             (None, 1)                 9         \n",
      "                                                                 \n",
      "=================================================================\n",
      "Total params: 49\n",
      "Trainable params: 49\n",
      "Non-trainable params: 0\n",
      "_________________________________________________________________\n"
     ]
    }
   ],
   "source": [
    "from tensorflow.keras.models import Sequential\n",
    "from tensorflow.keras.layers import Dense\n",
    "from tensorflow.keras.layers import Embedding as Embedding\n",
    "\n",
    "# 임베딩 층 추가\n",
    "model = Sequential()   # 모델생성\n",
    "model.add(Embedding(vocab_size,embedding_dim,input_length=5))  # 임베딩 층 추가\n",
    "\n",
    "# 전결합 층 추가\n",
    "model = Sequential()\n",
    "model.add(Dense(1,input_dim=3,activation='relu'))\n",
    "## 첫 인자 : 출력 뉴런의 수\n",
    "## input_dim : 입력한 뉴런의 수\n",
    "## activation : 활성화 함수 ('reul'은 은닉층에 주로 사용됨)\n",
    "\n",
    "# 하나 더 추가(전결합층)\n",
    "model = Sequential()\n",
    "model.add(Dense(8,input_dim=4,activation='relu'))\n",
    "model.add(Dense(1,activation='sigmoid')) ## 출력층\n",
    "\n",
    "model.summary()"
   ]
  },
  {
   "attachments": {
    "image.png": {
     "image/png": "[encoded data removed]"
    }
   },
   "cell_type": "markdown",
   "metadata": {},
   "source": [
    "### 컴파일 & 훈련\n",
    "![image.png](attachment:image.png)"
   ]
  },
  {
   "cell_type": "code",
   "execution_count": 21,
   "metadata": {},
   "outputs": [],
   "source": [
    "from tensorflow.keras.layers import SimpleRNN,Embedding,Dense\n",
    "from tensorflow.keras.models import Sequential\n",
    "\n",
    "vocab_size = 10000\n",
    "embedding_dim = 32\n",
    "hidden_units = 32\n",
    "\n",
    "model = Sequential()\n",
    "model.add(Embedding(vocab_size,embedding_dim))\n",
    "model.add(SimpleRNN(hidden_units))\n",
    "model.add(Dense(1,activation='sigmoid'))\n",
    "model.compile(optimizer='rmsprop',loss = 'binary_crossentropy',metrics=['acc'])\n",
    "## 모델을 기계가 이해할 수 있도록 컴파일 해줌\n",
    "### 손실함수, 옵티마이저, 메트릭함수 선택 필요."
   ]
  },
  {
   "attachments": {},
   "cell_type": "markdown",
   "metadata": {},
   "source": [
    "모델학습"
   ]
  },
  {
   "cell_type": "code",
   "execution_count": null,
   "metadata": {},
   "outputs": [],
   "source": [
    "model.fit(X_train,y_train,epochs=10,batch_size=32)\n",
    "# epochs :: 1 => 전체 데이터 한 차례 흝고 지나감 (총 훈련횟수)\n",
    "### => 정숫값\n",
    "# batch_size : default = 32, 미니 배치 경사 하강 안쓰고 싶으면\n",
    "# batch_size = None"
   ]
  },
  {
   "attachments": {
    "image.png": {
     "image/png": "[encoded data removed]"
    }
   },
   "cell_type": "markdown",
   "metadata": {},
   "source": [
    "모델학습 -1. 검증데이터 사용\n",
    "* verbose = 학습 중 출력되는 문구\n",
    "```\n",
    "0 : 출력x\n",
    "1 : 훈련 진행도 보여주는 막대 보여줌\n",
    "2 : 미니 배치마다 손실 정보 출력\n",
    "```\n",
    "![image.png](attachment:image.png)"
   ]
  },
  {
   "cell_type": "code",
   "execution_count": null,
   "metadata": {},
   "outputs": [],
   "source": [
    "model.fit(X_train,y_train,epochs=10,batch_size=32,verbose=0,validation_data=(x_val,y_val))\n",
    "\n",
    "## 검증데이터까지 사용."
   ]
  },
  {
   "attachments": {},
   "cell_type": "markdown",
   "metadata": {},
   "source": [
    "모델학습 -2. 훈련데이터의 20& 자동으로 검증데이터로 사용"
   ]
  },
  {
   "cell_type": "code",
   "execution_count": null,
   "metadata": {},
   "outputs": [],
   "source": [
    "model.fit(X_train,\n",
    "          y_train,\n",
    "          epochs=10,batch_size=32,verbose=0,validation_split=0.2)"
   ]
  },
  {
   "attachments": {},
   "cell_type": "markdown",
   "metadata": {},
   "source": [
    "### 평가 & 예측"
   ]
  },
  {
   "cell_type": "code",
   "execution_count": null,
   "metadata": {},
   "outputs": [],
   "source": [
    "model.evaluate(X_test,  # test data\n",
    "               y_test,  # label test data\n",
    "               batch_size=32)\n",
    "\n",
    "model.predict(X_input,batch_size)\n",
    "## X_input이 현재 예측하고 싶은 데이터\n",
    "# 임의 출력에 대한 모델의 출력값 확인."
   ]
  },
  {
   "attachments": {},
   "cell_type": "markdown",
   "metadata": {},
   "source": [
    "저장, 로드"
   ]
  },
  {
   "cell_type": "code",
   "execution_count": 24,
   "metadata": {},
   "outputs": [],
   "source": [
    "# save\n",
    "model.save(\"model_name.h5\") ## 모델 저장\n",
    "\n",
    "# load\n",
    "from tensorflow.keras.models import load_model\n",
    "model = load_model(\"model_name.h5\")"
   ]
  }
 ],
 "metadata": {
  "kernelspec": {
   "display_name": "base",
   "language": "python",
   "name": "python3"
  },
  "language_info": {
   "codemirror_mode": {
    "name": "ipython",
    "version": 3
   },
   "file_extension": ".py",
   "mimetype": "text/x-python",
   "name": "python",
   "nbconvert_exporter": "python",
   "pygments_lexer": "ipython3",
   "version": "3.9.13"
  },
  "orig_nbformat": 4,
  "vscode": {
   "interpreter": {
    "hash": "ad2bdc8ecc057115af97d19610ffacc2b4e99fae6737bb82f5d7fb13d2f2c186"
   }
  }
 },
 "nbformat": 4,
 "nbformat_minor": 2
}
