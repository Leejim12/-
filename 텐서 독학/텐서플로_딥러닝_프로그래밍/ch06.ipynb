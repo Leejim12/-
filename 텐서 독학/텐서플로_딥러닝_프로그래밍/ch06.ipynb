{
 "cells": [
  {
   "attachments": {},
   "cell_type": "markdown",
   "metadata": {},
   "source": [
    "# ch06\n",
    "데이터셋 다루는 법 연습"
   ]
  },
  {
   "attachments": {},
   "cell_type": "markdown",
   "metadata": {},
   "source": [
    "### 기본 "
   ]
  },
  {
   "cell_type": "code",
   "execution_count": 2,
   "metadata": {},
   "outputs": [],
   "source": [
    "import tensorflow as tf\n",
    "import pathlib\n",
    "import os\n",
    "import matplotlib.pyplot as plt\n",
    "import pandas as pd\n",
    "import numpy as np\n",
    "\n",
    "np.set_printoptions(precision=4)  ## 소수점 반올림하기 옵션"
   ]
  },
  {
   "cell_type": "code",
   "execution_count": 4,
   "metadata": {},
   "outputs": [],
   "source": [
    "natural_numbers = [1,2,3,4,5,6,7,8,9,10]\n",
    "## 정수 일반 list 생성"
   ]
  },
  {
   "cell_type": "code",
   "execution_count": null,
   "metadata": {},
   "outputs": [],
   "source": [
    "dataset = tf.data.Dataset.from_tensor_slices(natural_numbers)\n",
    "## 가지고 있는 list를 이용, tensor 생성\n",
    "## from_tensor_slices(list명)\n",
    "### ==> 리스트 객체 하나하나를 다 따로 텐서화\n",
    "\n",
    "print(dataset)\n",
    "# <TensorSliceDataset element_spec=TensorSpec(shape=(), dtype=tf.int32, name=None)>\n",
    "type(dataset)\n",
    "# tensorflow.python.data.ops.from_tensor_slices_op.TensorSliceDataset"
   ]
  },
  {
   "cell_type": "code",
   "execution_count": 6,
   "metadata": {},
   "outputs": [
    {
     "name": "stdout",
     "output_type": "stream",
     "text": [
      "tf.Tensor(1, shape=(), dtype=int32)\n",
      "tf.Tensor(2, shape=(), dtype=int32)\n",
      "tf.Tensor(3, shape=(), dtype=int32)\n",
      "tf.Tensor(4, shape=(), dtype=int32)\n",
      "tf.Tensor(5, shape=(), dtype=int32)\n",
      "tf.Tensor(6, shape=(), dtype=int32)\n",
      "tf.Tensor(7, shape=(), dtype=int32)\n",
      "tf.Tensor(8, shape=(), dtype=int32)\n",
      "tf.Tensor(9, shape=(), dtype=int32)\n",
      "tf.Tensor(10, shape=(), dtype=int32)\n"
     ]
    }
   ],
   "source": [
    "for num in dataset:\n",
    "  print(num)\n",
    "  \n",
    "## ds의 객체는 다 Tensor임"
   ]
  },
  {
   "cell_type": "code",
   "execution_count": 7,
   "metadata": {},
   "outputs": [
    {
     "name": "stdout",
     "output_type": "stream",
     "text": [
      "tf.Tensor([ 1  2  3  4  5  6  7  8  9 10], shape=(10,), dtype=int32)\n"
     ]
    }
   ],
   "source": [
    "dataset2 = tf.data.Dataset.from_tensors(natural_numbers)\n",
    "## tf.data.Dataset.from_tensors(list명)\n",
    "### list이용, 리스트 통짜배기로 벡터화\n",
    "\n",
    "for num in dataset2:\n",
    "  print(num)"
   ]
  },
  {
   "cell_type": "code",
   "execution_count": 8,
   "metadata": {},
   "outputs": [
    {
     "name": "stdout",
     "output_type": "stream",
     "text": [
      "1\n",
      "2\n",
      "3\n",
      "4\n",
      "5\n",
      "6\n",
      "7\n",
      "8\n",
      "9\n",
      "10\n"
     ]
    }
   ],
   "source": [
    "for num in dataset.as_numpy_iterator():\n",
    "  print(num)\n",
    "# as_numpy_iterator()에 의해, 각각의 객체들이 다 iter화 됨."
   ]
  },
  {
   "cell_type": "code",
   "execution_count": 9,
   "metadata": {},
   "outputs": [
    {
     "name": "stdout",
     "output_type": "stream",
     "text": [
      "tf.Tensor(1, shape=(), dtype=int32)\n",
      "tf.Tensor(2, shape=(), dtype=int32)\n",
      "tf.Tensor(3, shape=(), dtype=int32)\n"
     ]
    }
   ],
   "source": [
    "for num in dataset.take(3):\n",
    "  print(num)\n",
    "# ds의 객체 중 3개만 가져와서 프린트"
   ]
  },
  {
   "cell_type": "code",
   "execution_count": 10,
   "metadata": {},
   "outputs": [
    {
     "name": "stdout",
     "output_type": "stream",
     "text": [
      "WARNING:tensorflow:From C:\\Users\\user\\AppData\\Roaming\\Python\\Python39\\site-packages\\tensorflow\\python\\autograph\\pyct\\static_analysis\\liveness.py:83: Analyzer.lamba_check (from tensorflow.python.autograph.pyct.static_analysis.liveness) is deprecated and will be removed after 2023-09-23.\n",
      "Instructions for updating:\n",
      "Lambda fuctions will be no more assumed to be used in the statement where they are used, or at least in the same block. https://github.com/tensorflow/tensorflow/issues/56089\n",
      "tf.Tensor(6, shape=(), dtype=int32)\n",
      "tf.Tensor(7, shape=(), dtype=int32)\n",
      "tf.Tensor(8, shape=(), dtype=int32)\n",
      "tf.Tensor(9, shape=(), dtype=int32)\n",
      "tf.Tensor(10, shape=(), dtype=int32)\n"
     ]
    }
   ],
   "source": [
    "## filter + lambda식 이용\n",
    "for num in dataset.filter(lambda x : 5<x):\n",
    "  print(num)\n",
    "  "
   ]
  },
  {
   "cell_type": "code",
   "execution_count": 11,
   "metadata": {},
   "outputs": [
    {
     "name": "stdout",
     "output_type": "stream",
     "text": [
      "tf.Tensor(1, shape=(), dtype=int32)\n",
      "tf.Tensor(4, shape=(), dtype=int32)\n",
      "tf.Tensor(9, shape=(), dtype=int32)\n",
      "tf.Tensor(16, shape=(), dtype=int32)\n",
      "tf.Tensor(25, shape=(), dtype=int32)\n",
      "tf.Tensor(36, shape=(), dtype=int32)\n",
      "tf.Tensor(49, shape=(), dtype=int32)\n",
      "tf.Tensor(64, shape=(), dtype=int32)\n",
      "tf.Tensor(81, shape=(), dtype=int32)\n",
      "tf.Tensor(100, shape=(), dtype=int32)\n"
     ]
    }
   ],
   "source": [
    "for num in dataset.map(lambda x : x**2):\n",
    "  print(num)\n",
    "## dataset.map을 이용해서, map 내부 람다식의 내용 처럼 각각의 객체틀 변형"
   ]
  },
  {
   "cell_type": "code",
   "execution_count": 12,
   "metadata": {},
   "outputs": [
    {
     "name": "stdout",
     "output_type": "stream",
     "text": [
      "tf.Tensor(2, shape=(), dtype=int32)\n",
      "tf.Tensor(4, shape=(), dtype=int32)\n",
      "tf.Tensor(5, shape=(), dtype=int32)\n",
      "tf.Tensor(1, shape=(), dtype=int32)\n",
      "tf.Tensor(3, shape=(), dtype=int32)\n",
      "tf.Tensor(6, shape=(), dtype=int32)\n",
      "tf.Tensor(7, shape=(), dtype=int32)\n",
      "tf.Tensor(9, shape=(), dtype=int32)\n",
      "tf.Tensor(10, shape=(), dtype=int32)\n",
      "tf.Tensor(8, shape=(), dtype=int32)\n"
     ]
    }
   ],
   "source": [
    "for num in dataset.shuffle(3):\n",
    "  print(num)\n",
    "## ds 섞기"
   ]
  },
  {
   "cell_type": "code",
   "execution_count": 13,
   "metadata": {},
   "outputs": [
    {
     "name": "stdout",
     "output_type": "stream",
     "text": [
      "tf.Tensor([1 2 3], shape=(3,), dtype=int32)\n",
      "tf.Tensor([4 5 6], shape=(3,), dtype=int32)\n",
      "tf.Tensor([7 8 9], shape=(3,), dtype=int32)\n",
      "tf.Tensor([10], shape=(1,), dtype=int32)\n"
     ]
    }
   ],
   "source": [
    "for num in dataset.batch(3):\n",
    "  print(num)\n",
    "# 3개씩 묶어줌."
   ]
  },
  {
   "cell_type": "code",
   "execution_count": 14,
   "metadata": {},
   "outputs": [
    {
     "name": "stdout",
     "output_type": "stream",
     "text": [
      "tf.Tensor([ 9 16 36], shape=(3,), dtype=int32)\n",
      "tf.Tensor([25 49 64], shape=(3,), dtype=int32)\n",
      "tf.Tensor([ 81 100], shape=(2,), dtype=int32)\n"
     ]
    }
   ],
   "source": [
    "for num in dataset\\\n",
    "  .map(lambda x : x**2)\\\n",
    "  .filter(lambda x:5<x)\\\n",
    "  .shuffle(3).batch(3):\n",
    "    print(num)"
   ]
  },
  {
   "cell_type": "code",
   "execution_count": 15,
   "metadata": {},
   "outputs": [
    {
     "name": "stdout",
     "output_type": "stream",
     "text": [
      "tf.Tensor([ 5  9 15 19 13], shape=(5,), dtype=int32)\n",
      "tf.Tensor([25 31  7 29  3], shape=(5,), dtype=int32)\n",
      "tf.Tensor([37 27 35 43 33], shape=(5,), dtype=int32)\n",
      "tf.Tensor([11 39 47 49 41], shape=(5,), dtype=int32)\n",
      "tf.Tensor([ 1 17 61 21 57], shape=(5,), dtype=int32)\n",
      "tf.Tensor([69 55 65 53 45], shape=(5,), dtype=int32)\n",
      "tf.Tensor([73 67 59 77 71], shape=(5,), dtype=int32)\n",
      "tf.Tensor([89 91 85 87 95], shape=(5,), dtype=int32)\n",
      "tf.Tensor([97 99 83 63 81], shape=(5,), dtype=int32)\n",
      "tf.Tensor([75 93 23 51 79], shape=(5,), dtype=int32)\n"
     ]
    }
   ],
   "source": [
    "## 1~100 자연수 리스트\n",
    "## -1. 홀수만 선택\n",
    "## -2. 랜덤섞기, 5개씩 50개 출력\n",
    "\n",
    "NL = range(1,101)\n",
    "for num in tf.data.Dataset.from_tensor_slices(NL).filter(lambda x : x%2==1).shuffle(10).batch(5):\n",
    "  print(num)"
   ]
  },
  {
   "attachments": {},
   "cell_type": "markdown",
   "metadata": {},
   "source": [
    "### 기본 ds 사용"
   ]
  },
  {
   "cell_type": "code",
   "execution_count": 17,
   "metadata": {},
   "outputs": [
    {
     "name": "stdout",
     "output_type": "stream",
     "text": [
      "<TensorDataset element_spec=TensorSpec(shape=(3,), dtype=tf.int32, name=None)>\n"
     ]
    }
   ],
   "source": [
    "tensor_dataset_from_numpy = tf.data.Dataset.from_tensors(np.array([1,2,3]))\n",
    "print(tensor_dataset_from_numpy)"
   ]
  },
  {
   "cell_type": "code",
   "execution_count": 21,
   "metadata": {},
   "outputs": [
    {
     "name": "stdout",
     "output_type": "stream",
     "text": [
      "tf.Tensor([1 2 3], shape=(3,), dtype=int32)\n",
      "<class 'tensorflow.python.framework.ops.EagerTensor'>\n"
     ]
    },
    {
     "data": {
      "text/plain": [
       "tensorflow.python.data.ops.dataset_ops.TensorDataset"
      ]
     },
     "execution_count": 21,
     "metadata": {},
     "output_type": "execute_result"
    }
   ],
   "source": [
    "for i in tensor_dataset_from_numpy:\n",
    "  print(i)\n",
    "  print(type(i))\n",
    "type(tensor_dataset_from_numpy)"
   ]
  },
  {
   "cell_type": "code",
   "execution_count": 22,
   "metadata": {},
   "outputs": [
    {
     "name": "stdout",
     "output_type": "stream",
     "text": [
      "tf.Tensor([1 2 3], shape=(3,), dtype=int32)\n",
      "tf.Tensor([4 5 6], shape=(3,), dtype=int32)\n",
      "tf.Tensor([7 8 9], shape=(3,), dtype=int32)\n"
     ]
    }
   ],
   "source": [
    "## 다차원\n",
    "tensor_slice_dataset2 = tf.data.Dataset.from_tensor_slices(np.array([[1,2,3],[4,5,6],[7,8,9]]))\n",
    "\n",
    "for i in tensor_slice_dataset2:\n",
    "  print(i)"
   ]
  },
  {
   "cell_type": "code",
   "execution_count": 23,
   "metadata": {},
   "outputs": [
    {
     "name": "stdout",
     "output_type": "stream",
     "text": [
      "<class 'numpy.ndarray'> (60000, 28, 28)\n",
      "<class 'numpy.ndarray'> (60000,)\n"
     ]
    }
   ],
   "source": [
    "## fashion_minist 로드하기\n",
    "train,test = tf.keras.datasets.fashion_mnist.load_data()\n",
    "### ds가 애초에 train,test 로 저장되어 있군\n",
    "Image,labels = train ## 각각의 ds 들은 이미지, 레이블 두개로 구성.\n",
    "\n",
    "print(type(Image),Image.shape)\n",
    "print(type(labels),labels.shape)"
   ]
  },
  {
   "attachments": {},
   "cell_type": "markdown",
   "metadata": {},
   "source": [
    "### 이미지 데이터셋\n",
    "0~9 숫자 이미지\n",
    "훈련 6만, 테스트 1만"
   ]
  },
  {
   "cell_type": "code",
   "execution_count": 31,
   "metadata": {},
   "outputs": [
    {
     "name": "stdout",
     "output_type": "stream",
     "text": [
      "x_train.shape= (60000, 28, 28)\n",
      "y_train.shape= (60000,)\n",
      "x_test.shape= (10000, 28, 28)\n",
      "y_test.shape= (10000,)\n"
     ]
    }
   ],
   "source": [
    "import tensorflow as tf\n",
    "import numpy as np\n",
    "import matplotlib.pyplot as plt\n",
    "\n",
    "(x_train,y_train),(x_test,y_test) = tf.keras.datasets.mnist.load_data()\n",
    "\n",
    "# 1\n",
    "print(\"x_train.shape=\", x_train.shape) # (60000, 28, 28)\n",
    "print(\"y_train.shape=\", y_train.shape) # (60000,)\n",
    "print(\"x_test.shape=\",  x_test.shape)  # (10000, 28, 28)\n",
    "print(\"y_test.shape=\",  y_test.shape)  # (10000,)"
   ]
  },
  {
   "cell_type": "markdown",
   "metadata": {},
   "source": []
  },
  {
   "cell_type": "code",
   "execution_count": 32,
   "metadata": {},
   "outputs": [],
   "source": [
    "## nlabel, count 지정\n",
    "nlabel,count = np.unique(y_train,return_counts=True)"
   ]
  },
  {
   "cell_type": "code",
   "execution_count": 33,
   "metadata": {},
   "outputs": [
    {
     "data": {
      "image/png": "[encoded data removed]",
      "text/plain": [
       "<Figure size 800x400 with 8 Axes>"
      ]
     },
     "metadata": {},
     "output_type": "display_data"
    }
   ],
   "source": [
    "# 이미지 보이기\n",
    "fig = plt.figure(figsize=(8,4))\n",
    "for i in range(8):\n",
    "  plt.subplot(2,4,i+1)\n",
    "  plt.imshow(x_train[i],cmap='gray')\n",
    "  plt.axis(\"off\")\n",
    "fig.tight_layout()\n",
    "plt.show()"
   ]
  },
  {
   "cell_type": "code",
   "execution_count": null,
   "metadata": {},
   "outputs": [],
   "source": [
    "# 학습 데이터?\n"
   ]
  },
  {
   "attachments": {},
   "cell_type": "markdown",
   "metadata": {},
   "source": [
    "### 텍스트 데이터 전처리"
   ]
  },
  {
   "cell_type": "code",
   "execution_count": 24,
   "metadata": {},
   "outputs": [
    {
     "data": {
      "text/plain": [
       "[['Smooth', 'like', 'butter'],\n",
       " ['Like', 'a', 'criminal', 'undercover'],\n",
       " [\"Gon'\", 'pop', 'like', 'trouble'],\n",
       " [\"Breakin'\", 'into', 'your', 'heart', 'like', 'that'],\n",
       " ['Cool', 'shade', 'stunner'],\n",
       " ['Yeah,', 'I', 'owe', 'it', 'all', 'to', 'my', 'mother'],\n",
       " ['Hot', 'like', 'summer'],\n",
       " ['Yeah,', \"I'm\", \"makin'\", 'you', 'sweat', 'like', 'that'],\n",
       " ['Break', 'it', 'down'],\n",
       " []]"
      ]
     },
     "execution_count": 24,
     "metadata": {},
     "output_type": "execute_result"
    }
   ],
   "source": [
    "import tensorflow as tf\n",
    "butter = \"\"\"\n",
    "Smooth like butter/\n",
    "Like a criminal undercover/\n",
    "Gon' pop like trouble/\n",
    "Breakin' into your heart like that/\n",
    "Cool shade stunner/\n",
    "Yeah, I owe it all to my mother/\n",
    "Hot like summer/\n",
    "Yeah, I'm makin' you sweat like that/\n",
    "Break it down/\n",
    "\"\"\"\n",
    "butter = butter.split(\"/\")\n",
    "butter = [line.split() for line in butter]\n",
    "## split() : 공백 기준 자르기 (단어 자르기)\n",
    "butter"
   ]
  },
  {
   "cell_type": "code",
   "execution_count": 26,
   "metadata": {},
   "outputs": [
    {
     "name": "stdout",
     "output_type": "stream",
     "text": [
      "1\n",
      "defaultdict(<class 'int'>, {5: 1, 1: 6, 6: 1, 9: 1, 8: 1, 7: 1, 12: 1, 11: 1, 10: 1, 15: 1, 2: 2, 14: 1, 16: 1, 13: 1, 19: 1, 18: 1, 17: 1, 24: 1, 22: 1, 3: 2, 21: 1, 20: 1, 25: 1, 23: 1, 4: 2, 27: 1, 26: 1, 31: 1, 30: 1, 29: 1, 28: 1, 32: 1, 33: 1})\n",
      "2\n",
      "{1: 'like', 2: 'that', 3: 'yeah,', 4: 'it', 5: 'smooth', 6: 'butter', 7: 'a', 8: 'criminal', 9: 'undercover', 10: \"gon'\", 11: 'pop', 12: 'trouble', 13: \"breakin'\", 14: 'into', 15: 'your', 16: 'heart', 17: 'cool', 18: 'shade', 19: 'stunner', 20: 'i', 21: 'owe', 22: 'all', 23: 'to', 24: 'my', 25: 'mother', 26: 'hot', 27: 'summer', 28: \"i'm\", 29: \"makin'\", 30: 'you', 31: 'sweat', 32: 'break', 33: 'down'}\n",
      "3\n",
      "{'like': 1, 'that': 2, 'yeah,': 3, 'it': 4, 'smooth': 5, 'butter': 6, 'a': 7, 'criminal': 8, 'undercover': 9, \"gon'\": 10, 'pop': 11, 'trouble': 12, \"breakin'\": 13, 'into': 14, 'your': 15, 'heart': 16, 'cool': 17, 'shade': 18, 'stunner': 19, 'i': 20, 'owe': 21, 'all': 22, 'to': 23, 'my': 24, 'mother': 25, 'hot': 26, 'summer': 27, \"i'm\": 28, \"makin'\": 29, 'you': 30, 'sweat': 31, 'break': 32, 'down': 33}\n",
      "4\n",
      "defaultdict(<class 'int'>, {'smooth': 1, 'like': 6, 'butter': 1, 'undercover': 1, 'criminal': 1, 'a': 1, 'trouble': 1, 'pop': 1, \"gon'\": 1, 'your': 1, 'that': 2, 'into': 1, 'heart': 1, \"breakin'\": 1, 'stunner': 1, 'shade': 1, 'cool': 1, 'my': 1, 'all': 1, 'yeah,': 2, 'owe': 1, 'i': 1, 'mother': 1, 'to': 1, 'it': 2, 'summer': 1, 'hot': 1, 'sweat': 1, 'you': 1, \"makin'\": 1, \"i'm\": 1, 'break': 1, 'down': 1})\n",
      "5\n",
      "OrderedDict([('smooth', 1), ('like', 6), ('butter', 1), ('a', 1), ('criminal', 1), ('undercover', 1), (\"gon'\", 1), ('pop', 1), ('trouble', 1), (\"breakin'\", 1), ('into', 1), ('your', 1), ('heart', 1), ('that', 2), ('cool', 1), ('shade', 1), ('stunner', 1), ('yeah,', 2), ('i', 1), ('owe', 1), ('it', 2), ('all', 1), ('to', 1), ('my', 1), ('mother', 1), ('hot', 1), ('summer', 1), (\"i'm\", 1), (\"makin'\", 1), ('you', 1), ('sweat', 1), ('break', 1), ('down', 1)])\n",
      "6\n",
      "[('a', 1), ('all', 1), ('break', 1), (\"breakin'\", 1), ('butter', 1), ('cool', 1), ('criminal', 1), ('down', 1), (\"gon'\", 1), ('heart', 1), ('hot', 1), ('i', 1), (\"i'm\", 1), ('into', 1), ('it', 2), ('like', 6), (\"makin'\", 1), ('mother', 1), ('my', 1), ('owe', 1), ('pop', 1), ('shade', 1), ('smooth', 1), ('stunner', 1), ('summer', 1), ('sweat', 1), ('that', 2), ('to', 1), ('trouble', 1), ('undercover', 1), ('yeah,', 2), ('you', 1), ('your', 1)]\n"
     ]
    }
   ],
   "source": [
    "# 단어장 만들어보기\n",
    "tokenizer1 = tf.keras.preprocessing.text.Tokenizer()\n",
    "## 토크나이저 생성\n",
    "tokenizer1.fit_on_texts(butter)\n",
    "## butter :: 각각의 단어들이 저장되어 있는 list\n",
    "## 얘에 맞게 토큰 변형\n",
    "\n",
    "## 1\n",
    "print(\"1\")\n",
    "print(tokenizer1.index_docs)\n",
    "print(\"2\")\n",
    "print(tokenizer1.index_word)\n",
    "print(\"3\")\n",
    "print(tokenizer1.word_index)\n",
    "print(\"4\")\n",
    "print(tokenizer1.word_docs)\n",
    "print(\"5\")\n",
    "print(tokenizer1.word_counts)\n",
    "print(\"6\")\n",
    "print(sorted(tokenizer1.word_counts.items()))\n",
    "\n"
   ]
  },
  {
   "cell_type": "code",
   "execution_count": 27,
   "metadata": {},
   "outputs": [
    {
     "data": {
      "text/plain": [
       "[[5, 1, 6],\n",
       " [1, 7, 8, 9],\n",
       " [10, 11, 1, 12],\n",
       " [13, 14, 15, 16, 1, 2],\n",
       " [17, 18, 19],\n",
       " [3, 20, 21, 4, 22, 23, 24, 25],\n",
       " [26, 1, 27],\n",
       " [3, 28, 29, 30, 31, 1, 2],\n",
       " [32, 4, 33],\n",
       " []]"
      ]
     },
     "execution_count": 27,
     "metadata": {},
     "output_type": "execute_result"
    }
   ],
   "source": [
    "# butter 가사 숫자로 변경\n",
    "encoded_butter = tokenizer1.texts_to_sequences(butter)\n",
    "tokenizer1.texts_to_sequences(butter)"
   ]
  },
  {
   "cell_type": "code",
   "execution_count": 28,
   "metadata": {},
   "outputs": [
    {
     "name": "stdout",
     "output_type": "stream",
     "text": [
      "defaultdict(<class 'int'>, {6: 1, 2: 6, 7: 1, 10: 1, 9: 1, 8: 1, 13: 1, 12: 1, 11: 1, 16: 1, 3: 2, 15: 1, 17: 1, 14: 1, 20: 1, 19: 1, 18: 1, 25: 1, 23: 1, 4: 2, 22: 1, 21: 1, 26: 1, 24: 1, 5: 2, 28: 1, 27: 1, 32: 1, 31: 1, 30: 1, 29: 1, 33: 1, 34: 1})\n",
      "{1: '<OOV>', 2: 'like', 3: 'that', 4: 'yeah,', 5: 'it', 6: 'smooth', 7: 'butter', 8: 'a', 9: 'criminal', 10: 'undercover', 11: \"gon'\", 12: 'pop', 13: 'trouble', 14: \"breakin'\", 15: 'into', 16: 'your', 17: 'heart', 18: 'cool', 19: 'shade', 20: 'stunner', 21: 'i', 22: 'owe', 23: 'all', 24: 'to', 25: 'my', 26: 'mother', 27: 'hot', 28: 'summer', 29: \"i'm\", 30: \"makin'\", 31: 'you', 32: 'sweat', 33: 'break', 34: 'down'}\n",
      "{'<OOV>': 1, 'like': 2, 'that': 3, 'yeah,': 4, 'it': 5, 'smooth': 6, 'butter': 7, 'a': 8, 'criminal': 9, 'undercover': 10, \"gon'\": 11, 'pop': 12, 'trouble': 13, \"breakin'\": 14, 'into': 15, 'your': 16, 'heart': 17, 'cool': 18, 'shade': 19, 'stunner': 20, 'i': 21, 'owe': 22, 'all': 23, 'to': 24, 'my': 25, 'mother': 26, 'hot': 27, 'summer': 28, \"i'm\": 29, \"makin'\": 30, 'you': 31, 'sweat': 32, 'break': 33, 'down': 34}\n"
     ]
    },
    {
     "data": {
      "text/plain": [
       "[[1, 2, 1],\n",
       " [2, 1, 1, 1],\n",
       " [1, 1, 2, 1],\n",
       " [1, 1, 1, 1, 2, 3],\n",
       " [1, 1, 1],\n",
       " [4, 1, 1, 1, 1, 1, 1, 1],\n",
       " [1, 2, 1],\n",
       " [4, 1, 1, 1, 1, 2, 3],\n",
       " [1, 1, 1],\n",
       " []]"
      ]
     },
     "execution_count": 28,
     "metadata": {},
     "output_type": "execute_result"
    }
   ],
   "source": [
    "tokenizer1 = tf.keras.preprocessing.text.Tokenizer(num_words=5,oov_token='<OOV>')\n",
    "tokenizer1.fit_on_texts(butter)\n",
    "print(tokenizer1.index_docs)\n",
    "print(tokenizer1.index_word)\n",
    "print(tokenizer1.word_index)\n",
    "\n",
    "encoded_butter = tokenizer1.texts_to_sequences(butter)\n",
    "encoded_butter"
   ]
  },
  {
   "cell_type": "code",
   "execution_count": null,
   "metadata": {},
   "outputs": [],
   "source": [
    "# 문장 길이 일치시켜보기 * 28*28\n",
    "from tensorflow.keras.preprocessing.sequence import pad_sequences"
   ]
  }
 ],
 "metadata": {
  "kernelspec": {
   "display_name": "base",
   "language": "python",
   "name": "python3"
  },
  "language_info": {
   "codemirror_mode": {
    "name": "ipython",
    "version": 3
   },
   "file_extension": ".py",
   "mimetype": "text/x-python",
   "name": "python",
   "nbconvert_exporter": "python",
   "pygments_lexer": "ipython3",
   "version": "3.9.13"
  },
  "orig_nbformat": 4,
  "vscode": {
   "interpreter": {
    "hash": "ad2bdc8ecc057115af97d19610ffacc2b4e99fae6737bb82f5d7fb13d2f2c186"
   }
  }
 },
 "nbformat": 4,
 "nbformat_minor": 2
}
