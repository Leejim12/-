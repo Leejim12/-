{
 "cells": [
  {
   "attachments": {},
   "cell_type": "markdown",
   "metadata": {},
   "source": [
    "## Lab 004\n",
    "\n",
    "> 문제 10\n",
    "---\n",
    "1. 1부터 100까지 자연수를 list 로 만듭니다.\n",
    "2. list 를 이용해서 tf.data.Dataset 을 생성합니다.\n",
    "3. Dataset에서 홀수만 선택합니다.\n",
    "4. 랜덤하게 섞어서 5 개씩 50개의 자연수를 모두 출력합니다.\n",
    "\n",
    "**제출**\n",
    "\n",
    "구현한 코드가 담긴 colab 파일을 PLATO \"텐서플로 LAB 제출하기 게시판\"에 비밀글로 제출하세요.\n",
    "\n",
    "제목양식: [Lab 004 - 문제 10]\n"
   ]
  },
  {
   "cell_type": "code",
   "execution_count": null,
   "metadata": {},
   "outputs": [],
   "source": [
    "NumList = range(1,101)\n",
    "for num in tf.data.Dataset.from_tensor_slices(NumList).filter(lambda x:x%2==1).shuffle(10).batch(5):\n",
    "  print(num)"
   ]
  }
 ],
 "metadata": {
  "language_info": {
   "name": "python"
  },
  "orig_nbformat": 4
 },
 "nbformat": 4,
 "nbformat_minor": 2
}
