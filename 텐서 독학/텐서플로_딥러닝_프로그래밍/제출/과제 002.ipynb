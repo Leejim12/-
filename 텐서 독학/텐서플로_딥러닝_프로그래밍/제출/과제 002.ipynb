{
 "cells": [
  {
   "cell_type": "code",
   "execution_count": null,
   "metadata": {},
   "outputs": [],
   "source": [
    "import tensorflow as tf\n",
    "from tensorflow.keras.datasets import boston_housing\n",
    "import numpy as np\n",
    "import matplotlib.pyplot as plt\n",
    "\n",
    "(x_train, y_train), (x_test, y_test) = boston_housing.load_data()\n",
    "##print(\"x_train.shape=\",x_train.shape) # (404, 13)\n",
    "##print(\"y_train.shape=\",y_train.shape) # (404,)\n",
    "##print(\"x_test.shape=\", x_test.shape)  # (102, 13)\n",
    "##print(\"y_test.shape=\", y_test.shape)  # (102,)\n",
    "\n",
    "model = tf.keras.Sequential()\n",
    "\n",
    "#1: 1-layer\n",
    "##model.add(tf.keras.layers.Dense(units=1, input_dim=x_train.shape[1]))# x_train.shape[1]=13\n",
    "\n",
    "#2:  3-layer\n",
    "model.add(tf.keras.layers.Dense(units=10, input_dim=x_train.shape[1]))\n",
    "model.add(tf.keras.layers.Dense(units=10))\n",
    "model.add(tf.keras.layers.Dense(units=1))\n",
    "model.summary()\n",
    "\n",
    "opt = tf.keras.optimizers.RMSprop(learning_rate=0.001)\n",
    "model.compile(optimizer=opt, loss='mse', metrics=['mae']) #mean absolute error\n",
    "ret = model.fit(x_train, y_train, epochs=100, validation_split=0.2, verbose=0)\n",
    "\n",
    "train_loss = model.evaluate(x_train, y_train, verbose=2)\n",
    "test_loss = model.evaluate(x_test, y_test, verbose=2)\n",
    "\n",
    "##loss = ret.history['loss']\n",
    "##plt.plot(loss)\n",
    "##plt.xlabel('epochs')\n",
    "##plt.ylabel('loss')\n",
    "##plt.show()\n",
    "\n",
    "y_pred = model.predict(x_test)\n",
    "##print(\"y_pred:\", y_pred)\n",
    "\n",
    "plt.ylabel(\"median value of owner-occupied homes in $1000s\")\n",
    "plt.plot(y_pred, \"r-\", label=\"y_pred\")\n",
    "plt.plot(y_test, \"b-\", label=\"y_test\")\n",
    "plt.legend(loc='best')\n",
    "plt.show()"
   ]
  },
  {
   "cell_type": "code",
   "execution_count": null,
   "metadata": {},
   "outputs": [],
   "source": [
    "(x_train, y_train), (x_test, y_test) = boston_housing.load_data()\n",
    "\n",
    "def normalize(data):\n",
    "  mean = tf.reduce_mean(data, axis=0)\n",
    "  std = tf.math.reduce_std(data, axis=0)\n",
    "  return (data-mean)/std, mean, std\n",
    "\n",
    "x_train, x_train_mean, x_train_std = normalize(x_train)\n",
    "y_train, y_train_mean, y_train_std = normalize(y_train)\n",
    "x_test, x_test_mean, x_test_std = normalize(x_test)\n",
    "y_test, x_test_mean, x_test_std = normalize(y_test)\n",
    "\n",
    "plt.figure()\n",
    "plt.hist(x_train)\n",
    "\n",
    "plt.figure()\n",
    "plt.hist(y_train)"
   ]
  },
  {
   "cell_type": "code",
   "execution_count": null,
   "metadata": {},
   "outputs": [],
   "source": [
    "\n",
    "model = tf.keras.Sequential([\n",
    "  tf.keras.layers.Dense(units=64, activation='relu', input_shape=(1,13)),\n",
    "  tf.keras.layers.Dense(units=32, activation='relu'),\n",
    "  tf.keras.layers.Dense(units=16, activation='relu'),  \n",
    "  tf.keras.layers.Dense(units=1)\n",
    "])\n",
    "print(model.summary())\n",
    "model.compile(optimizer='adam',loss='mse')\n",
    "\n",
    "AUTOTUNE = tf.data.AUTOTUNE\n",
    "ds = tf.data.Dataset.from_tensor_slices((tf.expand_dims(x_train, axis=1), tf.expand_dims(y_train, axis=1)))\n",
    "ds = ds.cache().shuffle(100).batch(32).prefetch(buffer_size=AUTOTUNE)\n",
    "history = model.fit(ds, epochs=30)"
   ]
  },
  {
   "cell_type": "code",
   "execution_count": null,
   "metadata": {},
   "outputs": [],
   "source": [
    "print('history.params', history.params)\n",
    "print('history.history', history.history)\n",
    "plt.plot(history.history['loss'])\n",
    "plt.xlabel('epochs')\n",
    "plt.ylabel('mse')"
   ]
  },
  {
   "cell_type": "markdown",
   "metadata": {},
   "source": []
  },
  {
   "cell_type": "code",
   "execution_count": null,
   "metadata": {},
   "outputs": [],
   "source": [
    "#ds_test = tf.data.Dataset.from_tensor_slices(tf.expand_dims(x_test, axis=1))\n",
    "#for d in ds_test:\n",
    "#  print(d.shape)\n",
    "y_pred = model.predict(tf.expand_dims(x_test, axis=1))\n",
    "#plt.plot(y_test, 'b.')\n",
    "#plt.plot(y_pred.squeeze(), 'r.')\n",
    "x_test_mean, \n",
    "plt.plot(y_test*x_test_std+x_test_mean, y_pred.squeeze()*x_test_std+x_test_mean, 'g.')\n",
    "plt.xlabel('y_test')\n",
    "plt.ylabel('y_pred')"
   ]
  }
 ],
 "metadata": {
  "language_info": {
   "name": "python"
  },
  "orig_nbformat": 4
 },
 "nbformat": 4,
 "nbformat_minor": 2
}
