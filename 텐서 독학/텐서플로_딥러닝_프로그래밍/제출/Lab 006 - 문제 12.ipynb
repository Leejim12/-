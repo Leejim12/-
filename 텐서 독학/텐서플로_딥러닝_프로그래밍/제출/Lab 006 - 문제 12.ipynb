{
 "cells": [
  {
   "cell_type": "code",
   "execution_count": null,
   "metadata": {},
   "outputs": [],
   "source": [
    "import tensorflow as tf\n",
    "reviews = [\n",
    "    \"8년 정도 사용하던 맥북을 바꿔줬어요. 요즘 휴대폰, 패드가 너무 잘나와서 맥북 쓸 일은 그렇게 많이 없긴 한데 그래도 없으면 불편하니 기변합니다. 프로 13인치 깡통은 에어에 비해 망작이라고들 말하는데 120만원대에 22개월 무이자라면 말이 다르죠ㅎㅎ 불편하다던 터치바도 생각보다 편리한 기능들이 많아서 꽤 마음에 듭니다. 터치 아이디도 편하구요. 전 모델은 팬이 없어서 발열이 심했는데 역시 팬이 있으니 발열도 심하지 않고 좋아요. 쾌적합니다.\",\n",
    "    \"어제밤11시50분이 넘어서 주문했는데 오늘오후3시에 받았어요^^배송 너무 빨라서 놀랐고 가격도 할인을 정말 많이 받아서 저렴하게 구입했어요^^ 물건은 말할것도 없이 포장도 꼼꼼하고 아들이 정말 좋아해요^^ 잘쓰겠습니다~ 대박나시고 건강하세요^ 감사합니다\",\n",
    "    \"맥북 사실때 주의 하셔야할 사항이 본체에 미세한 전기가 흐르는 사항 입니다. 이유는 접지가 없어서 그렇다고 하네요. 추가로 접지 가능한 플러그를 구매 하셔야 합니다. ㅠㅠ\",\n",
    "    \"하이마트는 배송이 빨라서 좋다 기대도 안했는데 빨리 옴 하이마트는 전국 하이마트 지점 재고 네트워크가 잘 되어 있어서 그래서 더 빠른 듯 굿굿 애플은 하이마트\",\n",
    "    \"구형 맥북 배터리 교환때문에 고민을 하던 찰나에 좋은 가격에 잘 구입했습니다. 역시 11번가 입니다\",\n",
    "    \"슈팅 배송 맞구요. 스페이스그레이 가볍지 않고 너무 예뻐요. 그랜드11절 기다린 보람이 있네요.\",\n",
    "    \"인터넷 서핑 동영상 음악 감상용으로 나쁘지않아요대신 영상작업이나 포토샵하기엔 아쉽습니다.\",\n",
    "    \"배송도 진짜 빠르고 정말 좋습니다 추천 드려요\",\n",
    "    \"좋은상품 저렴하게 잘 구매했습니다 감사합니다\",\n",
    "    \"역시 맥북 최고입니다!!\",\n",
    "    \"빠른배송에 만족합니다 잘 사용할게요\",\n",
    "    \"오 너무 잘샀아요강추해요!\"\n",
    "]\n",
    "reviews = [line.split() for line in reviews]\n",
    "tokenizer = tf.keras.preprocessing.text.Tokenizer()\n",
    "\n",
    "# Updates internal vocabulary based on a list of sequences.\n",
    "tokenizer.fit_on_texts(reviews)\n",
    "print('tokenizer.index_word', tokenizer.index_word)\n",
    "print('tokenizer.word_index', tokenizer.word_index)\n",
    "encoded_reviews=tokenizer.texts_to_sequences(reviews)\n",
    "encoded_reviews=tf.keras.preprocessing.sequence.pad_sequences(encoded_reviews)\n",
    "for review in encoded_reviews:\n",
    "  print(tf.keras.utils.to_categorical(review))"
   ]
  }
 ],
 "metadata": {
  "language_info": {
   "name": "python"
  },
  "orig_nbformat": 4
 },
 "nbformat": 4,
 "nbformat_minor": 2
}
