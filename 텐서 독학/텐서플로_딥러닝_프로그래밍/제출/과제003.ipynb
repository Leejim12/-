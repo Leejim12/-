{
 "cells": [
  {
   "cell_type": "code",
   "execution_count": null,
   "metadata": {},
   "outputs": [],
   "source": [
    "import tensorflow as tf\n",
    "import numpy as np\n",
    "import matplotlib.pyplot as plt\n",
    "#1\n",
    "(x_train, y_train), (x_test, y_test) = tf.keras.datasets.mnist.load_data()\n",
    "print(\"x_train.shape=\", x_train.shape) # (60000, 28, 28)\n",
    "print(\"y_train.shape=\", y_train.shape) # (60000,)\n",
    "print(\"x_test.shape=\",  x_test.shape)  # (10000, 28, 28)\n",
    "print(\"y_test.shape=\",  y_test.shape)  # (10000,)\n",
    "\n",
    "#2\n",
    "nlabel, count = np.unique(y_train, return_counts=True)\n",
    "print(\"nlabel:\", nlabel)\n",
    "print(\"count:\",  count)\n",
    "print(\"# of Class:\",  len(nlabel) )\n",
    "\n",
    "#3: display images\n",
    "print(\"y_train[:8]=\",y_train[:8])\n",
    "fig = plt.figure(figsize=(8, 4))\n",
    "for i in [1,5,6,75,100]:  \n",
    "    plt.imshow(x_train[i], cmap='gray')\n",
    "    plt.axis(\"off\")\n",
    "fig.tight_layout()\n",
    "plt.show()"
   ]
  }
 ],
 "metadata": {
  "language_info": {
   "name": "python"
  },
  "orig_nbformat": 4
 },
 "nbformat": 4,
 "nbformat_minor": 2
}
