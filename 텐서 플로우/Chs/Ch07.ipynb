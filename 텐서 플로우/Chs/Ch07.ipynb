{
 "cells": [
  {
   "attachments": {},
   "cell_type": "markdown",
   "metadata": {},
   "source": [
    "### 학습 기본 과정\n",
    "1. 전처리\n",
    "  -1. 정규화\n",
    "  -2. 원 핫 인코딩 벡터 변환\n",
    "    * tf.keras.utils.to_categorical\n",
    "2. 모델 구축 (Dense layer -> MLP)\n",
    "3. 스케줄러 정의\n",
    "4. 훈련 (by using 'model.fit') "
   ]
  },
  {
   "cell_type": "code",
   "execution_count": 1,
   "metadata": {},
   "outputs": [],
   "source": [
    "## Basic\n",
    "## import\n",
    "import tensorflow as tf\n",
    "from tensorflow.keras.datasets import mnist\n",
    "import numpy as np\n",
    "import matplotlib.pyplot as plt\n",
    "\n",
    "# train, test data 생성\n",
    "(x_train,y_train),(x_test,y_test) = \\\n",
    "  mnist.load_data()"
   ]
  },
  {
   "cell_type": "code",
   "execution_count": null,
   "metadata": {},
   "outputs": [],
   "source": [
    "# 1. 전처리\n",
    "## -1. 정규화\n",
    "x_train = x_train.astype('float32')\n",
    "x_test = x_test.astype('float32')\n",
    "x_train /= 255.0 ## 표준편차 1.\n",
    "x_test /= 255.0"
   ]
  },
  {
   "cell_type": "code",
   "execution_count": null,
   "metadata": {},
   "outputs": [],
   "source": [
    "## -2. 원 핫 인코딩 벡터 변환\n",
    "y_train = tf.keras.utils.to_categorical(y_train)\n",
    "y_test = tf.keras.utils.to_categorical(y_test)"
   ]
  },
  {
   "cell_type": "code",
   "execution_count": 15,
   "metadata": {},
   "outputs": [
    {
     "name": "stdout",
     "output_type": "stream",
     "text": [
      "Model: \"sequential_5\"\n",
      "_________________________________________________________________\n",
      " Layer (type)                Output Shape              Param #   \n",
      "=================================================================\n",
      " flatten_5 (Flatten)         (None, 784)               0         \n",
      "                                                                 \n",
      " dense_6 (Dense)             (None, 5)                 3925      \n",
      "                                                                 \n",
      " dense_7 (Dense)             (None, 10)                60        \n",
      "                                                                 \n",
      "=================================================================\n",
      "Total params: 3,985\n",
      "Trainable params: 3,985\n",
      "Non-trainable params: 0\n",
      "_________________________________________________________________\n"
     ]
    }
   ],
   "source": [
    "# 2. 모델 구축\n",
    "model = tf.keras.Sequential()\n",
    "model.add(tf.keras.layers.Flatten(input_shape=(28,28)))\n",
    "model.add(tf.keras.layers.Dense(units=5,activation='sigmoid'))\n",
    "model.add(tf.keras.layers.Dense(units=10,activation='softmax'))\n",
    "model.summary()\n",
    "\n",
    "opt = tf.keras.optimizers.RMSprop(learning_rate=0.01)\n",
    "model.compile(optimizer=opt,loss='categorical_crossentropy',metrics=['accuracy'])"
   ]
  },
  {
   "cell_type": "code",
   "execution_count": 14,
   "metadata": {},
   "outputs": [
    {
     "name": "stdout",
     "output_type": "stream",
     "text": [
      "Epoch 1/100\n",
      "240/240 - 1s - loss: 1.1159 - accuracy: 0.7198 - val_loss: 0.6896 - val_accuracy: 0.8134 - 701ms/epoch - 3ms/step\n",
      "Epoch 2/100\n",
      "240/240 - 0s - loss: 0.6116 - accuracy: 0.8300 - val_loss: 0.5084 - val_accuracy: 0.8583 - 315ms/epoch - 1ms/step\n",
      "Epoch 3/100\n",
      "240/240 - 0s - loss: 0.5105 - accuracy: 0.8558 - val_loss: 0.4619 - val_accuracy: 0.8712 - 336ms/epoch - 1ms/step\n",
      "Epoch 4/100\n",
      "240/240 - 0s - loss: 0.4778 - accuracy: 0.8636 - val_loss: 0.4391 - val_accuracy: 0.8758 - 337ms/epoch - 1ms/step\n",
      "Epoch 5/100\n",
      "240/240 - 0s - loss: 0.4608 - accuracy: 0.8681 - val_loss: 0.4332 - val_accuracy: 0.8770 - 347ms/epoch - 1ms/step\n",
      "Epoch 6/100\n",
      "240/240 - 0s - loss: 0.4477 - accuracy: 0.8716 - val_loss: 0.4400 - val_accuracy: 0.8717 - 352ms/epoch - 1ms/step\n",
      "Epoch 6: early stopping\n"
     ]
    }
   ],
   "source": [
    "# ** 콜백설정\n",
    "## ==> 특정 조건에서 모델 조기종료\n",
    "callback =tf.keras.callbacks.EarlyStopping(monitor='val_loss',\n",
    "                                           min_delta=0.001,#최소갱신값\n",
    "                                           patience=1,     #위반허용횟수\n",
    "                                           verbose=1,      #메시지 출력\n",
    "                                           mode='auto')    #min:감소시 스탑\n",
    "                                                           #max:증가시 스탑\n",
    "## 학습\n",
    "ret = model.fit(x_train,y_train,epochs=100,batch_size=200,\n",
    "                validation_split=0.2,verbose=2,callbacks=[callback])"
   ]
  },
  {
   "attachments": {},
   "cell_type": "markdown",
   "metadata": {},
   "source": [
    "* overfitting\n",
    ": loss 가 학습데이터에서는 떨어지는데,\n",
    "실제에서 오히려 더 나빠지는 현상\n",
    "  - why? "
   ]
  },
  {
   "cell_type": "code",
   "execution_count": null,
   "metadata": {},
   "outputs": [],
   "source": [
    "# 스케줄러 정의\n",
    "def scheduler(epoch,lr):\n",
    "  if epoch % 2 == 0 and epoch:\n",
    "    return 0.1*lr\n",
    "  return lr\n",
    "## 2에폭 간격,학습률 0.1*learning rate로 감소.\n",
    "## 변화된 학습률은 다음 에폭에 반영\n",
    "\n",
    "callback = tf.keras.callbacks.LearningRateScheduler(scheduler,verbose=1)"
   ]
  },
  {
   "attachments": {},
   "cell_type": "markdown",
   "metadata": {},
   "source": [
    "### 텐서보드 사용\n",
    "텐서보드 : 모델 정확도, 손실, 가중치, 히스토그램 등 시각화"
   ]
  },
  {
   "cell_type": "code",
   "execution_count": 2,
   "metadata": {},
   "outputs": [],
   "source": [
    "# basic\n",
    "import tensorflow as tf\n",
    "from tensorflow.keras.datasets import mnist\n",
    "import numpy as np\n",
    "import matplotlib.pyplot as plt\n",
    "import datetime"
   ]
  },
  {
   "cell_type": "code",
   "execution_count": 5,
   "metadata": {},
   "outputs": [],
   "source": [
    "# 전처리\n",
    "## 생성\n",
    "(x_train,y_train),(x_test,y_test)=\\\n",
    "  mnist.load_data()\n",
    "## 정규화\n",
    "x_train = x_train.astype('float32')\n",
    "x_test = x_test.astype('float32')\n",
    "x_train /= 255.0\n",
    "x_test /= 255.0\n",
    "\n",
    "## one-hot\n",
    "y_train = tf.keras.utils.to_categorical(y_train)\n",
    "y_test = tf.keras.utils.to_categorical(y_test)"
   ]
  },
  {
   "cell_type": "code",
   "execution_count": 7,
   "metadata": {},
   "outputs": [],
   "source": [
    "# 모델 생성 및 추가\n",
    "model = tf.keras.Sequential()\n",
    "model.add(tf.keras.layers.Flatten(input_shape=(28,28)))\n",
    "model.add(tf.keras.layers.Dense(units=5,activation='sigmoid'))\n",
    "model.add(tf.keras.layers.Dense(units=10,activation='softmax'))\n",
    "\n",
    "opt = tf.keras.optimizers.RMSprop(learning_rate=0.01)\n",
    "model.compile(optimizer=opt,loss='categorical_crossentropy',metrics=['accuracy'])"
   ]
  },
  {
   "cell_type": "code",
   "execution_count": 24,
   "metadata": {},
   "outputs": [
    {
     "name": "stdout",
     "output_type": "stream",
     "text": [
      "Epoch 1/100\n",
      "240/240 - 0s - loss: 0.3692 - accuracy: 0.8991 - val_loss: 0.4526 - val_accuracy: 0.8771 - 366ms/epoch - 2ms/step\n",
      "Epoch 2/100\n",
      "240/240 - 0s - loss: 0.3697 - accuracy: 0.8982 - val_loss: 0.4525 - val_accuracy: 0.8797 - 350ms/epoch - 1ms/step\n",
      "Epoch 3/100\n",
      "240/240 - 0s - loss: 0.3694 - accuracy: 0.8996 - val_loss: 0.4334 - val_accuracy: 0.8848 - 340ms/epoch - 1ms/step\n",
      "Epoch 4/100\n",
      "240/240 - 0s - loss: 0.3697 - accuracy: 0.8988 - val_loss: 0.4340 - val_accuracy: 0.8829 - 338ms/epoch - 1ms/step\n",
      "Epoch 5/100\n",
      "240/240 - 0s - loss: 0.3716 - accuracy: 0.8989 - val_loss: 0.4470 - val_accuracy: 0.8781 - 347ms/epoch - 1ms/step\n",
      "Epoch 6/100\n",
      "240/240 - 0s - loss: 0.3692 - accuracy: 0.8984 - val_loss: 0.4442 - val_accuracy: 0.8802 - 334ms/epoch - 1ms/step\n",
      "Epoch 7/100\n",
      "240/240 - 0s - loss: 0.3688 - accuracy: 0.8982 - val_loss: 0.4424 - val_accuracy: 0.8786 - 331ms/epoch - 1ms/step\n",
      "Epoch 8/100\n",
      "240/240 - 0s - loss: 0.3688 - accuracy: 0.8993 - val_loss: 0.4420 - val_accuracy: 0.8809 - 333ms/epoch - 1ms/step\n",
      "Epoch 9/100\n",
      "240/240 - 0s - loss: 0.3699 - accuracy: 0.8994 - val_loss: 0.4396 - val_accuracy: 0.8800 - 330ms/epoch - 1ms/step\n",
      "Epoch 10/100\n",
      "240/240 - 0s - loss: 0.3684 - accuracy: 0.8988 - val_loss: 0.4332 - val_accuracy: 0.8838 - 327ms/epoch - 1ms/step\n",
      "Epoch 11/100\n",
      "240/240 - 0s - loss: 0.3678 - accuracy: 0.8998 - val_loss: 0.4411 - val_accuracy: 0.8817 - 365ms/epoch - 2ms/step\n",
      "Epoch 12/100\n",
      "240/240 - 0s - loss: 0.3694 - accuracy: 0.8992 - val_loss: 0.4428 - val_accuracy: 0.8809 - 334ms/epoch - 1ms/step\n",
      "Epoch 13/100\n",
      "240/240 - 0s - loss: 0.3690 - accuracy: 0.8991 - val_loss: 0.4486 - val_accuracy: 0.8762 - 329ms/epoch - 1ms/step\n",
      "Epoch 14/100\n",
      "240/240 - 0s - loss: 0.3684 - accuracy: 0.8992 - val_loss: 0.4482 - val_accuracy: 0.8764 - 331ms/epoch - 1ms/step\n",
      "Epoch 15/100\n",
      "240/240 - 0s - loss: 0.3676 - accuracy: 0.8998 - val_loss: 0.4441 - val_accuracy: 0.8816 - 339ms/epoch - 1ms/step\n",
      "Epoch 16/100\n",
      "240/240 - 0s - loss: 0.3689 - accuracy: 0.8991 - val_loss: 0.4396 - val_accuracy: 0.8820 - 328ms/epoch - 1ms/step\n",
      "Epoch 17/100\n",
      "240/240 - 0s - loss: 0.3679 - accuracy: 0.9003 - val_loss: 0.4499 - val_accuracy: 0.8750 - 293ms/epoch - 1ms/step\n",
      "Epoch 18/100\n",
      "240/240 - 0s - loss: 0.3672 - accuracy: 0.8999 - val_loss: 0.4420 - val_accuracy: 0.8796 - 337ms/epoch - 1ms/step\n",
      "Epoch 19/100\n",
      "240/240 - 0s - loss: 0.3673 - accuracy: 0.8998 - val_loss: 0.4364 - val_accuracy: 0.8823 - 335ms/epoch - 1ms/step\n",
      "Epoch 20/100\n",
      "240/240 - 0s - loss: 0.3689 - accuracy: 0.8985 - val_loss: 0.4457 - val_accuracy: 0.8792 - 328ms/epoch - 1ms/step\n",
      "Epoch 21/100\n",
      "240/240 - 0s - loss: 0.3683 - accuracy: 0.8992 - val_loss: 0.4456 - val_accuracy: 0.8805 - 362ms/epoch - 2ms/step\n",
      "Epoch 22/100\n",
      "240/240 - 0s - loss: 0.3676 - accuracy: 0.8995 - val_loss: 0.4418 - val_accuracy: 0.8797 - 333ms/epoch - 1ms/step\n",
      "Epoch 23/100\n",
      "240/240 - 0s - loss: 0.3681 - accuracy: 0.8999 - val_loss: 0.4477 - val_accuracy: 0.8802 - 321ms/epoch - 1ms/step\n",
      "Epoch 24/100\n",
      "240/240 - 0s - loss: 0.3696 - accuracy: 0.8991 - val_loss: 0.4395 - val_accuracy: 0.8799 - 340ms/epoch - 1ms/step\n",
      "Epoch 25/100\n",
      "240/240 - 0s - loss: 0.3679 - accuracy: 0.8997 - val_loss: 0.4442 - val_accuracy: 0.8821 - 337ms/epoch - 1ms/step\n",
      "Epoch 26/100\n",
      "240/240 - 0s - loss: 0.3678 - accuracy: 0.8995 - val_loss: 0.4505 - val_accuracy: 0.8806 - 321ms/epoch - 1ms/step\n",
      "Epoch 27/100\n",
      "240/240 - 0s - loss: 0.3665 - accuracy: 0.9005 - val_loss: 0.4457 - val_accuracy: 0.8799 - 325ms/epoch - 1ms/step\n",
      "Epoch 28/100\n",
      "240/240 - 0s - loss: 0.3692 - accuracy: 0.8995 - val_loss: 0.4404 - val_accuracy: 0.8814 - 329ms/epoch - 1ms/step\n",
      "Epoch 29/100\n",
      "240/240 - 0s - loss: 0.3679 - accuracy: 0.8991 - val_loss: 0.4485 - val_accuracy: 0.8763 - 332ms/epoch - 1ms/step\n",
      "Epoch 30/100\n",
      "240/240 - 0s - loss: 0.3674 - accuracy: 0.8996 - val_loss: 0.4411 - val_accuracy: 0.8825 - 332ms/epoch - 1ms/step\n",
      "Epoch 31/100\n",
      "240/240 - 0s - loss: 0.3675 - accuracy: 0.9010 - val_loss: 0.4484 - val_accuracy: 0.8792 - 367ms/epoch - 2ms/step\n",
      "Epoch 32/100\n",
      "240/240 - 0s - loss: 0.3664 - accuracy: 0.8997 - val_loss: 0.4729 - val_accuracy: 0.8708 - 333ms/epoch - 1ms/step\n",
      "Epoch 33/100\n",
      "240/240 - 0s - loss: 0.3674 - accuracy: 0.8989 - val_loss: 0.4700 - val_accuracy: 0.8748 - 333ms/epoch - 1ms/step\n",
      "Epoch 34/100\n",
      "240/240 - 0s - loss: 0.3674 - accuracy: 0.9001 - val_loss: 0.4556 - val_accuracy: 0.8796 - 334ms/epoch - 1ms/step\n",
      "Epoch 35/100\n",
      "240/240 - 0s - loss: 0.3661 - accuracy: 0.9003 - val_loss: 0.4490 - val_accuracy: 0.8809 - 342ms/epoch - 1ms/step\n",
      "Epoch 36/100\n",
      "240/240 - 0s - loss: 0.3667 - accuracy: 0.9000 - val_loss: 0.4452 - val_accuracy: 0.8822 - 330ms/epoch - 1ms/step\n",
      "Epoch 37/100\n",
      "240/240 - 0s - loss: 0.3668 - accuracy: 0.8999 - val_loss: 0.4478 - val_accuracy: 0.8817 - 330ms/epoch - 1ms/step\n",
      "Epoch 38/100\n",
      "240/240 - 0s - loss: 0.3667 - accuracy: 0.9006 - val_loss: 0.4510 - val_accuracy: 0.8804 - 328ms/epoch - 1ms/step\n",
      "Epoch 39/100\n",
      "240/240 - 0s - loss: 0.3675 - accuracy: 0.8994 - val_loss: 0.4386 - val_accuracy: 0.8854 - 308ms/epoch - 1ms/step\n",
      "Epoch 40/100\n",
      "240/240 - 0s - loss: 0.3669 - accuracy: 0.9001 - val_loss: 0.4408 - val_accuracy: 0.8846 - 335ms/epoch - 1ms/step\n",
      "Epoch 41/100\n",
      "240/240 - 0s - loss: 0.3671 - accuracy: 0.8997 - val_loss: 0.4419 - val_accuracy: 0.8794 - 365ms/epoch - 2ms/step\n",
      "Epoch 42/100\n",
      "240/240 - 0s - loss: 0.3685 - accuracy: 0.8990 - val_loss: 0.4469 - val_accuracy: 0.8813 - 335ms/epoch - 1ms/step\n",
      "Epoch 43/100\n",
      "240/240 - 0s - loss: 0.3668 - accuracy: 0.9007 - val_loss: 0.4406 - val_accuracy: 0.8818 - 335ms/epoch - 1ms/step\n",
      "Epoch 44/100\n",
      "240/240 - 0s - loss: 0.3673 - accuracy: 0.9003 - val_loss: 0.4522 - val_accuracy: 0.8794 - 337ms/epoch - 1ms/step\n",
      "Epoch 45/100\n",
      "240/240 - 0s - loss: 0.3677 - accuracy: 0.9003 - val_loss: 0.4433 - val_accuracy: 0.8822 - 331ms/epoch - 1ms/step\n",
      "Epoch 46/100\n",
      "240/240 - 0s - loss: 0.3652 - accuracy: 0.9009 - val_loss: 0.4726 - val_accuracy: 0.8743 - 320ms/epoch - 1ms/step\n",
      "Epoch 47/100\n",
      "240/240 - 0s - loss: 0.3669 - accuracy: 0.9003 - val_loss: 0.4530 - val_accuracy: 0.8771 - 336ms/epoch - 1ms/step\n",
      "Epoch 48/100\n",
      "240/240 - 0s - loss: 0.3662 - accuracy: 0.9008 - val_loss: 0.4568 - val_accuracy: 0.8753 - 322ms/epoch - 1ms/step\n",
      "Epoch 49/100\n",
      "240/240 - 0s - loss: 0.3667 - accuracy: 0.9003 - val_loss: 0.4516 - val_accuracy: 0.8802 - 338ms/epoch - 1ms/step\n",
      "Epoch 50/100\n",
      "240/240 - 0s - loss: 0.3670 - accuracy: 0.9004 - val_loss: 0.4467 - val_accuracy: 0.8808 - 335ms/epoch - 1ms/step\n",
      "Epoch 51/100\n",
      "240/240 - 0s - loss: 0.3675 - accuracy: 0.9000 - val_loss: 0.4440 - val_accuracy: 0.8807 - 370ms/epoch - 2ms/step\n",
      "Epoch 52/100\n",
      "240/240 - 0s - loss: 0.3658 - accuracy: 0.9012 - val_loss: 0.4438 - val_accuracy: 0.8834 - 335ms/epoch - 1ms/step\n",
      "Epoch 53/100\n",
      "240/240 - 0s - loss: 0.3667 - accuracy: 0.9013 - val_loss: 0.4502 - val_accuracy: 0.8802 - 329ms/epoch - 1ms/step\n",
      "Epoch 54/100\n",
      "240/240 - 0s - loss: 0.3663 - accuracy: 0.9009 - val_loss: 0.4619 - val_accuracy: 0.8768 - 326ms/epoch - 1ms/step\n",
      "Epoch 55/100\n",
      "240/240 - 0s - loss: 0.3654 - accuracy: 0.9000 - val_loss: 0.4744 - val_accuracy: 0.8734 - 313ms/epoch - 1ms/step\n",
      "Epoch 56/100\n",
      "240/240 - 0s - loss: 0.3658 - accuracy: 0.9007 - val_loss: 0.4517 - val_accuracy: 0.8808 - 355ms/epoch - 1ms/step\n",
      "Epoch 57/100\n",
      "240/240 - 0s - loss: 0.3659 - accuracy: 0.9004 - val_loss: 0.4459 - val_accuracy: 0.8816 - 322ms/epoch - 1ms/step\n",
      "Epoch 58/100\n",
      "240/240 - 0s - loss: 0.3669 - accuracy: 0.8997 - val_loss: 0.4433 - val_accuracy: 0.8822 - 307ms/epoch - 1ms/step\n",
      "Epoch 59/100\n",
      "240/240 - 0s - loss: 0.3663 - accuracy: 0.9002 - val_loss: 0.4484 - val_accuracy: 0.8798 - 324ms/epoch - 1ms/step\n",
      "Epoch 60/100\n",
      "240/240 - 0s - loss: 0.3657 - accuracy: 0.9014 - val_loss: 0.4560 - val_accuracy: 0.8786 - 333ms/epoch - 1ms/step\n",
      "Epoch 61/100\n",
      "240/240 - 0s - loss: 0.3663 - accuracy: 0.9007 - val_loss: 0.4498 - val_accuracy: 0.8794 - 365ms/epoch - 2ms/step\n",
      "Epoch 62/100\n",
      "240/240 - 0s - loss: 0.3660 - accuracy: 0.9007 - val_loss: 0.4575 - val_accuracy: 0.8780 - 334ms/epoch - 1ms/step\n",
      "Epoch 63/100\n",
      "240/240 - 0s - loss: 0.3663 - accuracy: 0.9007 - val_loss: 0.4734 - val_accuracy: 0.8748 - 320ms/epoch - 1ms/step\n",
      "Epoch 64/100\n",
      "240/240 - 0s - loss: 0.3668 - accuracy: 0.8999 - val_loss: 0.4480 - val_accuracy: 0.8802 - 330ms/epoch - 1ms/step\n",
      "Epoch 65/100\n",
      "240/240 - 0s - loss: 0.3646 - accuracy: 0.9015 - val_loss: 0.4512 - val_accuracy: 0.8801 - 320ms/epoch - 1ms/step\n",
      "Epoch 66/100\n",
      "240/240 - 0s - loss: 0.3658 - accuracy: 0.9012 - val_loss: 0.4487 - val_accuracy: 0.8799 - 338ms/epoch - 1ms/step\n",
      "Epoch 67/100\n",
      "240/240 - 0s - loss: 0.3663 - accuracy: 0.9010 - val_loss: 0.4556 - val_accuracy: 0.8801 - 333ms/epoch - 1ms/step\n",
      "Epoch 68/100\n",
      "240/240 - 0s - loss: 0.3659 - accuracy: 0.9005 - val_loss: 0.4498 - val_accuracy: 0.8809 - 326ms/epoch - 1ms/step\n",
      "Epoch 69/100\n",
      "240/240 - 0s - loss: 0.3668 - accuracy: 0.9004 - val_loss: 0.4502 - val_accuracy: 0.8805 - 357ms/epoch - 1ms/step\n",
      "Epoch 70/100\n",
      "240/240 - 0s - loss: 0.3657 - accuracy: 0.9018 - val_loss: 0.4452 - val_accuracy: 0.8823 - 336ms/epoch - 1ms/step\n",
      "Epoch 71/100\n",
      "240/240 - 0s - loss: 0.3660 - accuracy: 0.9014 - val_loss: 0.4503 - val_accuracy: 0.8802 - 366ms/epoch - 2ms/step\n",
      "Epoch 72/100\n",
      "240/240 - 0s - loss: 0.3651 - accuracy: 0.9015 - val_loss: 0.4730 - val_accuracy: 0.8738 - 333ms/epoch - 1ms/step\n",
      "Epoch 73/100\n",
      "240/240 - 0s - loss: 0.3668 - accuracy: 0.9005 - val_loss: 0.4633 - val_accuracy: 0.8783 - 333ms/epoch - 1ms/step\n",
      "Epoch 74/100\n",
      "240/240 - 0s - loss: 0.3652 - accuracy: 0.9013 - val_loss: 0.4534 - val_accuracy: 0.8778 - 338ms/epoch - 1ms/step\n",
      "Epoch 75/100\n",
      "240/240 - 0s - loss: 0.3650 - accuracy: 0.9010 - val_loss: 0.4529 - val_accuracy: 0.8800 - 333ms/epoch - 1ms/step\n",
      "Epoch 76/100\n",
      "240/240 - 0s - loss: 0.3663 - accuracy: 0.9011 - val_loss: 0.4475 - val_accuracy: 0.8797 - 335ms/epoch - 1ms/step\n",
      "Epoch 77/100\n",
      "240/240 - 0s - loss: 0.3655 - accuracy: 0.9003 - val_loss: 0.4501 - val_accuracy: 0.8794 - 336ms/epoch - 1ms/step\n",
      "Epoch 78/100\n",
      "240/240 - 0s - loss: 0.3660 - accuracy: 0.9009 - val_loss: 0.4491 - val_accuracy: 0.8808 - 343ms/epoch - 1ms/step\n",
      "Epoch 79/100\n",
      "240/240 - 0s - loss: 0.3653 - accuracy: 0.9010 - val_loss: 0.4526 - val_accuracy: 0.8816 - 331ms/epoch - 1ms/step\n",
      "Epoch 80/100\n",
      "240/240 - 0s - loss: 0.3652 - accuracy: 0.8999 - val_loss: 0.4628 - val_accuracy: 0.8780 - 334ms/epoch - 1ms/step\n",
      "Epoch 81/100\n",
      "240/240 - 0s - loss: 0.3676 - accuracy: 0.9003 - val_loss: 0.4515 - val_accuracy: 0.8800 - 361ms/epoch - 2ms/step\n",
      "Epoch 82/100\n",
      "240/240 - 0s - loss: 0.3653 - accuracy: 0.9011 - val_loss: 0.4510 - val_accuracy: 0.8794 - 333ms/epoch - 1ms/step\n",
      "Epoch 83/100\n",
      "240/240 - 0s - loss: 0.3654 - accuracy: 0.9018 - val_loss: 0.4538 - val_accuracy: 0.8801 - 329ms/epoch - 1ms/step\n",
      "Epoch 84/100\n",
      "240/240 - 0s - loss: 0.3648 - accuracy: 0.9011 - val_loss: 0.4549 - val_accuracy: 0.8796 - 335ms/epoch - 1ms/step\n",
      "Epoch 85/100\n",
      "240/240 - 0s - loss: 0.3657 - accuracy: 0.9013 - val_loss: 0.4513 - val_accuracy: 0.8797 - 313ms/epoch - 1ms/step\n",
      "Epoch 86/100\n",
      "240/240 - 0s - loss: 0.3650 - accuracy: 0.9019 - val_loss: 0.4576 - val_accuracy: 0.8807 - 333ms/epoch - 1ms/step\n",
      "Epoch 87/100\n",
      "240/240 - 0s - loss: 0.3664 - accuracy: 0.9007 - val_loss: 0.4560 - val_accuracy: 0.8802 - 325ms/epoch - 1ms/step\n",
      "Epoch 88/100\n",
      "240/240 - 0s - loss: 0.3643 - accuracy: 0.9016 - val_loss: 0.4581 - val_accuracy: 0.8789 - 331ms/epoch - 1ms/step\n",
      "Epoch 89/100\n",
      "240/240 - 0s - loss: 0.3658 - accuracy: 0.9010 - val_loss: 0.4501 - val_accuracy: 0.8813 - 319ms/epoch - 1ms/step\n",
      "Epoch 90/100\n",
      "240/240 - 0s - loss: 0.3643 - accuracy: 0.9012 - val_loss: 0.4585 - val_accuracy: 0.8762 - 338ms/epoch - 1ms/step\n",
      "Epoch 91/100\n",
      "240/240 - 0s - loss: 0.3654 - accuracy: 0.9008 - val_loss: 0.4586 - val_accuracy: 0.8791 - 371ms/epoch - 2ms/step\n",
      "Epoch 92/100\n",
      "240/240 - 0s - loss: 0.3649 - accuracy: 0.9001 - val_loss: 0.4577 - val_accuracy: 0.8770 - 318ms/epoch - 1ms/step\n",
      "Epoch 93/100\n",
      "240/240 - 0s - loss: 0.3657 - accuracy: 0.9009 - val_loss: 0.4673 - val_accuracy: 0.8777 - 329ms/epoch - 1ms/step\n",
      "Epoch 94/100\n",
      "240/240 - 0s - loss: 0.3645 - accuracy: 0.9018 - val_loss: 0.4503 - val_accuracy: 0.8796 - 334ms/epoch - 1ms/step\n",
      "Epoch 95/100\n",
      "240/240 - 0s - loss: 0.3658 - accuracy: 0.9019 - val_loss: 0.4626 - val_accuracy: 0.8755 - 335ms/epoch - 1ms/step\n",
      "Epoch 96/100\n",
      "240/240 - 0s - loss: 0.3648 - accuracy: 0.9019 - val_loss: 0.4574 - val_accuracy: 0.8777 - 308ms/epoch - 1ms/step\n",
      "Epoch 97/100\n",
      "240/240 - 0s - loss: 0.3662 - accuracy: 0.9002 - val_loss: 0.4517 - val_accuracy: 0.8799 - 336ms/epoch - 1ms/step\n",
      "Epoch 98/100\n",
      "240/240 - 0s - loss: 0.3660 - accuracy: 0.9009 - val_loss: 0.4545 - val_accuracy: 0.8778 - 331ms/epoch - 1ms/step\n",
      "Epoch 99/100\n",
      "240/240 - 0s - loss: 0.3651 - accuracy: 0.9007 - val_loss: 0.4732 - val_accuracy: 0.8759 - 333ms/epoch - 1ms/step\n",
      "Epoch 100/100\n",
      "240/240 - 0s - loss: 0.3649 - accuracy: 0.9006 - val_loss: 0.4557 - val_accuracy: 0.8795 - 320ms/epoch - 1ms/step\n"
     ]
    }
   ],
   "source": [
    "# 텐서보드 사용\n",
    "import os\n",
    "path = \"/Users/user/Desktop/\"\n",
    "if not os.path.isdir(path):\n",
    "  os.mkdir(path)\n",
    "log_dir = path+\"3101\"\n",
    "\n",
    "callback = tf.keras.callbacks.TensorBoard(log_dir=log_dir,update_freq='epoch',\n",
    "                                          histogram_freq=10,write_images=True)\n",
    "\n",
    "ret = model.fit(x_train,y_train,epochs=100,batch_size=200,\n",
    "                validation_split=0.2,verbose=2,callbacks=[callback])\n"
   ]
  },
  {
   "cell_type": "code",
   "execution_count": 33,
   "metadata": {},
   "outputs": [
    {
     "name": "stdout",
     "output_type": "stream",
     "text": [
      "The tensorboard extension is already loaded. To reload it, use:\n",
      "  %reload_ext tensorboard\n"
     ]
    },
    {
     "data": {
      "text/plain": [
       "ERROR: Could not find `tensorboard`. Please ensure that your PATH\n",
       "contains an executable `tensorboard` program, or explicitly specify\n",
       "the path to a TensorBoard binary by setting the `TENSORBOARD_BINARY`\n",
       "environment variable."
      ]
     },
     "metadata": {},
     "output_type": "display_data"
    }
   ],
   "source": [
    "%load_ext tensorboard\n",
    "%tensorboard --logdir {log_dir}"
   ]
  },
  {
   "cell_type": "code",
   "execution_count": 32,
   "metadata": {},
   "outputs": [],
   "source": [
    "%reload_ext tensorboard"
   ]
  }
 ],
 "metadata": {
  "kernelspec": {
   "display_name": "base",
   "language": "python",
   "name": "python3"
  },
  "language_info": {
   "codemirror_mode": {
    "name": "ipython",
    "version": 3
   },
   "file_extension": ".py",
   "mimetype": "text/x-python",
   "name": "python",
   "nbconvert_exporter": "python",
   "pygments_lexer": "ipython3",
   "version": "3.9.13"
  },
  "orig_nbformat": 4,
  "vscode": {
   "interpreter": {
    "hash": "ad2bdc8ecc057115af97d19610ffacc2b4e99fae6737bb82f5d7fb13d2f2c186"
   }
  }
 },
 "nbformat": 4,
 "nbformat_minor": 2
}
