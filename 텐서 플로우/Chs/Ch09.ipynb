{
 "cells": [
  {
   "attachments": {},
   "cell_type": "markdown",
   "metadata": {},
   "source": [
    "### CNN"
   ]
  },
  {
   "cell_type": "code",
   "execution_count": 2,
   "metadata": {},
   "outputs": [],
   "source": [
    "import tensorflow as tf\n",
    "import numpy as np"
   ]
  },
  {
   "cell_type": "code",
   "execution_count": 3,
   "metadata": {},
   "outputs": [
    {
     "name": "stdout",
     "output_type": "stream",
     "text": [
      "[0. 0. 1. 2. 3. 4. 5. 0. 0.]\n",
      "[3. 2. 1. 2. 3. 4. 5. 4. 3.]\n",
      "[2. 1. 1. 2. 3. 4. 5. 5. 4.]\n"
     ]
    }
   ],
   "source": [
    "# 패딩 : 경계값 처리\n",
    "# tf.pad(tensor,paddings,mode='constant',constant_values=0,name=None)\n",
    "\n",
    "#1 . 1D input\n",
    "A = np.array([1,2,3,4,5]).astype('float32')\n",
    "\n",
    "#2 . \n",
    "p=2\n",
    "paddings = np.array([[p,p]])\n",
    "\n",
    "#3 . \n",
    "B = tf.pad(A,paddings,\"constant\")\n",
    "# [0. 0. 1. 2. 3. 4. 5. 0. 0.]\n",
    "C = tf.pad(A,paddings,\"reflect\")\n",
    "# [3. 2. 1. 2. 3. 4. 5. 4. 3.]\n",
    "D = tf.pad(A,paddings,\"symmetric\")\n",
    "# [2. 1. 1. 2. 3. 4. 5. 5. 4.]\n",
    "\n",
    "print(B.numpy())\n",
    "print(C.numpy())\n",
    "print(D.numpy())\n",
    "\n"
   ]
  },
  {
   "cell_type": "code",
   "execution_count": null,
   "metadata": {},
   "outputs": [],
   "source": [
    "import tensorflow as tf\n",
    "import numpy as np\n",
    "\n",
    "def pad1d_infor(steps,kernel_size=2,strides=1,\n",
    "                dilation_rate=1,padding='valid'):\n",
    "  k = (kernel_size-1)*dilation_rate + 1\n",
    "  if padding == 'valid':\n",
    "    new_steps = int(np.ceil((steps-k+1)/strides))\n",
    "    pad_left,pad_right = (0,0)\n",
    "    \n",
    "  "
   ]
  },
  {
   "attachments": {},
   "cell_type": "markdown",
   "metadata": {},
   "source": [
    "### 1차원 풀링 (268P)\n",
    "\n",
    "풀링 : 2개 이상 것 공유 or 조합\n",
    "CNN의 풀링 : 여러 값을 하나로 다운 샘플링\n",
    "- 훈련 파라미터 없음."
   ]
  },
  {
   "attachments": {},
   "cell_type": "markdown",
   "metadata": {},
   "source": [
    "1차원 폴링"
   ]
  },
  {
   "cell_type": "code",
   "execution_count": 15,
   "metadata": {},
   "outputs": [
    {
     "name": "stdout",
     "output_type": "stream",
     "text": [
      "2\n",
      "Model: \"sequential\"\n",
      "_________________________________________________________________\n",
      " Layer (type)                Output Shape              Param #   \n",
      "=================================================================\n",
      " max_pooling1d (MaxPooling1D  (None, 2, 1)             0         \n",
      " )                                                               \n",
      "                                                                 \n",
      "=================================================================\n",
      "Total params: 0\n",
      "Trainable params: 0\n",
      "Non-trainable params: 0\n",
      "_________________________________________________________________\n",
      "1/1 [==============================] - 0s 174ms/step\n",
      "[2. 4.]\n"
     ]
    }
   ],
   "source": [
    "#1차원 최대풀링 ## padding = \"valid\"\n",
    "import tensorflow as tf\n",
    "import numpy as np\n",
    "\n",
    "#1. GPU 메모리 부족에 대비.\n",
    "# gpus = tf.config.experimental.list_physical_devices('GPU')\n",
    "# # tf.config.experimental.set_memory_growth(gpus[0],True)\n",
    "# print(type(gpus))\n",
    "# print(gpus)\n",
    "\n",
    "#2. 1D input\n",
    "A = np.array([1,2,3,4,5]).astype('float32')\n",
    "\n",
    "#3. cal output size\n",
    "k = 2\n",
    "s = 2\n",
    "n = len(A)\n",
    "output_size = int(np.ceil((n-k+1)/s))\n",
    "print(output_size)\n",
    "\n",
    "#4. build model\n",
    "model = tf.keras.Sequential()\n",
    "model.add(tf.keras.layers.Input(shape=(5,1)))\n",
    "model.add(tf.keras.layers.MaxPool1D())\n",
    "model.summary()\n",
    "\n",
    "A = np.reshape(A,(1,5,1))\n",
    "output = model.predict(A)\n",
    "B = output.flatten()\n",
    "print(B)"
   ]
  },
  {
   "cell_type": "code",
   "execution_count": 16,
   "metadata": {},
   "outputs": [],
   "source": [
    "## 1차원 최대풀링 padding = \"same\"\n",
    "import tensorflow as tf\n",
    "import numpy as np\n",
    "\n",
    "# 1.create 1D input\n",
    "A = np.array([1,2,3,4,5]).astype('float32')\n",
    "\n",
    "# 2.calculate padding and output size\n",
    "k = 2\n",
    "s = 2\n",
    "n = len(A)\n",
    "\n",
    "##\n",
    "new_steps = int(np.ceil(n/s))\n",
    "print(new_steps)\n",
    "\n",
    "##\n",
    "pad_width = max((new_steps - 1)* s + k - n,0)\n",
    "pad_left = pad_width\n",
    "pad_right = pad_width - pad_left\n",
    "\n",
    "paddings = np.array([pad_left,pad_right])\n",
    "B = tf.pad(A,paddings,\"symmetric\")\n",
    "\n",
    "# 3.as_integer_ratio\n",
    "model = tf.keras.Sequential()\n",
    "model.add(tf.keras.layers.Input(shape=(5,1)))\n",
    "model.add(tf.keras.layers.MaxPool1D(pool_size=k,strides=s,padding=\"same\"))"
   ]
  }
 ],
 "metadata": {
  "kernelspec": {
   "display_name": "base",
   "language": "python",
   "name": "python3"
  },
  "language_info": {
   "codemirror_mode": {
    "name": "ipython",
    "version": 3
   },
   "file_extension": ".py",
   "mimetype": "text/x-python",
   "name": "python",
   "nbconvert_exporter": "python",
   "pygments_lexer": "ipython3",
   "version": "3.9.13"
  },
  "orig_nbformat": 4,
  "vscode": {
   "interpreter": {
    "hash": "ad2bdc8ecc057115af97d19610ffacc2b4e99fae6737bb82f5d7fb13d2f2c186"
   }
  }
 },
 "nbformat": 4,
 "nbformat_minor": 2
}
